{
 "cells": [
  {
   "cell_type": "markdown",
   "metadata": {},
   "source": [
    "# Constante D'équilibre"
   ]
  },
  {
   "cell_type": "code",
   "execution_count": 1,
   "metadata": {},
   "outputs": [],
   "source": [
    "%matplotlib inline\n",
    "import math"
   ]
  },
  {
   "cell_type": "markdown",
   "metadata": {},
   "source": [
    "Soit la réaction chimique suivante:\n",
    "\\begin{align*}\n",
    "2\\text{A} \\rightleftarrows \\text{B}\n",
    "\\end{align*}"
   ]
  },
  {
   "cell_type": "markdown",
   "metadata": {},
   "source": [
    "La température en Kelvin vaut:"
   ]
  },
  {
   "cell_type": "code",
   "execution_count": 2,
   "metadata": {},
   "outputs": [],
   "source": [
    "T = 298.15"
   ]
  },
  {
   "cell_type": "markdown",
   "metadata": {},
   "source": [
    "Les energies libres de Gibbs molaires de formation ($\\Delta_{\\text{f}}G^\\ominus$ en kJ/mol) à cette température valent:"
   ]
  },
  {
   "cell_type": "code",
   "execution_count": 3,
   "metadata": {},
   "outputs": [],
   "source": [
    "DeltafGstdA = -100.0"
   ]
  },
  {
   "cell_type": "code",
   "execution_count": 4,
   "metadata": {},
   "outputs": [],
   "source": [
    "DeltafGstdB = -200.0"
   ]
  },
  {
   "cell_type": "markdown",
   "metadata": {},
   "source": [
    "L'énergie libre de Gibbs standard de la réaction vaut $\\Delta_{\\text{r}}G^\\ominus = \\Delta_{\\text{f}}G^\\ominus (\\text{B}) - 2 \\Delta_{\\text{f}}G^\\ominus (\\text{A}) $"
   ]
  },
  {
   "cell_type": "code",
   "execution_count": 5,
   "metadata": {},
   "outputs": [
    {
     "name": "stdout",
     "output_type": "stream",
     "text": [
      "0.0\n"
     ]
    }
   ],
   "source": [
    "DeltarGstd = DeltafGstdB - 2 * DeltafGstdA\n",
    "print(DeltarGstd)"
   ]
  },
  {
   "cell_type": "markdown",
   "metadata": {},
   "source": [
    "Cette valeur est indépendante de la composition et donc de l'avancement de la réaction car calculée dans les conditions standards où les activités des réactifs et produits valent toutes 1"
   ]
  },
  {
   "cell_type": "markdown",
   "metadata": {},
   "source": [
    "La constante d'équilibre à la température donnée ci-dessous vaut $K=e^{-\\Delta_{\\text{r}}G^\\ominus/(RT)}$:"
   ]
  },
  {
   "cell_type": "code",
   "execution_count": 6,
   "metadata": {},
   "outputs": [
    {
     "name": "stdout",
     "output_type": "stream",
     "text": [
      "1.0\n"
     ]
    }
   ],
   "source": [
    "lnK = -DeltarGstd * 1000 / (8.3145*T)\n",
    "K = math.exp(lnK)\n",
    "print(K)"
   ]
  },
  {
   "cell_type": "markdown",
   "metadata": {},
   "source": [
    "Il ne faut pas confondre $\\Delta_{\\text{r}}G^\\ominus$ qui est donné dans les conditions standards et détermine la constante d'équilibre avec $\\Delta_{\\text{r}}G$ qui lui varie avec la composition du système et donc avec le degré d'avancement de la réaction $\\xi$."
   ]
  },
  {
   "cell_type": "markdown",
   "metadata": {},
   "source": [
    "$\\Delta_{\\text{r}}G$ indique si la réaction est spontanée dans les conditions (compositions) actuelles et vaut zéro lorsqu'on se trouve à l'équilibre:\n",
    "\\begin{align*}\n",
    "\\Delta_{\\text{r}}G &= \\left( \\frac{\\partial G}{\\partial \\xi} \\right)_{p,T}\\\\\n",
    "&= -2 \\mu_{\\text{A}} + \\mu_{\\text{B}}\\\\\n",
    "&= \\Delta_{\\text{r}}G^\\ominus + RT \\ln Q\\\\\n",
    "Q &= \\frac{a_{\\text{B}}}{a_{\\text{A}}^2}\n",
    "\\end{align*}"
   ]
  },
  {
   "cell_type": "markdown",
   "metadata": {},
   "source": [
    "Les nombres de moles de A et B initiaux sont:"
   ]
  },
  {
   "cell_type": "code",
   "execution_count": 7,
   "metadata": {},
   "outputs": [],
   "source": [
    "nA0 = 2"
   ]
  },
  {
   "cell_type": "code",
   "execution_count": 8,
   "metadata": {},
   "outputs": [],
   "source": [
    "nB0 = 0"
   ]
  },
  {
   "cell_type": "markdown",
   "metadata": {},
   "source": [
    "Le volume $V$ de l'échantillon (en litre) vaut:"
   ]
  },
  {
   "cell_type": "code",
   "execution_count": 9,
   "metadata": {},
   "outputs": [],
   "source": [
    "V = 1"
   ]
  },
  {
   "cell_type": "markdown",
   "metadata": {},
   "source": [
    "Après un certain degré d'avancement de la réaction $\\Delta \\xi$:"
   ]
  },
  {
   "cell_type": "code",
   "execution_count": 10,
   "metadata": {},
   "outputs": [],
   "source": [
    "DeltaXi = 0.9356471349245159"
   ]
  },
  {
   "cell_type": "markdown",
   "metadata": {},
   "source": [
    "Les nombres de moles deviennent $n_{\\text{A}} = n_{\\text{A,0}} - 2\\Delta \\xi$ et $n_{\\text{B}} = n_{\\text{B,0}} + \\Delta \\xi$:"
   ]
  },
  {
   "cell_type": "code",
   "execution_count": 11,
   "metadata": {},
   "outputs": [
    {
     "name": "stdout",
     "output_type": "stream",
     "text": [
      "0.1287057301509682\n",
      "0.9356471349245159\n"
     ]
    }
   ],
   "source": [
    "nA = nA0 - 2 * DeltaXi\n",
    "nB = nB0 + DeltaXi\n",
    "print(nA)\n",
    "print(nB)"
   ]
  },
  {
   "cell_type": "markdown",
   "metadata": {},
   "source": [
    "Pour un soluté, souvent on approxime l'activité par le rapport de la concentration sur la concentration standard de 1M: $a_{\\text{J}}= [\\text{J}]/c^\\ominus = n_{\\text{J}} / (c^\\ominus V)$"
   ]
  },
  {
   "cell_type": "markdown",
   "metadata": {},
   "source": [
    "$Q$ pour ce degré d'avancement vaut alors:"
   ]
  },
  {
   "cell_type": "code",
   "execution_count": 12,
   "metadata": {},
   "outputs": [
    {
     "name": "stdout",
     "output_type": "stream",
     "text": [
      "56.48281417120575\n"
     ]
    }
   ],
   "source": [
    "aB = nB / V\n",
    "aA = nA / V\n",
    "Q = aB / (aA * aA)\n",
    "print(Q)"
   ]
  },
  {
   "cell_type": "markdown",
   "metadata": {},
   "source": [
    "$\\Delta_{\\text{r}}G$ pour ce degré d'avancement vaut donc:"
   ]
  },
  {
   "cell_type": "code",
   "execution_count": 13,
   "metadata": {},
   "outputs": [
    {
     "name": "stdout",
     "output_type": "stream",
     "text": [
      "10.000000000000036\n"
     ]
    }
   ],
   "source": [
    "DeltarG = DeltarGstd + 8.3145 * T * math.log(Q) / 1000\n",
    "print(DeltarG)"
   ]
  },
  {
   "cell_type": "markdown",
   "metadata": {},
   "source": [
    "On peut obtenir le degré d'avancement $\\Delta \\xi$ correspondant à l'état d'équilibre:\n",
    "\\begin{align*}\n",
    "K &= \\frac{n_{\\text{B}}}{n_{\\text{A}}^2} V\\\\\n",
    "&= \\frac{n_{\\text{B},0}+\\Delta \\xi}{(n_{\\text{A},0}-2\\Delta \\xi)^2} V\n",
    "\\end{align*}"
   ]
  },
  {
   "cell_type": "code",
   "execution_count": 14,
   "metadata": {},
   "outputs": [
    {
     "name": "stdout",
     "output_type": "stream",
     "text": [
      "0.6096117967977924\n"
     ]
    }
   ],
   "source": [
    "a = 4 * K\n",
    "b = -(4*nA0*K + V)\n",
    "c = nA0 * nA0 * K - nB0 * V\n",
    "rho = b * b - 4 * a * c\n",
    "DeltaXiEq1 = (-b + math.sqrt(rho)) / (2*a)\n",
    "DeltaXiEq2 = (-b - math.sqrt(rho)) / (2*a)\n",
    "#print(DeltaXiEq1)\n",
    "print(DeltaXiEq2)"
   ]
  },
  {
   "cell_type": "markdown",
   "metadata": {},
   "source": [
    "$\\Delta_{\\text{r}}G$ peut donc être calculé pour différent degré d'avancement de la réaction et être ensuite porté en graphique. Il représente aussi la pente de l'énergie libre de Gibbs du système avec le degré d'avancement. Cependant, on ne peut pas connaitre de façon absolue $G(\\xi)$ mais on peut obtenir son allure à une constante près à partie de sa dérivée:\n",
    "\\begin{align*}\n",
    "G (\\xi)&=  G_0(\\xi) + \\int_0^\\xi \\Delta_{\\text{r}}G (\\xi') \\; \\text{d}\\xi'\n",
    "\\end{align*}"
   ]
  },
  {
   "cell_type": "code",
   "execution_count": 15,
   "metadata": {},
   "outputs": [
    {
     "name": "stderr",
     "output_type": "stream",
     "text": [
      "<ipython-input-15-445b5454b0b2>:6: RuntimeWarning: divide by zero encountered in true_divide\n",
      "  allQ = allB / (allA * allA)\n",
      "<ipython-input-15-445b5454b0b2>:7: RuntimeWarning: divide by zero encountered in log\n",
      "  allDeltarG = DeltarGstd + 8.3145 * T * numpy.log(allQ) / 1000\n"
     ]
    }
   ],
   "source": [
    "import numpy\n",
    "from matplotlib import pylab as plt\n",
    "xi = numpy.linspace(-nB0, nA0/2, 1000000)\n",
    "allA = (nA0 - 2 * xi) / V # activité de A\n",
    "allB = (nB0 + xi) / V # activité de B\n",
    "allQ = allB / (allA * allA)\n",
    "allDeltarG = DeltarGstd + 8.3145 * T * numpy.log(allQ) / 1000\n"
   ]
  },
  {
   "cell_type": "code",
   "execution_count": 16,
   "metadata": {
    "scrolled": false
   },
   "outputs": [
    {
     "data": {
      "text/plain": [
       "(0.0, 2.0)"
      ]
     },
     "execution_count": 16,
     "metadata": {},
     "output_type": "execute_result"
    },
    {
     "data": {
      "image/png": "[encoded data removed]",
      "text/plain": [
       "<Figure size 432x288 with 2 Axes>"
      ]
     },
     "metadata": {
      "needs_background": "light"
     },
     "output_type": "display_data"
    }
   ],
   "source": [
    "plt.plot(xi, allA, label=\"A\")\n",
    "plt.plot(xi, allB, label=\"B\")\n",
    "plt.xlabel(r\"$\\xi$ [mol]\")\n",
    "plt.xlim(-nB0, nA0/2)\n",
    "plt.ylabel(r\"nb of mole\")\n",
    "plt.legend()\n",
    "plt.twinx()\n",
    "plt.plot(xi, allQ, 'r', label=\"Q\")\n",
    "plt.axhline(K, color=\"b\")\n",
    "#plt.axvline(DeltaXiEq1, color=\"y\")\n",
    "plt.axvline(DeltaXiEq2, color=\"y\")\n",
    "plt.ylabel(\"Q\")\n",
    "#plt.legend(\"bottom\")\n",
    "plt.ylim(0, K*2)"
   ]
  },
  {
   "cell_type": "code",
   "execution_count": 18,
   "metadata": {},
   "outputs": [
    {
     "name": "stderr",
     "output_type": "stream",
     "text": [
      "<ipython-input-18-dae148dab735>:5: RuntimeWarning: divide by zero encountered in true_divide\n",
      "  allQ1 = allB1 / (allA1 * allA1)\n",
      "<ipython-input-18-dae148dab735>:17: RuntimeWarning: divide by zero encountered in log\n",
      "  allDeltarG2 = DeltarGstd + 8.3145 * T * numpy.log(allQ2) / 1000\n"
     ]
    },
    {
     "data": {
      "text/plain": [
       "<matplotlib.lines.Line2D at 0x11ecaabe0>"
      ]
     },
     "execution_count": 18,
     "metadata": {},
     "output_type": "execute_result"
    },
    {
     "data": {
      "image/png": "[encoded data removed]",
      "text/plain": [
       "<Figure size 432x288 with 2 Axes>"
      ]
     },
     "metadata": {
      "needs_background": "light"
     },
     "output_type": "display_data"
    }
   ],
   "source": [
    "from scipy import integrate\n",
    "xi1 = numpy.linspace(DeltaXiEq2, nA0/2, 1000)\n",
    "allA1 = (nA0 - 2 * xi1) / V # activité de A\n",
    "allB1 = (nB0 + xi1) / V # activité de B\n",
    "allQ1 = allB1 / (allA1 * allA1)\n",
    "allDeltarG1 = DeltarGstd + 8.3145 * T * numpy.log(allQ1) / 1000\n",
    "G1 = [0]\n",
    "for i in range(1, xi1.size):\n",
    "    integral = integrate.simps(allDeltarG1[:i], xi1[:i])\n",
    "    G1.append(integral)\n",
    "G1 = numpy.array(G1)\n",
    "#print(G1)\n",
    "xi2 = numpy.linspace(DeltaXiEq2, -nB0, 1000)\n",
    "allA2 = (nA0 - 2 * xi2) / V # activité de A\n",
    "allB2 = (nB0 + xi2) / V # activité de B\n",
    "allQ2 = allB2 / (allA2 * allA2)\n",
    "allDeltarG2 = DeltarGstd + 8.3145 * T * numpy.log(allQ2) / 1000\n",
    "G2 = [0]\n",
    "for i in range(1, xi2.size):\n",
    "    integral = integrate.simps(allDeltarG2[:i], xi2[:i])\n",
    "    G2.append(integral)\n",
    "G2 = numpy.array(G2)\n",
    "#print(G2)\n",
    "plt.plot(xi1, G1, 'g')\n",
    "plt.plot(xi2, G2, 'g')\n",
    "plt.xlabel(r\"$\\xi$ [mol]\")\n",
    "plt.xlim(-nB0, nA0/2)\n",
    "plt.ylabel(r\"G [kJ]\")\n",
    "plt.twinx()\n",
    "plt.axvline(DeltaXiEq2, color=\"y\")\n",
    "plt.ylabel(r\"$\\Delta_{\\mathrm{r}}G$ [kJ/mol]\")\n",
    "plt.plot(xi1, allDeltarG1, 'r')\n",
    "plt.plot(xi2, allDeltarG2, 'r')\n",
    "plt.axhline(color=\"black\")\n",
    "#plt.plot(xi, allDeltarG)\n",
    "#plt.ylim(-10, 10)"
   ]
  },
  {
   "cell_type": "code",
   "execution_count": null,
   "metadata": {},
   "outputs": [],
   "source": []
  },
  {
   "cell_type": "code",
   "execution_count": null,
   "metadata": {},
   "outputs": [],
   "source": []
  }
 ],
 "metadata": {
  "kernelspec": {
   "display_name": "Python 3",
   "language": "python",
   "name": "python3"
  },
  "language_info": {
   "codemirror_mode": {
    "name": "ipython",
    "version": 3
   },
   "file_extension": ".py",
   "mimetype": "text/x-python",
   "name": "python",
   "nbconvert_exporter": "python",
   "pygments_lexer": "ipython3",
   "version": "3.8.3"
  }
 },
 "nbformat": 4,
 "nbformat_minor": 4
}
