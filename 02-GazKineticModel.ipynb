{
 "metadata": {
  "language_info": {
   "codemirror_mode": {
    "name": "ipython",
    "version": 3
   },
   "file_extension": ".py",
   "mimetype": "text/x-python",
   "name": "python",
   "nbconvert_exporter": "python",
   "pygments_lexer": "ipython3",
   "version": "3.8.5-final"
  },
  "orig_nbformat": 2,
  "kernelspec": {
   "name": "Python 3.8.5 64-bit",
   "display_name": "Python 3.8.5 64-bit",
   "metadata": {
    "interpreter": {
     "hash": "d7f94b8b1e41b02170d45ac71ce2d6b011e7cd56207b4c480f5292088bcfab93"
    }
   }
  }
 },
 "nbformat": 4,
 "nbformat_minor": 2,
 "cells": [
  {
   "source": [
    "# Modèle Cinétique d'un gaz parfait"
   ],
   "cell_type": "markdown",
   "metadata": {}
  },
  {
   "source": [
    "Ce modèle permet de retrouver la loi des gaz parfaits ainsi que d'expliquer son comportement simplement en considérant que **l'énergie d'un gaz parfait provient uniquement de l'énergie cinétique des molécules qui le constituent** et que ces **molécules sont des sphères rigident qui s'entrechoquent de manière élastique**."
   ],
   "cell_type": "markdown",
   "metadata": {}
  },
  {
   "source": [
    "Le modèle se base donc sur 3 assomptions:\n",
    "\n",
    "1. Le gaz est constitué de molécules (sphères rigides) de masse $m$ en mouvement aléatoire incessant et qui obeissent aux lois de la méchaniques classiques.\n",
    "\\begin{align*}\n",
    "\\vec{F} &= m \\vec{a} = \\frac{\\text{d}\\vec{p}}{\\text{d}t} = \\frac{\\text{d}\\boldsymbol{p}}{\\text{d}t}\n",
    "\\end{align*}\n",
    "où $\\vec{a}$ est l'accélération et $\\vec{p}=\\boldsymbol{p}=m\\vec{v}$ la quantité de mouvement. J'utilise $\\boldsymbol{p}$ en gras pour dénoter la quantité de mouvement et ainsi faire la distinction avec $p$ la pression.\n",
    "\n",
    "2. La taille des molécules est négligeable, dans le sens que leur diamètre est inférieure que la distance moyenne entre deux collisions.\n",
    "3. Les molécules n'interagissent pas entre elles excepté lors qu'elles rentrent en collision l'une avec l'autre de manière totalement élastique. *Note: Une collision élastique est une collision dans laquelle l'énergie cinétique totale de translation des molécules est conservée.*"
   ],
   "cell_type": "markdown",
   "metadata": {}
  },
  {
   "source": [
    "## Pression et vitesse des molécules"
   ],
   "cell_type": "markdown",
   "metadata": {}
  },
  {
   "source": [
    "La première étape de ce modèle consiste à déterminer la relation entre la pression et la vitesse des molécules. Pour cela, nous calculons la force exercée sur les parois lorsqu'une molécule de gaz cogne contre celle-ci."
   ],
   "cell_type": "markdown",
   "metadata": {}
  },
  {
   "source": [
    "<img src=\"Pictures/ch01Bf01.jpg\" width=600 />"
   ],
   "cell_type": "markdown",
   "metadata": {}
  },
  {
   "source": [
    "Comme nous le voyons dans le schéma ci-dessus, quand une particule de masse $m$ qui se déplace avec une composante de la vitesse $v_x$ parallèle à l'axe $x$ rentre en collision avec la paroi de droite, elle est réfléchie et sa **quantité de mouvement** change de $m v_x$ à $-mv_x$ après la collision. Les autres composantes de la vitesse, $v_y$ et $v_z$ restent identique si bien que le changement de quantité de mouvement ($\\Delta \\boldsymbol{p}$) égal:\n",
    "\\begin{align*}\n",
    "\\Delta \\boldsymbol{p} &= 2mv_x\n",
    "\\end{align*}"
   ],
   "cell_type": "markdown",
   "metadata": {}
  },
  {
   "source": [
    "Pour connaitre le changement total de quantité de mouvement durant un interval de temps $\\Delta t$, il faut déterminer combien de molécule vont entrer en collision avec la paroi durant ce laps de temps. En regardant le schéma ci-dessous, on note que toutes les molécules dans le volume $A \\times v_x \\Delta t$ qui **se déplace vers cette paroi (vers la droite)** rentreront en collision avec celle-ci.\n",
    "<img src=\"Pictures/ch01Bf02.jpg\" width=600 />"
   ],
   "cell_type": "markdown",
   "metadata": {}
  },
  {
   "source": [
    "Si, dans le volume $V$ nous avons $n$ mole de particules ($N=n N_{\\text{A}}$ particules), le nombre de particules par unité de volume vaut $\\frac{N}{V}=\\frac{nN_{\\text{A}}}{V}$ et dès lors, le nombre de particules qui entrera en collision avec la paroi de droite durant en laps de temps $\\Delta t$ vaut:\n",
    "\\begin{align*}\n",
    "A \\times v_x \\Delta t \\times \\frac{nN_{\\text{A}}}{V}\n",
    "\\end{align*}"
   ],
   "cell_type": "markdown",
   "metadata": {}
  },
  {
   "source": [
    "Le changement de quantité de mouvement total est obtenu en faisant le produit du changement de la quantité de mouvement par particule par le nombre de particules qui rentrent en collision avec la paroi durant un laps de temps $\\Delta t$:\n",
    "\\begin{align*}\n",
    "\\Delta \\boldsymbol{p} &= A \\times v_x \\Delta t \\times \\frac{nN_{\\text{A}}}{V} \\times 2 m v_x\n",
    "\\end{align*}"
   ],
   "cell_type": "markdown",
   "metadata": {}
  },
  {
   "source": [
    "Selon la loi de Newton, la force est donné par la dérivée de la quantité de mouvement par rapport au temps:\n",
    "\\begin{align*}\n",
    "F &= \\frac{\\text{d}\\boldsymbol{p}}{\\text{d}t} = \\frac{\\Delta \\boldsymbol{p}}{\\Delta t}\n",
    "= 2A \\times v^2_x  \\times \\frac{mnN_{\\text{A}}}{V} \\\\\n",
    "&=  2A \\times v^2_x  \\times \\frac{M \\,n}{V}\n",
    "\\end{align*}\n",
    "où $M=m N_{\\text{A}}$ est la masse molaire."
   ],
   "cell_type": "markdown",
   "metadata": {}
  },
  {
   "source": [
    "La pression exercée par les particules ayant une vitesse $v_x$ est la force divisée par la surface $A$:\n",
    "\\begin{align*}\n",
    "p &= 2v^2_x  \\times \\frac{nM} {V}\n",
    "\\end{align*}\n",
    "Note: Attention à ne pas confondre $p$ la pression et la quantité de mouvement $\\boldsymbol{p}$."
   ],
   "cell_type": "markdown",
   "metadata": {}
  },
  {
   "source": [
    "Toutes les molécules ne se déplacent pas **à la même vitesse**. De plus, **en moyenne, à chaque instant**, la **moitié** des particules se déplacent vers la paroi de droite et l'autre moitié se déplacent dans le sens opposé, vers la paroi de gauche. On peut donc remplacer $v_x^2$ par $\\frac{1}{2}\\langle v_x^2 \\rangle$  où $\\langle v_x^2 \\rangle$ est la moyenne des vitesses au carrée suivant $x$. Dès lors, on définit une pression moyenne $\\bar{p}$:\n",
    "\\begin{align*}\n",
    "\\bar{p} &= \\langle p \\rangle = \\langle v^2_x\\rangle  \\times \\frac{nM} {V}\n",
    "\\end{align*}"
   ],
   "cell_type": "markdown",
   "metadata": {}
  },
  {
   "source": [
    "Le système étant **isotrope** (propriété identique dans les 3 directions de l'espace), $\\langle v_x^2 \\rangle =  \\langle v_y^2 \\rangle = \\langle v_z^2 \\rangle$ et dès lors:\n",
    "\\begin{align*}\n",
    "\\langle v^2 \\rangle = \\langle v_x^2 \\rangle + \\langle v_y^2 \\rangle + \\langle v_z^2 \\rangle\n",
    "= 3\\langle v_x^2 \\rangle\n",
    "\\end{align*}\n",
    "\n",
    "De là, on définit la **vitesse quadratique moyenne** (**root-mean-square speed**), $v_{\\text{rms}}$:\n",
    "\\begin{align*}\n",
    "v_{\\text{rms}} &= \\sqrt{\\langle v^2 \\rangle}\n",
    "\\end{align*}\n",
    "Cette quantité est la racine carrée de la moyenne de la vitesse au carrée. **Attention**, ceci est différent de la moyenne de la vitesse $\\langle v\\rangle$ comme nous allons le voir par après."
   ],
   "cell_type": "markdown",
   "metadata": {}
  },
  {
   "source": [
    "La pression moyenne s'écrit donc:\n",
    "\\begin{align*}\n",
    "\\bar{p} &= \\frac{1}{3} \\langle v^2\\rangle  \\times \\frac{nM} {V}\\\\\n",
    "&= \\frac{1}{3}  v_{\\text{rms}}^2  \\times \\frac{nM} {V}\n",
    "\\end{align*}"
   ],
   "cell_type": "markdown",
   "metadata": {}
  },
  {
   "source": [
    "Autrement écrit, ceci n'est rien d'autre que la **loi de Boyle**:\n",
    "\\begin{align*}\n",
    "\\bar{p} V &= \\frac{1}{3} v_{\\text{rms}}^2 n M\n",
    "\\end{align*}\n",
    "En effet, $v_{\\text{rms}}^2$ ne dépend que de la température et dès lors, à température constante:\n",
    "\\begin{align*}\n",
    "\\bar{p} V &= \\text{Cst}\n",
    "\\end{align*}"
   ],
   "cell_type": "markdown",
   "metadata": {}
  },
  {
   "source": [
    "## Distribution de Maxwell-Boltzmann des vitesses"
   ],
   "cell_type": "markdown",
   "metadata": {}
  },
  {
   "source": [
    "Nous venons de montrer que la pression multiplié par le volume est fonction de la vitesse moyenne quadratique:\n",
    "\\begin{align*}\n",
    "\\bar{p} V &= \\frac{1}{3} v_{\\text{rms}}^2 n M\n",
    "\\end{align*}"
   ],
   "cell_type": "markdown",
   "metadata": {}
  },
  {
   "source": [
    "Dans le gaz, la vitesse de chacune des molécules individuelles **peut prendre n'importe qu'elle valeur** et cette valeur change lors de chaque collision. Avant une collision, une molécule peut se déplacer rapidement mais, après une collision, sa vitesse peut être accélérée pour après être réduite lors d'une collision successive. \n",
    "\n",
    "Cependant, **l'ensemble des valeurs des vitesses pour toutes les molécules suit une distribution, la distribution de Maxwell-Boltzmann**. A partir de cette distribution, on peut alors connaitre la fraction de molécule qui a une certaine vitesse et ainsi connaitre la valeur de la vitesse moyenne quadratique $v_{\\text{rms}}$."
   ],
   "cell_type": "markdown",
   "metadata": {}
  },
  {
   "source": [
    "On appelle $f(v)$ la **distribution des vitesses**. Celle-ci est définie de telle façon que $f(v) \\text{d}v$ nous donne la fraction des molécules qui ont une vitesse comprise entre $v$ et $v+\\text{d}v$.\n",
    "\n",
    "On peut obtenir une expression mathématique de cette distribution en supposant que l'énergie des molécules est de nature exclusivement **cinétique** et que la **distribution des énergies** sur les différentes molécules suit la **distribution de Boltzmann**."
   ],
   "cell_type": "markdown",
   "metadata": {}
  },
  {
   "source": [
    "La distribution de Boltzmann nous indique la fraction des molécules qui ont une vitesse suivant $x$, $y$, et $z$ de $v_x$, $v_y$ et $v_z$ au travers de la fonction exponentielle de leur énergie cinétique $E_{\\text{k}}=\\frac{1}{2}m v^2_x + \\frac{1}{2}m v^2_y + \\frac{1}{2}m v^2_z$:\n",
    "\\begin{align*}\n",
    "f(v_x,v_y,v_z) &= K e^{-m(v_x^2+v_y^2+v_z^2)/(2k_{\\text{B}}T)}\n",
    "= K e^{-mv_x^2/(2k_{\\text{B}}T)} e^{-mv_y^2/(2k_{\\text{B}}T)} e^{-mv_z^2/(2k_{\\text{B}}T)}\n",
    "\\end{align*}\n",
    "où $K$ est une constante de proportionalité qui sert à normalisé la distribution de Boltzmann, $k_{\\text{B}}$ est la constante de Boltzmann et $T$ la température du système.\n"
   ],
   "cell_type": "markdown",
   "metadata": {}
  },
  {
   "source": [
    "Comme on peut le voir très facilement, cette distribution $f(v_x,v_y,v_z)$ peut être factorisée en trois termes $f(v_x,v_y,v_z)=f(v_x)f(v_y)f(v_z)$:\n",
    "\\begin{align*}\n",
    "f(v_x) &= K_x  e^{-mv_x^2/(2k_{\\text{B}}T)}\\\\\n",
    "f(v_y) &= K_y  e^{-mv_y^2/(2k_{\\text{B}}T)}\\\\\n",
    "f(v_z) &= K_z  e^{-mv_z^2/(2k_{\\text{B}}T)}\\\\\n",
    "\\end{align*}\n",
    "avec $K=K_x K_y K_z$"
   ],
   "cell_type": "markdown",
   "metadata": {}
  },
  {
   "source": [
    "$f(v_x) \\text{d}v_x$ nous donne la probabilité qu'une particule ait une vitesse comprise entre $v_x$ et $v_x+\\text{d}v_x$ (et de façon similaire pour $v_y$ et $v_z$). La composante de vitesse suivant $x$ peuvt varier entre $-\\infty$ et $\\infty$. La constante de proportionalité $K_x$ est dès lors définie de telle façon que l'intégrale $\\int_{-\\infty}^\\infty f(v_x) \\text{d} v_x=1$, la probabilité totale de trouvé une particule ayant n'importe quelle vitesse suivant $x$:\n",
    "\\begin{align*}\n",
    "1 &= \\int_{-\\infty}^\\infty f(v_x) \\text{d} v_x\n",
    " = \\int_{-\\infty}^\\infty K_x  e^{-mv_x^2/(2k_{\\text{B}}T)} \\text{d} v_x\n",
    " = K_x  \\int_{-\\infty}^\\infty e^{-mv_x^2/(2k_{\\text{B}}T)} \\text{d} v_x\\\\\n",
    " &= K_x \\sqrt{\\frac{2\\pi k_{\\text{B}}T}{m}}\\\\\n",
    " K_x &= \\sqrt{\\frac{m}{2\\pi k_{\\text{B}}T}}\n",
    "\\end{align*}\n",
    "où la valeur de l'intégrale peut être trouvée dans des tables mathématiques:  $\\int_{-\\infty}^\\infty e^{-\\alpha x^2} \\text{d}x = \\sqrt{\\frac{\\pi}{\\alpha}}$"
   ],
   "cell_type": "markdown",
   "metadata": {}
  },
  {
   "source": [
    "Dès lors, $f(v_x)$ vaut:\n",
    "factorisée en trois termes $f(v_x,v_y,v_z)=f(v_x)f(v_y)f(v_z)$:\n",
    "\\begin{align*}\n",
    "f(v_x) &= \\sqrt{\\frac{m}{2\\pi k_{\\text{B}}T}}  e^{-mv_x^2/(2k_{\\text{B}}T)}\n",
    "\\end{align*}\n",
    "Et  $f(v_x,v_y,v_z)=f(v_x)f(v_y)f(v_z)$:\n",
    "\\begin{align*}\n",
    "f(v_x, v_y, v_z) &= \\left(\\frac{m}{2\\pi k_{\\text{B}}T}\\right)^{3/2} e^{-mv_x^2/(2k_{\\text{B}}T)} e^{-mv_y^2/(2k_{\\text{B}}T)} e^{-mv_z^2/(2k_{\\text{B}}T)} \\\\\n",
    "&= \\left(\\frac{m}{2\\pi k_{\\text{B}}T}\\right)^{3/2} e^{-mv^2/(2k_{\\text{B}}T)}\n",
    "\\end{align*}\n",
    "avec $v^2 = v_x^2 + v_y^2 + v_z^2$."
   ],
   "cell_type": "markdown",
   "metadata": {}
  },
  {
   "source": [
    "Attention, cette dernière expression est à comprendre comme ceci: \n",
    "\\begin{align*}\n",
    "f(v_x, v_y, v_z) \\text{d} v_x \\text{d} v_y \\text{d} v_z &= \\left(\\frac{m}{2\\pi k_{\\text{B}}T}\\right)^{3/2} e^{-mv^2/(2k_{\\text{B}}T)} \\text{d} v_x \\text{d} v_y \\text{d} v_z\n",
    "\\end{align*}\n",
    "donne la probabilité qu'une particule ait une vitesse suivant $x$ comprise entre $v_x$ et $v_x+\\text{d}v_x$ et simultanément une vitesse suivant $y$ comprise entre $v_y$ et $v_y+\\text{d}v_y$ et simultanément une vitesse suivant $z$ comprise entre $v_z$ et $v_z+\\text{d}v_z$."
   ],
   "cell_type": "markdown",
   "metadata": {}
  },
  {
   "source": [
    "Nous souhaitons obtenir la probabilité $f(v) \\text{d}v$ qu'une particule ait une vitesse (longeur du vecteur $\\vec{v}$) comprise entre $v$ et $v+\\text{d}v$ qu'importe sa direction. Pour cela, nous devons reconnaitre que $f(v_x,v_y,v_z)$ est **isotrope**, il ne dépent pas des direction $x$, $y$ et $z$ de la vitesse mais seulement de sa norme au carré $v^2$. Au lieu d'intégrer dans les coordonnées cartésiennes de vitesse, on utilise alors les coordonnées sphériques de vitesse. La probabilité qu'une particule ait une vitesse comprise entre $v$ et $v+\\text{d}v$ est donné par le volume d'une écorce de rayon $v$ et d'épaisseur $\\text{d}v$, c'est à dire un volume $4\\pi v^2 \\text{d}v$.\n",
    "\n",
    "<img src=\"Pictures/ch01Bf03.jpg\" width=600 />"
   ],
   "cell_type": "markdown",
   "metadata": {}
  },
  {
   "source": [
    "La probabilité $f(v) \\text{d}v$ s'écrit enfin:\n",
    "\\begin{align*}\n",
    "f(v) \\text{d} v &= \\left(\\frac{m}{2\\pi k_{\\text{B}}T}\\right)^{3/2} e^{-mv^2/(2k_{\\text{B}}T)} \\times 4 \\pi v^2 \\text{d} v\n",
    "\\end{align*}\n",
    "et $f(v)$:\n",
    "\\begin{align*}\n",
    "f(v) &= 4 \\pi \\left(\\frac{m}{2\\pi k_{\\text{B}}T}\\right)^{3/2} v^2 e^{-mv^2/(2k_{\\text{B}}T)} \\\\\n",
    "&= 4 \\pi \\left(\\frac{M}{2\\pi RT}\\right)^{3/2} v^2 e^{-Mv^2/(2RT)} \n",
    "\\end{align*}\n",
    "avec $R=N_{\\text{A}} k_{\\text{B}}$ la constante des gaz parfait."
   ],
   "cell_type": "markdown",
   "metadata": {}
  },
  {
   "source": [
    "Cette fonction $f(v)$ est **la distribution des vitesses de Maxwell-Boltzmann**. Ses unités sont l'inverse d'une vitesse de tel façon que son intégration $\\int_{v_1}^{v_2} f(v) \\text{d}v$ donne une probabilité, un nombre sans dimension."
   ],
   "cell_type": "markdown",
   "metadata": {}
  },
  {
   "cell_type": "code",
   "execution_count": 18,
   "metadata": {
    "tags": []
   },
   "outputs": [
    {
     "output_type": "execute_result",
     "data": {
      "text/plain": "<matplotlib.legend.Legend at 0x116393b20>"
     },
     "metadata": {},
     "execution_count": 18
    },
    {
     "output_type": "display_data",
     "data": {
      "text/plain": "<Figure size 432x288 with 1 Axes>",
      "image/svg+xml": "<?xml version=\"1.0\" encoding=\"utf-8\" standalone=\"no\"?>\n<!DOCTYPE svg PUBLIC \"-//W3C//DTD SVG 1.1//EN\"\n  \"http://www.w3.org/Graphics/SVG/1.1/DTD/svg11.dtd\">\n<!-- Created with matplotlib (https://matplotlib.org/) -->\n<svg height=\"262.19625pt\" version=\"1.1\" viewBox=\"0 0 417.59375 262.19625\" width=\"417.59375pt\" xmlns=\"http://www.w3.org/2000/svg\" xmlns:xlink=\"http://www.w3.org/1999/xlink\">\n <metadata>\n  <rdf:RDF xmlns:cc=\"http://creativecommons.org/ns#\" xmlns:dc=\"http://purl.org/dc/elements/1.1/\" xmlns:rdf=\"http://www.w3.org/1999/02/22-rdf-syntax-ns#\">\n   <cc:Work>\n    <dc:type rdf:resource=\"http://purl.org/dc/dcmitype/StillImage\"/>\n    <dc:date>2020-09-28T12:28:44.310740</dc:date>\n    <dc:format>image/svg+xml</dc:format>\n    <dc:creator>\n     <cc:Agent>\n      <dc:title>Matplotlib v3.3.0, https://matplotlib.org/</dc:title>\n     </cc:Agent>\n    </dc:creator>\n   </cc:Work>\n  </rdf:RDF>\n </metadata>\n <defs>\n  <style type=\"text/css\">*{stroke-linecap:butt;stroke-linejoin:round;}</style>\n </defs>\n <g id=\"figure_1\">\n  <g id=\"patch_1\">\n   <path d=\"M 0 262.19625 \nL 417.59375 262.19625 \nL 417.59375 0 \nL 0 0 \nz\n\" style=\"fill:none;\"/>\n  </g>\n  <g id=\"axes_1\">\n   <g id=\"patch_2\">\n    <path d=\"M 62.86875 224.64 \nL 397.66875 224.64 \nL 397.66875 7.2 \nL 62.86875 7.2 \nz\n\" style=\"fill:#ffffff;\"/>\n   </g>\n   <g id=\"matplotlib.axis_1\">\n    <g id=\"xtick_1\">\n     <g id=\"line2d_1\">\n      <defs>\n       <path d=\"M 0 0 \nL 0 3.5 \n\" id=\"m6df184978c\" style=\"stroke:#000000;stroke-width:0.8;\"/>\n      </defs>\n      <g>\n       <use style=\"stroke:#000000;stroke-width:0.8;\" x=\"62.86875\" xlink:href=\"#m6df184978c\" y=\"224.64\"/>\n      </g>\n     </g>\n     <g id=\"text_1\">\n      <!-- 0 -->\n      <g transform=\"translate(59.6875 239.238438)scale(0.1 -0.1)\">\n       <defs>\n        <path d=\"M 31.78125 66.40625 \nQ 24.171875 66.40625 20.328125 58.90625 \nQ 16.5 51.421875 16.5 36.375 \nQ 16.5 21.390625 20.328125 13.890625 \nQ 24.171875 6.390625 31.78125 6.390625 \nQ 39.453125 6.390625 43.28125 13.890625 \nQ 47.125 21.390625 47.125 36.375 \nQ 47.125 51.421875 43.28125 58.90625 \nQ 39.453125 66.40625 31.78125 66.40625 \nz\nM 31.78125 74.21875 \nQ 44.046875 74.21875 50.515625 64.515625 \nQ 56.984375 54.828125 56.984375 36.375 \nQ 56.984375 17.96875 50.515625 8.265625 \nQ 44.046875 -1.421875 31.78125 -1.421875 \nQ 19.53125 -1.421875 13.0625 8.265625 \nQ 6.59375 17.96875 6.59375 36.375 \nQ 6.59375 54.828125 13.0625 64.515625 \nQ 19.53125 74.21875 31.78125 74.21875 \nz\n\" id=\"DejaVuSans-48\"/>\n       </defs>\n       <use xlink:href=\"#DejaVuSans-48\"/>\n      </g>\n     </g>\n    </g>\n    <g id=\"xtick_2\">\n     <g id=\"line2d_2\">\n      <g>\n       <use style=\"stroke:#000000;stroke-width:0.8;\" x=\"129.82875\" xlink:href=\"#m6df184978c\" y=\"224.64\"/>\n      </g>\n     </g>\n     <g id=\"text_2\">\n      <!-- 200 -->\n      <g transform=\"translate(120.285 239.238438)scale(0.1 -0.1)\">\n       <defs>\n        <path d=\"M 19.1875 8.296875 \nL 53.609375 8.296875 \nL 53.609375 0 \nL 7.328125 0 \nL 7.328125 8.296875 \nQ 12.9375 14.109375 22.625 23.890625 \nQ 32.328125 33.6875 34.8125 36.53125 \nQ 39.546875 41.84375 41.421875 45.53125 \nQ 43.3125 49.21875 43.3125 52.78125 \nQ 43.3125 58.59375 39.234375 62.25 \nQ 35.15625 65.921875 28.609375 65.921875 \nQ 23.96875 65.921875 18.8125 64.3125 \nQ 13.671875 62.703125 7.8125 59.421875 \nL 7.8125 69.390625 \nQ 13.765625 71.78125 18.9375 73 \nQ 24.125 74.21875 28.421875 74.21875 \nQ 39.75 74.21875 46.484375 68.546875 \nQ 53.21875 62.890625 53.21875 53.421875 \nQ 53.21875 48.921875 51.53125 44.890625 \nQ 49.859375 40.875 45.40625 35.40625 \nQ 44.1875 33.984375 37.640625 27.21875 \nQ 31.109375 20.453125 19.1875 8.296875 \nz\n\" id=\"DejaVuSans-50\"/>\n       </defs>\n       <use xlink:href=\"#DejaVuSans-50\"/>\n       <use x=\"63.623047\" xlink:href=\"#DejaVuSans-48\"/>\n       <use x=\"127.246094\" xlink:href=\"#DejaVuSans-48\"/>\n      </g>\n     </g>\n    </g>\n    <g id=\"xtick_3\">\n     <g id=\"line2d_3\">\n      <g>\n       <use style=\"stroke:#000000;stroke-width:0.8;\" x=\"196.78875\" xlink:href=\"#m6df184978c\" y=\"224.64\"/>\n      </g>\n     </g>\n     <g id=\"text_3\">\n      <!-- 400 -->\n      <g transform=\"translate(187.245 239.238438)scale(0.1 -0.1)\">\n       <defs>\n        <path d=\"M 37.796875 64.3125 \nL 12.890625 25.390625 \nL 37.796875 25.390625 \nz\nM 35.203125 72.90625 \nL 47.609375 72.90625 \nL 47.609375 25.390625 \nL 58.015625 25.390625 \nL 58.015625 17.1875 \nL 47.609375 17.1875 \nL 47.609375 0 \nL 37.796875 0 \nL 37.796875 17.1875 \nL 4.890625 17.1875 \nL 4.890625 26.703125 \nz\n\" id=\"DejaVuSans-52\"/>\n       </defs>\n       <use xlink:href=\"#DejaVuSans-52\"/>\n       <use x=\"63.623047\" xlink:href=\"#DejaVuSans-48\"/>\n       <use x=\"127.246094\" xlink:href=\"#DejaVuSans-48\"/>\n      </g>\n     </g>\n    </g>\n    <g id=\"xtick_4\">\n     <g id=\"line2d_4\">\n      <g>\n       <use style=\"stroke:#000000;stroke-width:0.8;\" x=\"263.74875\" xlink:href=\"#m6df184978c\" y=\"224.64\"/>\n      </g>\n     </g>\n     <g id=\"text_4\">\n      <!-- 600 -->\n      <g transform=\"translate(254.205 239.238438)scale(0.1 -0.1)\">\n       <defs>\n        <path d=\"M 33.015625 40.375 \nQ 26.375 40.375 22.484375 35.828125 \nQ 18.609375 31.296875 18.609375 23.390625 \nQ 18.609375 15.53125 22.484375 10.953125 \nQ 26.375 6.390625 33.015625 6.390625 \nQ 39.65625 6.390625 43.53125 10.953125 \nQ 47.40625 15.53125 47.40625 23.390625 \nQ 47.40625 31.296875 43.53125 35.828125 \nQ 39.65625 40.375 33.015625 40.375 \nz\nM 52.59375 71.296875 \nL 52.59375 62.3125 \nQ 48.875 64.0625 45.09375 64.984375 \nQ 41.3125 65.921875 37.59375 65.921875 \nQ 27.828125 65.921875 22.671875 59.328125 \nQ 17.53125 52.734375 16.796875 39.40625 \nQ 19.671875 43.65625 24.015625 45.921875 \nQ 28.375 48.1875 33.59375 48.1875 \nQ 44.578125 48.1875 50.953125 41.515625 \nQ 57.328125 34.859375 57.328125 23.390625 \nQ 57.328125 12.15625 50.6875 5.359375 \nQ 44.046875 -1.421875 33.015625 -1.421875 \nQ 20.359375 -1.421875 13.671875 8.265625 \nQ 6.984375 17.96875 6.984375 36.375 \nQ 6.984375 53.65625 15.1875 63.9375 \nQ 23.390625 74.21875 37.203125 74.21875 \nQ 40.921875 74.21875 44.703125 73.484375 \nQ 48.484375 72.75 52.59375 71.296875 \nz\n\" id=\"DejaVuSans-54\"/>\n       </defs>\n       <use xlink:href=\"#DejaVuSans-54\"/>\n       <use x=\"63.623047\" xlink:href=\"#DejaVuSans-48\"/>\n       <use x=\"127.246094\" xlink:href=\"#DejaVuSans-48\"/>\n      </g>\n     </g>\n    </g>\n    <g id=\"xtick_5\">\n     <g id=\"line2d_5\">\n      <g>\n       <use style=\"stroke:#000000;stroke-width:0.8;\" x=\"330.70875\" xlink:href=\"#m6df184978c\" y=\"224.64\"/>\n      </g>\n     </g>\n     <g id=\"text_5\">\n      <!-- 800 -->\n      <g transform=\"translate(321.165 239.238438)scale(0.1 -0.1)\">\n       <defs>\n        <path d=\"M 31.78125 34.625 \nQ 24.75 34.625 20.71875 30.859375 \nQ 16.703125 27.09375 16.703125 20.515625 \nQ 16.703125 13.921875 20.71875 10.15625 \nQ 24.75 6.390625 31.78125 6.390625 \nQ 38.8125 6.390625 42.859375 10.171875 \nQ 46.921875 13.96875 46.921875 20.515625 \nQ 46.921875 27.09375 42.890625 30.859375 \nQ 38.875 34.625 31.78125 34.625 \nz\nM 21.921875 38.8125 \nQ 15.578125 40.375 12.03125 44.71875 \nQ 8.5 49.078125 8.5 55.328125 \nQ 8.5 64.0625 14.71875 69.140625 \nQ 20.953125 74.21875 31.78125 74.21875 \nQ 42.671875 74.21875 48.875 69.140625 \nQ 55.078125 64.0625 55.078125 55.328125 \nQ 55.078125 49.078125 51.53125 44.71875 \nQ 48 40.375 41.703125 38.8125 \nQ 48.828125 37.15625 52.796875 32.3125 \nQ 56.78125 27.484375 56.78125 20.515625 \nQ 56.78125 9.90625 50.3125 4.234375 \nQ 43.84375 -1.421875 31.78125 -1.421875 \nQ 19.734375 -1.421875 13.25 4.234375 \nQ 6.78125 9.90625 6.78125 20.515625 \nQ 6.78125 27.484375 10.78125 32.3125 \nQ 14.796875 37.15625 21.921875 38.8125 \nz\nM 18.3125 54.390625 \nQ 18.3125 48.734375 21.84375 45.5625 \nQ 25.390625 42.390625 31.78125 42.390625 \nQ 38.140625 42.390625 41.71875 45.5625 \nQ 45.3125 48.734375 45.3125 54.390625 \nQ 45.3125 60.0625 41.71875 63.234375 \nQ 38.140625 66.40625 31.78125 66.40625 \nQ 25.390625 66.40625 21.84375 63.234375 \nQ 18.3125 60.0625 18.3125 54.390625 \nz\n\" id=\"DejaVuSans-56\"/>\n       </defs>\n       <use xlink:href=\"#DejaVuSans-56\"/>\n       <use x=\"63.623047\" xlink:href=\"#DejaVuSans-48\"/>\n       <use x=\"127.246094\" xlink:href=\"#DejaVuSans-48\"/>\n      </g>\n     </g>\n    </g>\n    <g id=\"xtick_6\">\n     <g id=\"line2d_6\">\n      <g>\n       <use style=\"stroke:#000000;stroke-width:0.8;\" x=\"397.66875\" xlink:href=\"#m6df184978c\" y=\"224.64\"/>\n      </g>\n     </g>\n     <g id=\"text_6\">\n      <!-- 1000 -->\n      <g transform=\"translate(384.94375 239.238438)scale(0.1 -0.1)\">\n       <defs>\n        <path d=\"M 12.40625 8.296875 \nL 28.515625 8.296875 \nL 28.515625 63.921875 \nL 10.984375 60.40625 \nL 10.984375 69.390625 \nL 28.421875 72.90625 \nL 38.28125 72.90625 \nL 38.28125 8.296875 \nL 54.390625 8.296875 \nL 54.390625 0 \nL 12.40625 0 \nz\n\" id=\"DejaVuSans-49\"/>\n       </defs>\n       <use xlink:href=\"#DejaVuSans-49\"/>\n       <use x=\"63.623047\" xlink:href=\"#DejaVuSans-48\"/>\n       <use x=\"127.246094\" xlink:href=\"#DejaVuSans-48\"/>\n       <use x=\"190.869141\" xlink:href=\"#DejaVuSans-48\"/>\n      </g>\n     </g>\n    </g>\n    <g id=\"text_7\">\n     <!-- $v$ [m/s] -->\n     <g transform=\"translate(212.61875 252.916563)scale(0.1 -0.1)\">\n      <defs>\n       <path d=\"M 7.171875 54.6875 \nL 16.703125 54.6875 \nL 24.703125 8.203125 \nL 50.875 54.6875 \nL 60.40625 54.6875 \nL 29.296875 0 \nL 17.1875 0 \nz\n\" id=\"DejaVuSans-Oblique-118\"/>\n       <path id=\"DejaVuSans-32\"/>\n       <path d=\"M 8.59375 75.984375 \nL 29.296875 75.984375 \nL 29.296875 69 \nL 17.578125 69 \nL 17.578125 -6.203125 \nL 29.296875 -6.203125 \nL 29.296875 -13.1875 \nL 8.59375 -13.1875 \nz\n\" id=\"DejaVuSans-91\"/>\n       <path d=\"M 52 44.1875 \nQ 55.375 50.25 60.0625 53.125 \nQ 64.75 56 71.09375 56 \nQ 79.640625 56 84.28125 50.015625 \nQ 88.921875 44.046875 88.921875 33.015625 \nL 88.921875 0 \nL 79.890625 0 \nL 79.890625 32.71875 \nQ 79.890625 40.578125 77.09375 44.375 \nQ 74.3125 48.1875 68.609375 48.1875 \nQ 61.625 48.1875 57.5625 43.546875 \nQ 53.515625 38.921875 53.515625 30.90625 \nL 53.515625 0 \nL 44.484375 0 \nL 44.484375 32.71875 \nQ 44.484375 40.625 41.703125 44.40625 \nQ 38.921875 48.1875 33.109375 48.1875 \nQ 26.21875 48.1875 22.15625 43.53125 \nQ 18.109375 38.875 18.109375 30.90625 \nL 18.109375 0 \nL 9.078125 0 \nL 9.078125 54.6875 \nL 18.109375 54.6875 \nL 18.109375 46.1875 \nQ 21.1875 51.21875 25.484375 53.609375 \nQ 29.78125 56 35.6875 56 \nQ 41.65625 56 45.828125 52.96875 \nQ 50 49.953125 52 44.1875 \nz\n\" id=\"DejaVuSans-109\"/>\n       <path d=\"M 25.390625 72.90625 \nL 33.6875 72.90625 \nL 8.296875 -9.28125 \nL 0 -9.28125 \nz\n\" id=\"DejaVuSans-47\"/>\n       <path d=\"M 44.28125 53.078125 \nL 44.28125 44.578125 \nQ 40.484375 46.53125 36.375 47.5 \nQ 32.28125 48.484375 27.875 48.484375 \nQ 21.1875 48.484375 17.84375 46.4375 \nQ 14.5 44.390625 14.5 40.28125 \nQ 14.5 37.15625 16.890625 35.375 \nQ 19.28125 33.59375 26.515625 31.984375 \nL 29.59375 31.296875 \nQ 39.15625 29.25 43.1875 25.515625 \nQ 47.21875 21.78125 47.21875 15.09375 \nQ 47.21875 7.46875 41.1875 3.015625 \nQ 35.15625 -1.421875 24.609375 -1.421875 \nQ 20.21875 -1.421875 15.453125 -0.5625 \nQ 10.6875 0.296875 5.421875 2 \nL 5.421875 11.28125 \nQ 10.40625 8.6875 15.234375 7.390625 \nQ 20.0625 6.109375 24.8125 6.109375 \nQ 31.15625 6.109375 34.5625 8.28125 \nQ 37.984375 10.453125 37.984375 14.40625 \nQ 37.984375 18.0625 35.515625 20.015625 \nQ 33.0625 21.96875 24.703125 23.78125 \nL 21.578125 24.515625 \nQ 13.234375 26.265625 9.515625 29.90625 \nQ 5.8125 33.546875 5.8125 39.890625 \nQ 5.8125 47.609375 11.28125 51.796875 \nQ 16.75 56 26.8125 56 \nQ 31.78125 56 36.171875 55.265625 \nQ 40.578125 54.546875 44.28125 53.078125 \nz\n\" id=\"DejaVuSans-115\"/>\n       <path d=\"M 30.421875 75.984375 \nL 30.421875 -13.1875 \nL 9.71875 -13.1875 \nL 9.71875 -6.203125 \nL 21.390625 -6.203125 \nL 21.390625 69 \nL 9.71875 69 \nL 9.71875 75.984375 \nz\n\" id=\"DejaVuSans-93\"/>\n      </defs>\n      <use transform=\"translate(0 0.015625)\" xlink:href=\"#DejaVuSans-Oblique-118\"/>\n      <use transform=\"translate(59.179688 0.015625)\" xlink:href=\"#DejaVuSans-32\"/>\n      <use transform=\"translate(90.966797 0.015625)\" xlink:href=\"#DejaVuSans-91\"/>\n      <use transform=\"translate(129.980469 0.015625)\" xlink:href=\"#DejaVuSans-109\"/>\n      <use transform=\"translate(227.392578 0.015625)\" xlink:href=\"#DejaVuSans-47\"/>\n      <use transform=\"translate(261.083984 0.015625)\" xlink:href=\"#DejaVuSans-115\"/>\n      <use transform=\"translate(313.183594 0.015625)\" xlink:href=\"#DejaVuSans-93\"/>\n     </g>\n    </g>\n   </g>\n   <g id=\"matplotlib.axis_2\">\n    <g id=\"ytick_1\">\n     <g id=\"line2d_7\">\n      <defs>\n       <path d=\"M 0 0 \nL -3.5 0 \n\" id=\"me8c9f0bc40\" style=\"stroke:#000000;stroke-width:0.8;\"/>\n      </defs>\n      <g>\n       <use style=\"stroke:#000000;stroke-width:0.8;\" x=\"62.86875\" xlink:href=\"#me8c9f0bc40\" y=\"224.64\"/>\n      </g>\n     </g>\n     <g id=\"text_8\">\n      <!-- 0.0000 -->\n      <g transform=\"translate(20.878125 228.439219)scale(0.1 -0.1)\">\n       <defs>\n        <path d=\"M 10.6875 12.40625 \nL 21 12.40625 \nL 21 0 \nL 10.6875 0 \nz\n\" id=\"DejaVuSans-46\"/>\n       </defs>\n       <use xlink:href=\"#DejaVuSans-48\"/>\n       <use x=\"63.623047\" xlink:href=\"#DejaVuSans-46\"/>\n       <use x=\"95.410156\" xlink:href=\"#DejaVuSans-48\"/>\n       <use x=\"159.033203\" xlink:href=\"#DejaVuSans-48\"/>\n       <use x=\"222.65625\" xlink:href=\"#DejaVuSans-48\"/>\n       <use x=\"286.279297\" xlink:href=\"#DejaVuSans-48\"/>\n      </g>\n     </g>\n    </g>\n    <g id=\"ytick_2\">\n     <g id=\"line2d_8\">\n      <g>\n       <use style=\"stroke:#000000;stroke-width:0.8;\" x=\"62.86875\" xlink:href=\"#me8c9f0bc40\" y=\"194.2572\"/>\n      </g>\n     </g>\n     <g id=\"text_9\">\n      <!-- 0.0005 -->\n      <g transform=\"translate(20.878125 198.056419)scale(0.1 -0.1)\">\n       <defs>\n        <path d=\"M 10.796875 72.90625 \nL 49.515625 72.90625 \nL 49.515625 64.59375 \nL 19.828125 64.59375 \nL 19.828125 46.734375 \nQ 21.96875 47.46875 24.109375 47.828125 \nQ 26.265625 48.1875 28.421875 48.1875 \nQ 40.625 48.1875 47.75 41.5 \nQ 54.890625 34.8125 54.890625 23.390625 \nQ 54.890625 11.625 47.5625 5.09375 \nQ 40.234375 -1.421875 26.90625 -1.421875 \nQ 22.3125 -1.421875 17.546875 -0.640625 \nQ 12.796875 0.140625 7.71875 1.703125 \nL 7.71875 11.625 \nQ 12.109375 9.234375 16.796875 8.0625 \nQ 21.484375 6.890625 26.703125 6.890625 \nQ 35.15625 6.890625 40.078125 11.328125 \nQ 45.015625 15.765625 45.015625 23.390625 \nQ 45.015625 31 40.078125 35.4375 \nQ 35.15625 39.890625 26.703125 39.890625 \nQ 22.75 39.890625 18.8125 39.015625 \nQ 14.890625 38.140625 10.796875 36.28125 \nz\n\" id=\"DejaVuSans-53\"/>\n       </defs>\n       <use xlink:href=\"#DejaVuSans-48\"/>\n       <use x=\"63.623047\" xlink:href=\"#DejaVuSans-46\"/>\n       <use x=\"95.410156\" xlink:href=\"#DejaVuSans-48\"/>\n       <use x=\"159.033203\" xlink:href=\"#DejaVuSans-48\"/>\n       <use x=\"222.65625\" xlink:href=\"#DejaVuSans-48\"/>\n       <use x=\"286.279297\" xlink:href=\"#DejaVuSans-53\"/>\n      </g>\n     </g>\n    </g>\n    <g id=\"ytick_3\">\n     <g id=\"line2d_9\">\n      <g>\n       <use style=\"stroke:#000000;stroke-width:0.8;\" x=\"62.86875\" xlink:href=\"#me8c9f0bc40\" y=\"163.874401\"/>\n      </g>\n     </g>\n     <g id=\"text_10\">\n      <!-- 0.0010 -->\n      <g transform=\"translate(20.878125 167.67362)scale(0.1 -0.1)\">\n       <use xlink:href=\"#DejaVuSans-48\"/>\n       <use x=\"63.623047\" xlink:href=\"#DejaVuSans-46\"/>\n       <use x=\"95.410156\" xlink:href=\"#DejaVuSans-48\"/>\n       <use x=\"159.033203\" xlink:href=\"#DejaVuSans-48\"/>\n       <use x=\"222.65625\" xlink:href=\"#DejaVuSans-49\"/>\n       <use x=\"286.279297\" xlink:href=\"#DejaVuSans-48\"/>\n      </g>\n     </g>\n    </g>\n    <g id=\"ytick_4\">\n     <g id=\"line2d_10\">\n      <g>\n       <use style=\"stroke:#000000;stroke-width:0.8;\" x=\"62.86875\" xlink:href=\"#me8c9f0bc40\" y=\"133.491601\"/>\n      </g>\n     </g>\n     <g id=\"text_11\">\n      <!-- 0.0015 -->\n      <g transform=\"translate(20.878125 137.29082)scale(0.1 -0.1)\">\n       <use xlink:href=\"#DejaVuSans-48\"/>\n       <use x=\"63.623047\" xlink:href=\"#DejaVuSans-46\"/>\n       <use x=\"95.410156\" xlink:href=\"#DejaVuSans-48\"/>\n       <use x=\"159.033203\" xlink:href=\"#DejaVuSans-48\"/>\n       <use x=\"222.65625\" xlink:href=\"#DejaVuSans-49\"/>\n       <use x=\"286.279297\" xlink:href=\"#DejaVuSans-53\"/>\n      </g>\n     </g>\n    </g>\n    <g id=\"ytick_5\">\n     <g id=\"line2d_11\">\n      <g>\n       <use style=\"stroke:#000000;stroke-width:0.8;\" x=\"62.86875\" xlink:href=\"#me8c9f0bc40\" y=\"103.108802\"/>\n      </g>\n     </g>\n     <g id=\"text_12\">\n      <!-- 0.0020 -->\n      <g transform=\"translate(20.878125 106.90802)scale(0.1 -0.1)\">\n       <use xlink:href=\"#DejaVuSans-48\"/>\n       <use x=\"63.623047\" xlink:href=\"#DejaVuSans-46\"/>\n       <use x=\"95.410156\" xlink:href=\"#DejaVuSans-48\"/>\n       <use x=\"159.033203\" xlink:href=\"#DejaVuSans-48\"/>\n       <use x=\"222.65625\" xlink:href=\"#DejaVuSans-50\"/>\n       <use x=\"286.279297\" xlink:href=\"#DejaVuSans-48\"/>\n      </g>\n     </g>\n    </g>\n    <g id=\"ytick_6\">\n     <g id=\"line2d_12\">\n      <g>\n       <use style=\"stroke:#000000;stroke-width:0.8;\" x=\"62.86875\" xlink:href=\"#me8c9f0bc40\" y=\"72.726002\"/>\n      </g>\n     </g>\n     <g id=\"text_13\">\n      <!-- 0.0025 -->\n      <g transform=\"translate(20.878125 76.525221)scale(0.1 -0.1)\">\n       <use xlink:href=\"#DejaVuSans-48\"/>\n       <use x=\"63.623047\" xlink:href=\"#DejaVuSans-46\"/>\n       <use x=\"95.410156\" xlink:href=\"#DejaVuSans-48\"/>\n       <use x=\"159.033203\" xlink:href=\"#DejaVuSans-48\"/>\n       <use x=\"222.65625\" xlink:href=\"#DejaVuSans-50\"/>\n       <use x=\"286.279297\" xlink:href=\"#DejaVuSans-53\"/>\n      </g>\n     </g>\n    </g>\n    <g id=\"ytick_7\">\n     <g id=\"line2d_13\">\n      <g>\n       <use style=\"stroke:#000000;stroke-width:0.8;\" x=\"62.86875\" xlink:href=\"#me8c9f0bc40\" y=\"42.343202\"/>\n      </g>\n     </g>\n     <g id=\"text_14\">\n      <!-- 0.0030 -->\n      <g transform=\"translate(20.878125 46.142421)scale(0.1 -0.1)\">\n       <defs>\n        <path d=\"M 40.578125 39.3125 \nQ 47.65625 37.796875 51.625 33 \nQ 55.609375 28.21875 55.609375 21.1875 \nQ 55.609375 10.40625 48.1875 4.484375 \nQ 40.765625 -1.421875 27.09375 -1.421875 \nQ 22.515625 -1.421875 17.65625 -0.515625 \nQ 12.796875 0.390625 7.625 2.203125 \nL 7.625 11.71875 \nQ 11.71875 9.328125 16.59375 8.109375 \nQ 21.484375 6.890625 26.8125 6.890625 \nQ 36.078125 6.890625 40.9375 10.546875 \nQ 45.796875 14.203125 45.796875 21.1875 \nQ 45.796875 27.640625 41.28125 31.265625 \nQ 36.765625 34.90625 28.71875 34.90625 \nL 20.21875 34.90625 \nL 20.21875 43.015625 \nL 29.109375 43.015625 \nQ 36.375 43.015625 40.234375 45.921875 \nQ 44.09375 48.828125 44.09375 54.296875 \nQ 44.09375 59.90625 40.109375 62.90625 \nQ 36.140625 65.921875 28.71875 65.921875 \nQ 24.65625 65.921875 20.015625 65.03125 \nQ 15.375 64.15625 9.8125 62.3125 \nL 9.8125 71.09375 \nQ 15.4375 72.65625 20.34375 73.4375 \nQ 25.25 74.21875 29.59375 74.21875 \nQ 40.828125 74.21875 47.359375 69.109375 \nQ 53.90625 64.015625 53.90625 55.328125 \nQ 53.90625 49.265625 50.4375 45.09375 \nQ 46.96875 40.921875 40.578125 39.3125 \nz\n\" id=\"DejaVuSans-51\"/>\n       </defs>\n       <use xlink:href=\"#DejaVuSans-48\"/>\n       <use x=\"63.623047\" xlink:href=\"#DejaVuSans-46\"/>\n       <use x=\"95.410156\" xlink:href=\"#DejaVuSans-48\"/>\n       <use x=\"159.033203\" xlink:href=\"#DejaVuSans-48\"/>\n       <use x=\"222.65625\" xlink:href=\"#DejaVuSans-51\"/>\n       <use x=\"286.279297\" xlink:href=\"#DejaVuSans-48\"/>\n      </g>\n     </g>\n    </g>\n    <g id=\"ytick_8\">\n     <g id=\"line2d_14\">\n      <g>\n       <use style=\"stroke:#000000;stroke-width:0.8;\" x=\"62.86875\" xlink:href=\"#me8c9f0bc40\" y=\"11.960403\"/>\n      </g>\n     </g>\n     <g id=\"text_15\">\n      <!-- 0.0035 -->\n      <g transform=\"translate(20.878125 15.759621)scale(0.1 -0.1)\">\n       <use xlink:href=\"#DejaVuSans-48\"/>\n       <use x=\"63.623047\" xlink:href=\"#DejaVuSans-46\"/>\n       <use x=\"95.410156\" xlink:href=\"#DejaVuSans-48\"/>\n       <use x=\"159.033203\" xlink:href=\"#DejaVuSans-48\"/>\n       <use x=\"222.65625\" xlink:href=\"#DejaVuSans-51\"/>\n       <use x=\"286.279297\" xlink:href=\"#DejaVuSans-53\"/>\n      </g>\n     </g>\n    </g>\n    <g id=\"text_16\">\n     <!-- Distribution des vitesses -->\n     <g transform=\"translate(14.798438 177.398125)rotate(-90)scale(0.1 -0.1)\">\n      <defs>\n       <path d=\"M 19.671875 64.796875 \nL 19.671875 8.109375 \nL 31.59375 8.109375 \nQ 46.6875 8.109375 53.6875 14.9375 \nQ 60.6875 21.78125 60.6875 36.53125 \nQ 60.6875 51.171875 53.6875 57.984375 \nQ 46.6875 64.796875 31.59375 64.796875 \nz\nM 9.8125 72.90625 \nL 30.078125 72.90625 \nQ 51.265625 72.90625 61.171875 64.09375 \nQ 71.09375 55.28125 71.09375 36.53125 \nQ 71.09375 17.671875 61.125 8.828125 \nQ 51.171875 0 30.078125 0 \nL 9.8125 0 \nz\n\" id=\"DejaVuSans-68\"/>\n       <path d=\"M 9.421875 54.6875 \nL 18.40625 54.6875 \nL 18.40625 0 \nL 9.421875 0 \nz\nM 9.421875 75.984375 \nL 18.40625 75.984375 \nL 18.40625 64.59375 \nL 9.421875 64.59375 \nz\n\" id=\"DejaVuSans-105\"/>\n       <path d=\"M 18.3125 70.21875 \nL 18.3125 54.6875 \nL 36.8125 54.6875 \nL 36.8125 47.703125 \nL 18.3125 47.703125 \nL 18.3125 18.015625 \nQ 18.3125 11.328125 20.140625 9.421875 \nQ 21.96875 7.515625 27.59375 7.515625 \nL 36.8125 7.515625 \nL 36.8125 0 \nL 27.59375 0 \nQ 17.1875 0 13.234375 3.875 \nQ 9.28125 7.765625 9.28125 18.015625 \nL 9.28125 47.703125 \nL 2.6875 47.703125 \nL 2.6875 54.6875 \nL 9.28125 54.6875 \nL 9.28125 70.21875 \nz\n\" id=\"DejaVuSans-116\"/>\n       <path d=\"M 41.109375 46.296875 \nQ 39.59375 47.171875 37.8125 47.578125 \nQ 36.03125 48 33.890625 48 \nQ 26.265625 48 22.1875 43.046875 \nQ 18.109375 38.09375 18.109375 28.8125 \nL 18.109375 0 \nL 9.078125 0 \nL 9.078125 54.6875 \nL 18.109375 54.6875 \nL 18.109375 46.1875 \nQ 20.953125 51.171875 25.484375 53.578125 \nQ 30.03125 56 36.53125 56 \nQ 37.453125 56 38.578125 55.875 \nQ 39.703125 55.765625 41.0625 55.515625 \nz\n\" id=\"DejaVuSans-114\"/>\n       <path d=\"M 48.6875 27.296875 \nQ 48.6875 37.203125 44.609375 42.84375 \nQ 40.53125 48.484375 33.40625 48.484375 \nQ 26.265625 48.484375 22.1875 42.84375 \nQ 18.109375 37.203125 18.109375 27.296875 \nQ 18.109375 17.390625 22.1875 11.75 \nQ 26.265625 6.109375 33.40625 6.109375 \nQ 40.53125 6.109375 44.609375 11.75 \nQ 48.6875 17.390625 48.6875 27.296875 \nz\nM 18.109375 46.390625 \nQ 20.953125 51.265625 25.265625 53.625 \nQ 29.59375 56 35.59375 56 \nQ 45.5625 56 51.78125 48.09375 \nQ 58.015625 40.1875 58.015625 27.296875 \nQ 58.015625 14.40625 51.78125 6.484375 \nQ 45.5625 -1.421875 35.59375 -1.421875 \nQ 29.59375 -1.421875 25.265625 0.953125 \nQ 20.953125 3.328125 18.109375 8.203125 \nL 18.109375 0 \nL 9.078125 0 \nL 9.078125 75.984375 \nL 18.109375 75.984375 \nz\n\" id=\"DejaVuSans-98\"/>\n       <path d=\"M 8.5 21.578125 \nL 8.5 54.6875 \nL 17.484375 54.6875 \nL 17.484375 21.921875 \nQ 17.484375 14.15625 20.5 10.265625 \nQ 23.53125 6.390625 29.59375 6.390625 \nQ 36.859375 6.390625 41.078125 11.03125 \nQ 45.3125 15.671875 45.3125 23.6875 \nL 45.3125 54.6875 \nL 54.296875 54.6875 \nL 54.296875 0 \nL 45.3125 0 \nL 45.3125 8.40625 \nQ 42.046875 3.421875 37.71875 1 \nQ 33.40625 -1.421875 27.6875 -1.421875 \nQ 18.265625 -1.421875 13.375 4.4375 \nQ 8.5 10.296875 8.5 21.578125 \nz\nM 31.109375 56 \nz\n\" id=\"DejaVuSans-117\"/>\n       <path d=\"M 30.609375 48.390625 \nQ 23.390625 48.390625 19.1875 42.75 \nQ 14.984375 37.109375 14.984375 27.296875 \nQ 14.984375 17.484375 19.15625 11.84375 \nQ 23.34375 6.203125 30.609375 6.203125 \nQ 37.796875 6.203125 41.984375 11.859375 \nQ 46.1875 17.53125 46.1875 27.296875 \nQ 46.1875 37.015625 41.984375 42.703125 \nQ 37.796875 48.390625 30.609375 48.390625 \nz\nM 30.609375 56 \nQ 42.328125 56 49.015625 48.375 \nQ 55.71875 40.765625 55.71875 27.296875 \nQ 55.71875 13.875 49.015625 6.21875 \nQ 42.328125 -1.421875 30.609375 -1.421875 \nQ 18.84375 -1.421875 12.171875 6.21875 \nQ 5.515625 13.875 5.515625 27.296875 \nQ 5.515625 40.765625 12.171875 48.375 \nQ 18.84375 56 30.609375 56 \nz\n\" id=\"DejaVuSans-111\"/>\n       <path d=\"M 54.890625 33.015625 \nL 54.890625 0 \nL 45.90625 0 \nL 45.90625 32.71875 \nQ 45.90625 40.484375 42.875 44.328125 \nQ 39.84375 48.1875 33.796875 48.1875 \nQ 26.515625 48.1875 22.3125 43.546875 \nQ 18.109375 38.921875 18.109375 30.90625 \nL 18.109375 0 \nL 9.078125 0 \nL 9.078125 54.6875 \nL 18.109375 54.6875 \nL 18.109375 46.1875 \nQ 21.34375 51.125 25.703125 53.5625 \nQ 30.078125 56 35.796875 56 \nQ 45.21875 56 50.046875 50.171875 \nQ 54.890625 44.34375 54.890625 33.015625 \nz\n\" id=\"DejaVuSans-110\"/>\n       <path d=\"M 45.40625 46.390625 \nL 45.40625 75.984375 \nL 54.390625 75.984375 \nL 54.390625 0 \nL 45.40625 0 \nL 45.40625 8.203125 \nQ 42.578125 3.328125 38.25 0.953125 \nQ 33.9375 -1.421875 27.875 -1.421875 \nQ 17.96875 -1.421875 11.734375 6.484375 \nQ 5.515625 14.40625 5.515625 27.296875 \nQ 5.515625 40.1875 11.734375 48.09375 \nQ 17.96875 56 27.875 56 \nQ 33.9375 56 38.25 53.625 \nQ 42.578125 51.265625 45.40625 46.390625 \nz\nM 14.796875 27.296875 \nQ 14.796875 17.390625 18.875 11.75 \nQ 22.953125 6.109375 30.078125 6.109375 \nQ 37.203125 6.109375 41.296875 11.75 \nQ 45.40625 17.390625 45.40625 27.296875 \nQ 45.40625 37.203125 41.296875 42.84375 \nQ 37.203125 48.484375 30.078125 48.484375 \nQ 22.953125 48.484375 18.875 42.84375 \nQ 14.796875 37.203125 14.796875 27.296875 \nz\n\" id=\"DejaVuSans-100\"/>\n       <path d=\"M 56.203125 29.59375 \nL 56.203125 25.203125 \nL 14.890625 25.203125 \nQ 15.484375 15.921875 20.484375 11.0625 \nQ 25.484375 6.203125 34.421875 6.203125 \nQ 39.59375 6.203125 44.453125 7.46875 \nQ 49.3125 8.734375 54.109375 11.28125 \nL 54.109375 2.78125 \nQ 49.265625 0.734375 44.1875 -0.34375 \nQ 39.109375 -1.421875 33.890625 -1.421875 \nQ 20.796875 -1.421875 13.15625 6.1875 \nQ 5.515625 13.8125 5.515625 26.8125 \nQ 5.515625 40.234375 12.765625 48.109375 \nQ 20.015625 56 32.328125 56 \nQ 43.359375 56 49.78125 48.890625 \nQ 56.203125 41.796875 56.203125 29.59375 \nz\nM 47.21875 32.234375 \nQ 47.125 39.59375 43.09375 43.984375 \nQ 39.0625 48.390625 32.421875 48.390625 \nQ 24.90625 48.390625 20.390625 44.140625 \nQ 15.875 39.890625 15.1875 32.171875 \nz\n\" id=\"DejaVuSans-101\"/>\n       <path d=\"M 2.984375 54.6875 \nL 12.5 54.6875 \nL 29.59375 8.796875 \nL 46.6875 54.6875 \nL 56.203125 54.6875 \nL 35.6875 0 \nL 23.484375 0 \nz\n\" id=\"DejaVuSans-118\"/>\n      </defs>\n      <use xlink:href=\"#DejaVuSans-68\"/>\n      <use x=\"77.001953\" xlink:href=\"#DejaVuSans-105\"/>\n      <use x=\"104.785156\" xlink:href=\"#DejaVuSans-115\"/>\n      <use x=\"156.884766\" xlink:href=\"#DejaVuSans-116\"/>\n      <use x=\"196.09375\" xlink:href=\"#DejaVuSans-114\"/>\n      <use x=\"237.207031\" xlink:href=\"#DejaVuSans-105\"/>\n      <use x=\"264.990234\" xlink:href=\"#DejaVuSans-98\"/>\n      <use x=\"328.466797\" xlink:href=\"#DejaVuSans-117\"/>\n      <use x=\"391.845703\" xlink:href=\"#DejaVuSans-116\"/>\n      <use x=\"431.054688\" xlink:href=\"#DejaVuSans-105\"/>\n      <use x=\"458.837891\" xlink:href=\"#DejaVuSans-111\"/>\n      <use x=\"520.019531\" xlink:href=\"#DejaVuSans-110\"/>\n      <use x=\"583.398438\" xlink:href=\"#DejaVuSans-32\"/>\n      <use x=\"615.185547\" xlink:href=\"#DejaVuSans-100\"/>\n      <use x=\"678.662109\" xlink:href=\"#DejaVuSans-101\"/>\n      <use x=\"740.185547\" xlink:href=\"#DejaVuSans-115\"/>\n      <use x=\"792.285156\" xlink:href=\"#DejaVuSans-32\"/>\n      <use x=\"824.072266\" xlink:href=\"#DejaVuSans-118\"/>\n      <use x=\"883.251953\" xlink:href=\"#DejaVuSans-105\"/>\n      <use x=\"911.035156\" xlink:href=\"#DejaVuSans-116\"/>\n      <use x=\"950.244141\" xlink:href=\"#DejaVuSans-101\"/>\n      <use x=\"1011.767578\" xlink:href=\"#DejaVuSans-115\"/>\n      <use x=\"1063.867188\" xlink:href=\"#DejaVuSans-115\"/>\n      <use x=\"1115.966797\" xlink:href=\"#DejaVuSans-101\"/>\n      <use x=\"1177.490234\" xlink:href=\"#DejaVuSans-115\"/>\n     </g>\n    </g>\n   </g>\n   <g id=\"line2d_15\">\n    <path clip-path=\"url(#pe2fc807b45)\" d=\"M 62.86875 224.64 \nL 65.466824 224.529004 \nL 68.074942 224.194755 \nL 70.706496 223.632629 \nL 73.378227 222.833261 \nL 76.103526 221.784062 \nL 78.899134 220.467359 \nL 81.781791 218.861181 \nL 84.768237 216.939587 \nL 87.881908 214.667981 \nL 91.142893 212.009573 \nL 94.584671 208.912112 \nL 98.244072 205.314183 \nL 102.174663 201.13166 \nL 106.460146 196.239575 \nL 111.241138 190.43529 \nL 116.805569 183.31722 \nL 124.02393 173.696966 \nL 142.873358 148.404686 \nL 148.652064 141.129094 \nL 153.640634 135.197342 \nL 158.150435 130.173306 \nL 162.322085 125.852654 \nL 166.239284 122.11016 \nL 169.955601 118.862253 \nL 173.511212 116.046096 \nL 176.929555 113.618546 \nL 180.237412 111.538835 \nL 183.454872 109.775845 \nL 186.598675 108.304486 \nL 189.685562 107.103515 \nL 192.728925 106.156629 \nL 195.745503 105.449955 \nL 198.748689 104.974154 \nL 201.755223 104.722813 \nL 204.778497 104.693426 \nL 207.835252 104.886711 \nL 210.938879 105.306515 \nL 214.109466 105.96084 \nL 217.367103 106.861846 \nL 220.728529 108.024197 \nL 224.220528 109.469434 \nL 227.866536 111.221838 \nL 231.700034 113.314166 \nL 235.764547 115.789629 \nL 240.113642 118.703101 \nL 244.827674 122.133851 \nL 250.030518 126.201757 \nL 255.939797 131.112574 \nL 263.037628 137.312798 \nL 273.131949 146.456011 \nL 290.789477 162.459794 \nL 298.951983 169.528775 \nL 306.033074 175.372226 \nL 312.548347 180.464365 \nL 318.715424 185.005285 \nL 324.658184 189.107347 \nL 330.45363 192.839497 \nL 336.158679 196.25058 \nL 341.820204 199.377818 \nL 347.47838 202.249981 \nL 353.166689 204.888557 \nL 358.91861 207.311798 \nL 364.770973 209.536028 \nL 370.760605 211.574151 \nL 376.927683 213.43703 \nL 383.31573 215.133405 \nL 389.981665 216.672161 \nL 396.989099 218.059791 \nL 397.66875 218.182793 \nL 397.66875 218.182793 \n\" style=\"fill:none;stroke:#1f77b4;stroke-linecap:square;stroke-width:1.5;\"/>\n   </g>\n   <g id=\"line2d_16\">\n    <path clip-path=\"url(#pe2fc807b45)\" d=\"M 62.86875 224.64 \nL 64.013777 224.529077 \nL 65.172197 224.191371 \nL 66.364097 223.608046 \nL 67.606217 222.747201 \nL 68.918646 221.559766 \nL 70.311428 219.99143 \nL 71.801303 217.968563 \nL 73.394967 215.418783 \nL 75.10916 212.243826 \nL 76.953927 208.345173 \nL 78.949355 203.592519 \nL 81.115532 197.841321 \nL 83.482592 190.907124 \nL 86.100754 182.527178 \nL 89.047024 172.325872 \nL 92.478758 159.609802 \nL 96.824506 142.599123 \nL 111.652946 83.820536 \nL 115.168381 71.212863 \nL 118.231832 61.028808 \nL 120.990611 52.606934 \nL 123.518376 45.584065 \nL 125.858652 39.719986 \nL 128.04157 34.833873 \nL 130.08387 30.792803 \nL 131.998945 27.482035 \nL 133.803535 24.793883 \nL 135.504336 22.647909 \nL 137.11474 20.964436 \nL 138.641444 19.681582 \nL 140.097838 18.740883 \nL 141.500664 18.094397 \nL 142.863314 17.708033 \nL 144.202527 17.557509 \nL 145.541741 17.630883 \nL 146.897694 17.929355 \nL 148.293824 18.467605 \nL 149.746871 19.27074 \nL 151.273574 20.374138 \nL 152.890674 21.823467 \nL 154.614911 23.674572 \nL 156.463026 25.993075 \nL 158.455106 28.858623 \nL 160.611239 32.36069 \nL 162.958211 36.608764 \nL 165.536197 41.74839 \nL 168.398765 47.966497 \nL 171.639662 55.556051 \nL 175.432984 65.028477 \nL 180.217323 77.609924 \nL 189.119745 101.799871 \nL 196.157311 120.597538 \nL 201.125793 133.245904 \nL 205.441408 143.638491 \nL 209.392087 152.584035 \nL 213.09836 160.435822 \nL 216.630536 167.406721 \nL 220.032138 173.635825 \nL 223.333299 179.224238 \nL 226.560803 184.256796 \nL 229.731391 188.793965 \nL 232.861802 192.890137 \nL 235.968777 196.593376 \nL 239.065708 199.942068 \nL 242.169335 202.973159 \nL 245.29305 205.715267 \nL 248.453594 208.195707 \nL 251.671054 210.439508 \nL 254.968867 212.468728 \nL 258.367121 214.298688 \nL 261.895948 215.945935 \nL 265.588829 217.423384 \nL 269.489288 218.742729 \nL 273.647546 219.912355 \nL 278.130563 220.939733 \nL 283.032084 221.831634 \nL 288.482682 222.593236 \nL 294.673196 223.228394 \nL 301.908296 223.740487 \nL 310.723669 224.13272 \nL 322.207423 224.408617 \nL 339.148473 224.572873 \nL 373.355331 224.635851 \nL 397.66875 224.639544 \nL 397.66875 224.639544 \n\" style=\"fill:none;stroke:#ff7f0e;stroke-linecap:square;stroke-width:1.5;\"/>\n   </g>\n   <g id=\"line2d_17\">\n    <path clip-path=\"url(#pe2fc807b45)\" d=\"M 62.86875 224.64 \nL 64.797217 224.528767 \nL 66.732381 224.193896 \nL 68.694328 223.627249 \nL 70.696452 222.815261 \nL 72.752145 221.738945 \nL 74.878146 220.371584 \nL 77.091196 218.679565 \nL 79.404687 216.625726 \nL 81.83536 214.164638 \nL 84.399953 211.245209 \nL 87.121905 207.802881 \nL 90.031346 203.757101 \nL 93.165105 199.009843 \nL 96.580099 193.423262 \nL 100.373421 186.779383 \nL 104.71582 178.709715 \nL 110.039194 168.322885 \nL 118.89809 150.45975 \nL 127.084032 134.149438 \nL 132.260092 124.325718 \nL 136.609187 116.535519 \nL 140.479514 110.047878 \nL 144.021734 104.534661 \nL 147.31285 99.814972 \nL 150.403085 95.764074 \nL 153.329267 92.287783 \nL 156.11483 89.317474 \nL 158.779865 86.794928 \nL 161.341111 84.671468 \nL 163.815307 82.904467 \nL 166.215847 81.459533 \nL 168.556123 80.307336 \nL 170.849526 79.423666 \nL 173.109448 78.789385 \nL 175.349283 78.390309 \nL 177.585769 78.216983 \nL 179.835648 78.265914 \nL 182.11231 78.538804 \nL 184.42915 79.041598 \nL 186.806253 79.786703 \nL 189.260362 80.791342 \nL 191.808215 82.077464 \nL 194.469902 83.67346 \nL 197.268858 85.615127 \nL 200.22852 87.943549 \nL 203.379019 90.710014 \nL 206.763881 93.983934 \nL 210.440022 97.855774 \nL 214.491142 102.453573 \nL 219.05786 107.982619 \nL 224.428106 114.847231 \nL 231.408755 124.156089 \nL 252.960047 153.137688 \nL 259.167301 160.96943 \nL 264.714992 167.617658 \nL 269.874312 173.458716 \nL 274.779181 178.680022 \nL 279.506604 183.391145 \nL 284.11015 187.667842 \nL 288.629996 191.565758 \nL 293.09962 195.128686 \nL 297.545809 198.390086 \nL 301.991997 201.377051 \nL 306.46497 204.115136 \nL 310.988163 206.62397 \nL 315.588361 208.921615 \nL 320.295696 211.024027 \nL 325.136953 212.942219 \nL 330.148959 214.688039 \nL 335.371891 216.270686 \nL 340.85597 217.69855 \nL 346.66146 218.978368 \nL 352.865366 220.115971 \nL 359.571477 221.116692 \nL 366.917062 221.984511 \nL 375.103004 222.723352 \nL 384.427278 223.336252 \nL 395.375347 223.826181 \nL 397.66875 223.90457 \nL 397.66875 223.90457 \n\" style=\"fill:none;stroke:#2ca02c;stroke-linecap:square;stroke-width:1.5;\"/>\n   </g>\n   <g id=\"line2d_18\">\n    <path clip-path=\"url(#pe2fc807b45)\" d=\"M 62.86875 224.64 \nL 66.702248 224.528821 \nL 70.545791 224.194713 \nL 74.419466 223.634232 \nL 78.336665 222.842115 \nL 82.320825 221.80852 \nL 86.388685 220.522141 \nL 90.563683 218.967063 \nL 94.872602 217.122852 \nL 99.345575 214.964285 \nL 104.022778 212.457603 \nL 108.957779 209.557216 \nL 114.224236 206.200067 \nL 119.932633 202.292588 \nL 126.280504 197.671392 \nL 133.679658 191.999871 \nL 143.46596 184.196894 \nL 165.147825 166.829684 \nL 172.86839 160.987591 \nL 179.497496 156.244541 \nL 185.50052 152.218369 \nL 191.078344 148.741268 \nL 196.351497 145.712987 \nL 201.390287 143.073038 \nL 206.248284 140.776567 \nL 210.962315 138.792027 \nL 215.565861 137.09344 \nL 220.085706 135.661252 \nL 224.545287 134.480271 \nL 228.964691 133.539103 \nL 233.364007 132.829019 \nL 237.759975 132.344324 \nL 242.172683 132.081307 \nL 246.62222 132.038986 \nL 251.128673 132.218999 \nL 255.71213 132.625427 \nL 260.396029 133.265093 \nL 265.203805 134.147323 \nL 270.168939 135.286042 \nL 275.324911 136.698435 \nL 280.718592 138.408617 \nL 286.410249 140.449231 \nL 292.476886 142.863694 \nL 299.039032 145.718685 \nL 306.284176 149.118449 \nL 314.567211 153.258111 \nL 324.738537 158.602339 \nL 341.525577 167.717739 \nL 358.573763 176.886281 \nL 369.535225 182.527791 \nL 379.090512 187.199241 \nL 387.936017 191.278863 \nL 396.369713 194.925582 \nL 397.66875 195.465163 \nL 397.66875 195.465163 \n\" style=\"fill:none;stroke:#d62728;stroke-linecap:square;stroke-width:1.5;\"/>\n   </g>\n   <g id=\"patch_3\">\n    <path d=\"M 62.86875 224.64 \nL 62.86875 7.2 \n\" style=\"fill:none;stroke:#000000;stroke-linecap:square;stroke-linejoin:miter;stroke-width:0.8;\"/>\n   </g>\n   <g id=\"patch_4\">\n    <path d=\"M 397.66875 224.64 \nL 397.66875 7.2 \n\" style=\"fill:none;stroke:#000000;stroke-linecap:square;stroke-linejoin:miter;stroke-width:0.8;\"/>\n   </g>\n   <g id=\"patch_5\">\n    <path d=\"M 62.86875 224.64 \nL 397.66875 224.64 \n\" style=\"fill:none;stroke:#000000;stroke-linecap:square;stroke-linejoin:miter;stroke-width:0.8;\"/>\n   </g>\n   <g id=\"patch_6\">\n    <path d=\"M 62.86875 7.2 \nL 397.66875 7.2 \n\" style=\"fill:none;stroke:#000000;stroke-linecap:square;stroke-linejoin:miter;stroke-width:0.8;\"/>\n   </g>\n   <g id=\"legend_1\">\n    <g id=\"patch_7\">\n     <path d=\"M 318.535938 73.9125 \nL 390.66875 73.9125 \nQ 392.66875 73.9125 392.66875 71.9125 \nL 392.66875 14.2 \nQ 392.66875 12.2 390.66875 12.2 \nL 318.535938 12.2 \nQ 316.535938 12.2 316.535938 14.2 \nL 316.535938 71.9125 \nQ 316.535938 73.9125 318.535938 73.9125 \nz\n\" style=\"fill:#ffffff;opacity:0.8;stroke:#cccccc;stroke-linejoin:miter;\"/>\n    </g>\n    <g id=\"line2d_19\">\n     <path d=\"M 320.535938 20.298438 \nL 340.535938 20.298438 \n\" style=\"fill:none;stroke:#1f77b4;stroke-linecap:square;stroke-width:1.5;\"/>\n    </g>\n    <g id=\"line2d_20\"/>\n    <g id=\"text_17\">\n     <!-- T=298 -->\n     <g transform=\"translate(348.535938 23.798438)scale(0.1 -0.1)\">\n      <defs>\n       <path d=\"M -0.296875 72.90625 \nL 61.375 72.90625 \nL 61.375 64.59375 \nL 35.5 64.59375 \nL 35.5 0 \nL 25.59375 0 \nL 25.59375 64.59375 \nL -0.296875 64.59375 \nz\n\" id=\"DejaVuSans-84\"/>\n       <path d=\"M 10.59375 45.40625 \nL 73.1875 45.40625 \nL 73.1875 37.203125 \nL 10.59375 37.203125 \nz\nM 10.59375 25.484375 \nL 73.1875 25.484375 \nL 73.1875 17.1875 \nL 10.59375 17.1875 \nz\n\" id=\"DejaVuSans-61\"/>\n       <path d=\"M 10.984375 1.515625 \nL 10.984375 10.5 \nQ 14.703125 8.734375 18.5 7.8125 \nQ 22.3125 6.890625 25.984375 6.890625 \nQ 35.75 6.890625 40.890625 13.453125 \nQ 46.046875 20.015625 46.78125 33.40625 \nQ 43.953125 29.203125 39.59375 26.953125 \nQ 35.25 24.703125 29.984375 24.703125 \nQ 19.046875 24.703125 12.671875 31.3125 \nQ 6.296875 37.9375 6.296875 49.421875 \nQ 6.296875 60.640625 12.9375 67.421875 \nQ 19.578125 74.21875 30.609375 74.21875 \nQ 43.265625 74.21875 49.921875 64.515625 \nQ 56.59375 54.828125 56.59375 36.375 \nQ 56.59375 19.140625 48.40625 8.859375 \nQ 40.234375 -1.421875 26.421875 -1.421875 \nQ 22.703125 -1.421875 18.890625 -0.6875 \nQ 15.09375 0.046875 10.984375 1.515625 \nz\nM 30.609375 32.421875 \nQ 37.25 32.421875 41.125 36.953125 \nQ 45.015625 41.5 45.015625 49.421875 \nQ 45.015625 57.28125 41.125 61.84375 \nQ 37.25 66.40625 30.609375 66.40625 \nQ 23.96875 66.40625 20.09375 61.84375 \nQ 16.21875 57.28125 16.21875 49.421875 \nQ 16.21875 41.5 20.09375 36.953125 \nQ 23.96875 32.421875 30.609375 32.421875 \nz\n\" id=\"DejaVuSans-57\"/>\n      </defs>\n      <use xlink:href=\"#DejaVuSans-84\"/>\n      <use x=\"61.083984\" xlink:href=\"#DejaVuSans-61\"/>\n      <use x=\"144.873047\" xlink:href=\"#DejaVuSans-50\"/>\n      <use x=\"208.496094\" xlink:href=\"#DejaVuSans-57\"/>\n      <use x=\"272.119141\" xlink:href=\"#DejaVuSans-56\"/>\n     </g>\n    </g>\n    <g id=\"line2d_21\">\n     <path d=\"M 320.535938 34.976563 \nL 340.535938 34.976563 \n\" style=\"fill:none;stroke:#ff7f0e;stroke-linecap:square;stroke-width:1.5;\"/>\n    </g>\n    <g id=\"line2d_22\"/>\n    <g id=\"text_18\">\n     <!-- T=100K -->\n     <g transform=\"translate(348.535938 38.476563)scale(0.1 -0.1)\">\n      <defs>\n       <path d=\"M 9.8125 72.90625 \nL 19.671875 72.90625 \nL 19.671875 42.09375 \nL 52.390625 72.90625 \nL 65.09375 72.90625 \nL 28.90625 38.921875 \nL 67.671875 0 \nL 54.6875 0 \nL 19.671875 35.109375 \nL 19.671875 0 \nL 9.8125 0 \nz\n\" id=\"DejaVuSans-75\"/>\n      </defs>\n      <use xlink:href=\"#DejaVuSans-84\"/>\n      <use x=\"61.083984\" xlink:href=\"#DejaVuSans-61\"/>\n      <use x=\"144.873047\" xlink:href=\"#DejaVuSans-49\"/>\n      <use x=\"208.496094\" xlink:href=\"#DejaVuSans-48\"/>\n      <use x=\"272.119141\" xlink:href=\"#DejaVuSans-48\"/>\n      <use x=\"335.742188\" xlink:href=\"#DejaVuSans-75\"/>\n     </g>\n    </g>\n    <g id=\"line2d_23\">\n     <path d=\"M 320.535938 49.654688 \nL 340.535938 49.654688 \n\" style=\"fill:none;stroke:#2ca02c;stroke-linecap:square;stroke-width:1.5;\"/>\n    </g>\n    <g id=\"line2d_24\"/>\n    <g id=\"text_19\">\n     <!-- T=200K -->\n     <g transform=\"translate(348.535938 53.154688)scale(0.1 -0.1)\">\n      <use xlink:href=\"#DejaVuSans-84\"/>\n      <use x=\"61.083984\" xlink:href=\"#DejaVuSans-61\"/>\n      <use x=\"144.873047\" xlink:href=\"#DejaVuSans-50\"/>\n      <use x=\"208.496094\" xlink:href=\"#DejaVuSans-48\"/>\n      <use x=\"272.119141\" xlink:href=\"#DejaVuSans-48\"/>\n      <use x=\"335.742188\" xlink:href=\"#DejaVuSans-75\"/>\n     </g>\n    </g>\n    <g id=\"line2d_25\">\n     <path d=\"M 320.535938 64.332813 \nL 340.535938 64.332813 \n\" style=\"fill:none;stroke:#d62728;stroke-linecap:square;stroke-width:1.5;\"/>\n    </g>\n    <g id=\"line2d_26\"/>\n    <g id=\"text_20\">\n     <!-- T=500K -->\n     <g transform=\"translate(348.535938 67.832813)scale(0.1 -0.1)\">\n      <use xlink:href=\"#DejaVuSans-84\"/>\n      <use x=\"61.083984\" xlink:href=\"#DejaVuSans-61\"/>\n      <use x=\"144.873047\" xlink:href=\"#DejaVuSans-53\"/>\n      <use x=\"208.496094\" xlink:href=\"#DejaVuSans-48\"/>\n      <use x=\"272.119141\" xlink:href=\"#DejaVuSans-48\"/>\n      <use x=\"335.742188\" xlink:href=\"#DejaVuSans-75\"/>\n     </g>\n    </g>\n   </g>\n  </g>\n </g>\n <defs>\n  <clipPath id=\"pe2fc807b45\">\n   <rect height=\"217.44\" width=\"334.8\" x=\"62.86875\" y=\"7.2\"/>\n  </clipPath>\n </defs>\n</svg>\n",
      "image/png": "[encoded data removed]"
     },
     "metadata": {
      "needs_background": "light"
     }
    }
   ],
   "source": [
    "%matplotlib inline\n",
    "import numpy\n",
    "import math\n",
    "from matplotlib import pylab as plt\n",
    "def MB(v, M, T):\n",
    "    R = 8.31447 # J/mol/K\n",
    "    alpha = M / (2*R*T) \n",
    "    return 4*math.pi * pow(alpha/math.pi, 1.5) * v*v * numpy.exp(-alpha*v*v)\n",
    "M = 28.02e-3 # molar mass of N2 in kg/mol\n",
    "v = numpy.linspace(0, 1000, 100000) # m/s\n",
    "plt.xlabel(r\"$v$ [m/s]\")\n",
    "plt.xlim(0, 1000)\n",
    "plt.ylabel(r\"Distribution des vitesses\")\n",
    "plt.plot(v, MB(v, M, 298), label=\"T=298\")\n",
    "plt.plot(v, MB(v, M, 100), label=\"T=100K\")\n",
    "plt.plot(v, MB(v, M, 200), label=\"T=200K\")\n",
    "plt.plot(v, MB(v, M, 500), label=\"T=500K\")\n",
    "plt.ylim(bottom=0)\n",
    "plt.legend()"
   ]
  },
  {
   "source": [
    "Les observations principales sur cette distribution sont:\n",
    "\n",
    "1. Elle décroit exponentiellement. Dès lors, la faction de molécule ayant une vitesse très élevée est faible.\n",
    "2. L'exposant $M/(2RT)$ qui multiplie $v^2$ dans l'exponentiellement décroissante fait en sorte qu'à masse molaire élevée ou à température faible, celle-ci décroit beaucoup plus rapidement. Il est donc peu probable de trouver des molécules se déplaçant à grande vitesse quand la masse molaire est élevée ou quand la température est basse.\n",
    "3. Inversément, à grande température, une plus grande fraction de molécule peut se trouver avec une vitesse élevée par rapport à une plus faible température.\n",
    "4. Le facteur $v^2$ qui se trouve avant l'exponentiellement tend vers zéro quand $v \\rightarrow 0$. La fraction de molécule ayant une faible vitesse sera aussi très petit qu'importe leur masse."
   ],
   "cell_type": "markdown",
   "metadata": {}
  },
  {
   "source": [
    "## Valeurs moyennes"
   ],
   "cell_type": "markdown",
   "metadata": {}
  },
  {
   "source": [
    "A partir de cette distribution, il est possible d'en extraire certaines valeurs moyennes de vitesse."
   ],
   "cell_type": "markdown",
   "metadata": {}
  },
  {
   "source": [
    "### 1) Vitesse la plus probable"
   ],
   "cell_type": "markdown",
   "metadata": {}
  },
  {
   "source": [
    "Cette vitesse est définie comme étant le maximum de la distribution:\n",
    "\\begin{align*}\n",
    "\\frac{\\text{d}f(v)}{\\text{d}v} &= 0 \\\\\n",
    "&= \\frac{\\text{d}}{\\text{d}v} \\left( 4 \\pi \\left(\\frac{M}{2\\pi RT}\\right)^{3/2} v^2 e^{-Mv^2/(2RT)} \\right)\\\\\n",
    "&=4 \\pi \\left(\\frac{M}{2\\pi RT}\\right)^{3/2} \\left( 2 v e^{-Mv^2/(2RT)} - v^3 \\frac{M}{RT} e^{-Mv^2/(2RT)}\\right)\\\\\n",
    "&=4 \\pi v e^{-Mv^2/(2RT)} \\left(\\frac{M}{2\\pi RT}\\right)^{3/2} \\left( 2  - v^2 \\frac{M}{RT} \\right)\n",
    "\\end{align*}"
   ],
   "cell_type": "markdown",
   "metadata": {}
  },
  {
   "source": [
    "Si on retire les solutions $v=0$ et $v=\\infty$, la solution restate nous donne $v_{mp}$:\n",
    "\\begin{align*}\n",
    "v_{\\text{rp}} &= \\sqrt{\\frac{2RT}{M}}\n",
    "\\end{align*}"
   ],
   "cell_type": "markdown",
   "metadata": {}
  },
  {
   "source": [
    "### 2) Vitesse moyenne"
   ],
   "cell_type": "markdown",
   "metadata": {}
  },
  {
   "source": [
    "La moyenne d'une liste de chose ($x_i$) est simplement la somme de cette chose multiplié par un poids ($w_i$). Ce poids est normalié de telle façon que la somme des poids vaut 1:\n",
    "\\begin{align*}\n",
    "\\bar{x} &= \\sum_i^N x_i w_i\\\\\n",
    "1 &= \\sum_i^N w_i\n",
    "\\end{align*}\n",
    "Ainsi, dans une moyenne arithmétique, tous les poids valent la même chose $w_i = w = 1/N$.\n",
    "\n",
    "Pour une distribution, la somme est remplacée par une intégrale et le poids est donné par la distribution elle-même multiplié par $\\text{d}v$. Dès lors la vitesse moyenne est donnée par:\n",
    "\\begin{align*}\n",
    "\\bar{v} &= \\int_{0}^{\\infty} v f(v) \\text(d)v\n",
    "\\end{align*}\n",
    "Cela correspond à sommer toutes les vitesses possibles multiplié par la probabilité $f(v) \\text{d}v$ d'avoir cette vitesse."
   ],
   "cell_type": "markdown",
   "metadata": {}
  },
  {
   "source": [
    "\\begin{align*}\n",
    "\\bar{v} &= \\int_{0}^{\\infty} v f(v) \\text{d}v\\\\\n",
    "&= \\int_{0}^{\\infty} 4 \\pi \\left(\\frac{M}{2\\pi RT}\\right)^{3/2} v^3 e^{-Mv^2/(2RT)} \\text{d} v\\\\\n",
    "&=  4 \\pi \\left(\\frac{M}{2\\pi RT}\\right)^{3/2} \\int_{0}^{\\infty}v^3 e^{-Mv^2/(2RT)} \\text{d} v\\\\\n",
    "&=  4 \\pi \\left(\\frac{M}{2\\pi RT}\\right)^{3/2} \\times \\frac{1}{2} \\left(\\frac{2RT}{M}\\right)^{2}\\\\\n",
    "&= \\sqrt{\\frac{8RT}{\\pi M}}\n",
    "\\end{align*}\n",
    "où à nouveau l'intégrale peut être trouvée dans les tables mathématiques:  $\\int_{0}^\\infty x^3 e^{-\\alpha x^2} \\text{d}x = \\frac{1}{2\\alpha^2}$"
   ],
   "cell_type": "markdown",
   "metadata": {}
  },
  {
   "source": [
    "### 3) Vitesse quadratique moyenne"
   ],
   "cell_type": "markdown",
   "metadata": {}
  },
  {
   "source": [
    "De manière similaire, le carré de vitesse quadratique moyenne $v_{\\text{rms}}^2$ est la moyenne de $v^2$:\n",
    "\\begin{align*}\n",
    "v_{\\text{rms}}^2 &= \\langle v^2 \\rangle = \\int_{0}^{\\infty} v^2 f(v) \\text{d}v\\\\\n",
    "&= \\int_{0}^{\\infty} 4 \\pi \\left(\\frac{M}{2\\pi RT}\\right)^{3/2} v^4 e^{-Mv^2/(2RT)} \\text{d} v\\\\\n",
    "&=  4 \\pi \\left(\\frac{M}{2\\pi RT}\\right)^{3/2} \\int_{0}^{\\infty}v^4 e^{-Mv^2/(2RT)} \\text{d} v\\\\\n",
    "&=  4 \\pi \\left(\\frac{M}{2\\pi RT}\\right)^{3/2} \\times \\frac{3}{8} \\left(\\frac{2^5\\pi R^5T^5}{M^5}\\right)^{1/2}\\\\\n",
    "&= \\frac{3RT}{ M}\\\\\n",
    "v_{\\text{rms}} &= \\sqrt{\\frac{3RT}{ M}}\n",
    "\\end{align*}\n",
    "où à nouveau l'intégrale peut être trouvée dans les tables mathématiques:  $\\int_{0}^\\infty x^4 e^{-\\alpha x^2} \\text{d}x = \\frac{3}{8}\\sqrt{\\frac{\\pi}{\\alpha^5}}$"
   ],
   "cell_type": "markdown",
   "metadata": {}
  },
  {
   "source": [
    "A partir de cette valeur, on peut évaluer l'énergie cinétique molaire moyenne des particules:\n",
    "\\begin{align*}\n",
    "\\langle E_{\\text{k}} \\rangle &= N_{\\text{A}} \\frac{1}{2}m \\langle v^2 \\rangle\\\\\n",
    "&= \\frac{1}{2}M \\frac{3RT}{M}\\\\\n",
    "&= \\frac{3}{2} RT\n",
    "\\end{align*}\n",
    "On tombe sur la valeur prédite par le théorème d'équipartition: $\\frac{1}{2}RT$ par degré de liberté de translation. **La distribution de Maxwell-Boltzmann automatiquement satisfait au théorème d'équipartition.**"
   ],
   "cell_type": "markdown",
   "metadata": {}
  },
  {
   "source": [
    "Ces trois manières d'évaluer la vitesse des particules dans un gaz parfait donne des résultats différents comme l'illustre la figure ci-dessous. Ce sont trois manière différente de quantifié cette vitesse.\n",
    "\n",
    "<img src=\"Pictures/ch01Bf06.jpg\" width=600 />"
   ],
   "cell_type": "markdown",
   "metadata": {}
  },
  {
   "source": [
    "Pour la molécule de N$_2$ de masse molaire $28.02$ g/mol, on obtient les valeurs suivantes pour ces différentes vitesses"
   ],
   "cell_type": "markdown",
   "metadata": {}
  },
  {
   "cell_type": "code",
   "execution_count": 19,
   "metadata": {
    "tags": []
   },
   "outputs": [
    {
     "output_type": "stream",
     "name": "stdout",
     "text": "Vitesse la plus probable: 420.64 m/s\nVitesse moyenne:          474.65 m/s\nVitesse rms:              515.18 m/s\n"
    }
   ],
   "source": [
    "import math\n",
    "R = 8.31447 # J/mol/K\n",
    "M = 28.02e-3 # molar mass of N2 in kg/mol\n",
    "T = 298.15 # K\n",
    "vmp = math.sqrt(2*R*T/M)\n",
    "vmean = math.sqrt(8*R*T/(math.pi*M))\n",
    "vrms = math.sqrt(3*R*T/M)\n",
    "print(f\"Vitesse la plus probable: {vmp:.2f} m/s\")\n",
    "print(f\"Vitesse moyenne:          {vmean:.2f} m/s\")\n",
    "print(f\"Vitesse rms:              {vrms:.2f} m/s\")"
   ]
  },
  {
   "source": [
    "C'est vitesse sont comparable à la vitesse de propagation du son dans l'air de 340 m/s."
   ],
   "cell_type": "markdown",
   "metadata": {}
  },
  {
   "source": [
    "## Equation des gaz parfaits"
   ],
   "cell_type": "markdown",
   "metadata": {}
  },
  {
   "source": [
    "En repartant de l'expression de la pression en fonction de $v_{\\text{rms}}^2$ et en substituant la valeur que nous venons d'obtenir pour cette quantité, on obtient l'équation des gaz parfaits:\n",
    "\\begin{align*}\n",
    "\\bar{p} V &= \\frac{1}{3} v_{\\text{rms}}^2 n M\\\\\n",
    "\\bar{p} V &= \\frac{1}{3} \\frac{3RT}{M} n M\\\\\n",
    "pV &= nRT\n",
    "\\end{align*}"
   ],
   "cell_type": "markdown",
   "metadata": {}
  },
  {
   "source": [
    "## Simulation d'un gaz"
   ],
   "cell_type": "markdown",
   "metadata": {}
  },
  {
   "cell_type": "code",
   "execution_count": null,
   "metadata": {
    "tags": []
   },
   "outputs": [],
   "source": [
    "%matplotlib inline\n",
    "import math\n",
    "import numpy\n",
    "import random\n",
    "import matplotlib.pyplot as plt\n",
    "from matplotlib.patches import Rectangle\n",
    "import matplotlib as mpl\n",
    "import matplotlib.animation as animation\n",
    "from IPython.display import HTML\n",
    "\n",
    "R = 8.314462618 # J mol-1 K-1\n",
    "Na = 6.02214076e23 #mol-1\n",
    "\n",
    "#-------------------------------------------------------------------------------\n",
    "# Class definitions\n",
    "\n",
    "class SimulationBox:\n",
    "    def __init__(self, N, V, T, ndim, mass, radius, verbose, nbOfHighlightedParticles=0, histStep=50):\n",
    "        self.N = N\n",
    "        self.nbOfHighlightedParticles = nbOfHighlightedParticles\n",
    "        self.V = V #m^3\n",
    "        self.T = T #K\n",
    "        self.ndim = ndim\n",
    "        self.histStep = histStep\n",
    "        \n",
    "        self.mass = mass #kg/mol\n",
    "        self.radius = radius #m\n",
    "        self.length = math.pow(V, 1/3) # in m\n",
    "        self.totalSurface = self.ndim * 2 * self.length * self.length #or pow(length, ndim-1)\n",
    "        \n",
    "        if verbose:\n",
    "            print(f\"Number of molecules: {self.N}\")\n",
    "            print(f\"Volume of the cubic box: {self.V*1e27:.2f} nm^3\")\n",
    "            print(f\"Molar Volume: {self.V * Na / self.N*1e3:.2f} l/mol\")\n",
    "            print(f\"Length of the cubic box: {self.length*1e10:.2f} Ang\")\n",
    "            print(f\"Temperature: {self.T:.2f} K\")\n",
    "            print(f\"Molar mass: {self.mass*1e3:.2f} g/mol\")\n",
    "            print(f\"Volume occupied by the gaz molecules themselves: {4/3*math.pi*pow(self.radius, 3)*self.N*1e27:.2f} nm^3\")\n",
    "            # Derived properties from gas law, MB distribution and equipartition\n",
    "            print(f\"Exact mean speed: {self.exactMeanSpeed():.2f} m/s\")\n",
    "            print(f\"Exact RMS speed: {self.exactRMSSpeed():.2f} m/s\")\n",
    "            print(f\"Pressure from perfect gaz law: {self.exactPressure()*1e-5:.2f} bar\")\n",
    "            \n",
    "        # Initialize the figure\n",
    "        self.fig = plt.figure(figsize=(12, 6))#, dpi=200)\n",
    "\n",
    "    def setupParticles(self, verbose, nbOfInitialMovingParticles=None):\n",
    "        # Initialize the particles for the simulation\n",
    "        self.listOfWalls = []\n",
    "        d = self.length/2 # half length between walls\n",
    "        if self.ndim == 2:\n",
    "            self.listOfWalls.append(Wall(numpy.array([1, 0]), d))\n",
    "            self.listOfWalls.append(Wall(numpy.array([-1, 0]), d))\n",
    "            self.listOfWalls.append(Wall(numpy.array([0, 1]), d))\n",
    "            self.listOfWalls.append(Wall(numpy.array([0, -1]), d))\n",
    "        elif self.ndim == 3:\n",
    "            self.listOfWalls.append(Wall(numpy.array([1, 0, 0]), d))\n",
    "            self.listOfWalls.append(Wall(numpy.array([-1, 0, 0]), d))\n",
    "            self.listOfWalls.append(Wall(numpy.array([0, 1, 0]), d))\n",
    "            self.listOfWalls.append(Wall(numpy.array([0, -1, 0]), d))\n",
    "            self.listOfWalls.append(Wall(numpy.array([0, 0, 1]), d))\n",
    "            self.listOfWalls.append(Wall(numpy.array([0, 0, -1]), d))\n",
    "\n",
    "        random.seed()\n",
    "        self.listOfParticles = []\n",
    "        # Initial condition for speed\n",
    "        Nbis = self.N if nbOfInitialMovingParticles is None else nbOfInitialMovingParticles\n",
    "        velocity = self.exactRMSSpeed() * math.sqrt(self.N/Nbis)\n",
    "        velocities = numpy.zeros(self.N)\n",
    "        for i in range(Nbis):\n",
    "            velocities[i] = velocity\n",
    "        for i in range(self.N):        \n",
    "            phi = random.uniform(0, 2*math.pi)\n",
    "            if self.ndim == 2:\n",
    "                randomUnitVector = numpy.array([math.cos(phi), math.sin(phi)])\n",
    "                randomPosition = numpy.array([random.uniform(-d, d), random.uniform(-d, d)])\n",
    "            elif self.ndim == 3:\n",
    "                theta = random.uniform(0, math.pi)\n",
    "                randomUnitVector = numpy.array([math.sin(theta) * math.cos(phi), math.sin(theta) * math.sin(phi), math.cos(theta)])\n",
    "                randomPosition = numpy.array([random.uniform(-d, d), random.uniform(-d, d), random.uniform(-d, d)])\n",
    "            self.listOfParticles.append(Particle(randomPosition, velocities[i] * randomUnitVector, mass, radius))\n",
    "\n",
    "        if verbose:\n",
    "            print()\n",
    "            print(\"Initial values\")\n",
    "            self.report()\n",
    "            self.figure()\n",
    "            self.fig.savefig(\"gas_initial.pdf\")\n",
    "                        \n",
    "\n",
    "    def report(self):\n",
    "        print(f\"Nb of particles in the simulation box: {self.nbOfParticlesInside()}\")\n",
    "        print(f\"Mean speed: {self.measuredMeanSpeed():.2f} m/s\")\n",
    "        print(f\"RMS speed: {self.measuredRMSSpeed():.2f} m/s\")\n",
    "        print(f\"Mean kinetic energy: {self.measuredMeanKineticEnergy():.2f} J/mol\")\n",
    "\n",
    "    def figure(self):\n",
    "        self.fig.clf()\n",
    "        v = numpy.linspace(0, 1000, 100000) # m/s\n",
    "        positions = self.positions()*1e9 # in nm\n",
    "        velocities = self.velocities()\n",
    "        radius = self.listOfRadius()*1e9 # in nm\n",
    "        linewidths = numpy.zeros(self.N)\n",
    "        bins = int(1000 / self.histStep)\n",
    "        for i in range(min(self.nbOfHighlightedParticles, self.N)):\n",
    "            linewidths[i] = 1.5\n",
    "        #[1.5 if i%(0.2*N)==0 else 0 for i in range(N)]\n",
    "        if self.ndim == 2:\n",
    "            self.fig.subplots_adjust(wspace=0.5)\n",
    "            f = 1.20\n",
    "            d = self.length / 2\n",
    "            ax = self.fig.add_subplot(121, aspect='equal', autoscale_on=False, xlim=(-d*1e9*f, d*1e9*f), ylim=(-d*1e9*f, d*1e9*f), xlabel=\"nm\", ylabel=\"nm\")\n",
    "            rect = Rectangle((-d*1e9,-d*1e9),\n",
    "                             2*d*1e9,\n",
    "                             2*d*1e9,\n",
    "                             ec='black', lw=2, fc='none')\n",
    "            ax.add_patch(rect)\n",
    "            # ax.grid()\n",
    "            cmap = mpl.cm.jet#viridis\n",
    "            norm = mpl.colors.Normalize(vmin=200, vmax=800)\n",
    "            scaling = (ax.get_window_extent().width  / (2*d*1e9) * 72./self.fig.dpi) # pt / nm\n",
    "            ax.scatter(positions[:, 0], positions[:, 1], c=velocities, s=numpy.power(scaling*2*radius, 2), edgecolors=\"red\", linewidths=linewidths, cmap=cmap, norm=norm)\n",
    "            axl = self.fig.add_axes([0.12, 0.05, 0.32, 0.05])\n",
    "            self.fig.colorbar(mpl.cm.ScalarMappable(cmap=cmap, norm=norm),\n",
    "                     cax=axl, orientation='horizontal', label='m/s')\n",
    "            ax2 = self.fig.add_subplot(122)\n",
    "        else:\n",
    "            ax2 = self.fig.add_subplot(111)\n",
    "        ax2.set_xlabel(r\"$v$ [m/s]\")\n",
    "        ax2.set_xlim(0, 1000)\n",
    "        ax2.set_ylabel(r\"Distribution des vitesses\")\n",
    "        ax2.plot(v, self.MBdistribution(v))#, label=f\"T={T} K\")\n",
    "        histo = ax2.hist(velocities, bins=bins, range=(0, 1000), density=True)\n",
    "        ax2.axvline(self.exactMeanSpeed(), color=\"black\", label=\"Exact mean speed\")\n",
    "        ax2.axvline(self.measuredMeanSpeed(), color=\"red\", label=\"Mean speed\")\n",
    "        ax2.axvline(self.measuredRMSSpeed(), color=\"green\", label=\"RMS speed\")\n",
    "        ax2.set_ylim(0, 0.0035)\n",
    "        if hasattr(self, \"listOfPressures\") and len(self.listOfPressures) > 0:\n",
    "            ax3 = ax2.twinx()\n",
    "            ax3.set_ylabel(r\"Pressure [bar]\")\n",
    "            pressure = self.listOfPressures[-1] * 1e-5 # bar\n",
    "            ax3.axhline(pressure, label=f\"{pressure:.2f} bar\")\n",
    "            ax3.set_ylim(0, 6*self.exactPressure() * 1e-5)\n",
    "        self.fig.legend()\n",
    "\n",
    "    def exactMeanSpeed(self):\n",
    "        # from the Maxwell-Boltzmann distribution\n",
    "        if self.ndim == 2:\n",
    "            return math.sqrt(math.pi*R*self.T/(2*self.mass))\n",
    "        elif self.ndim == 3:\n",
    "            return math.sqrt(8*R*self.T/(math.pi*self.mass))\n",
    "\n",
    "    def exactRMSSpeed(self):\n",
    "        # from the Maxwell-Boltzmann distribution\n",
    "        return math.sqrt(self.ndim * R * self.T / self.mass)\n",
    "\n",
    "    def exactMeanKineticEnergy(self):\n",
    "        # from the Maxwell-Boltzmann distribution\n",
    "        # correspond to the equipartition for kinetic energy\n",
    "        return self.ndim * R * self.T / 2\n",
    "    \n",
    "    def exactPressure(self):\n",
    "        # from perfect gas law in Pa\n",
    "        # p = n R T / V = N R T / (V Na)= N kb T / V\n",
    "        return self.N * R * self.T / (self.V * Na)\n",
    "    \n",
    "    def measuredMeanSpeed(self):\n",
    "        return sum([x.speed() for x in self.listOfParticles]) / self.N\n",
    "        \n",
    "    def measuredRMSSpeed(self):\n",
    "        return math.sqrt(sum([x.squareVelocity() for x in self.listOfParticles]) / self.N)\n",
    "    \n",
    "    def measuredMeanKineticEnergy(self):\n",
    "        return sum([x.kineticEnergy() for x in self.listOfParticles]) / self.N #in J/mol = ndim/2 R T from equipartition\n",
    "    \n",
    "    def velocities(self):\n",
    "        # in m/s\n",
    "        return numpy.array([x.speed() for x in self.listOfParticles])\n",
    "        \n",
    "    def positions(self):\n",
    "        # shape [N, ndim] in m\n",
    "        return numpy.array([x.position for x in self.listOfParticles])\n",
    "        \n",
    "    def listOfRadius(self):\n",
    "        # in m\n",
    "        return numpy.array([x.radius for x in self.listOfParticles])\n",
    "    \n",
    "    def listOfMasses(self):\n",
    "        # in kg/mol\n",
    "        return numpy.array([x.mass for x in self.listOfParticles])\n",
    "    \n",
    "    def nbOfParticlesInside(self):\n",
    "        return sum([x.isInside(self.listOfWalls) for x in self.listOfParticles])\n",
    "\n",
    "    def MBdistribution(self, v):\n",
    "        \"\"\"\n",
    "        v is a numpy array for which evaluate the Maxwell-Boltzmann distribution of speed\n",
    "        \"\"\"\n",
    "        alpha = self.mass / (2*R*self.T)\n",
    "        if self.ndim == 2:\n",
    "            return (self.mass / (R*self.T)) * v * numpy.exp(-alpha*v*v)\n",
    "        elif self.ndim == 3:\n",
    "            return (4*math.pi*pow(self.mass/(2*math.pi*R*self.T), 3/2)) * v * v * numpy.exp(-alpha*v*v)\n",
    "    \n",
    "    def resetSimulationMeasurements(self):\n",
    "        self.nCollisions = 0\n",
    "        self.nWallCollisions = 0\n",
    "        self.listOfPressures = []\n",
    "    \n",
    "    def printSimulationMeasurements(self):\n",
    "        print(f\"Nb of collisions: {self.nCollisions}\")\n",
    "        print(f\"Nb of collisions on wall: {self.nWallCollisions}\")\n",
    "        totalPressure = sum(self.listOfPressures)\n",
    "        print(f\"Mean Total pressure: {totalPressure/len(self.listOfPressures)*1e-5:6.3f} bar\")\n",
    "        \n",
    "    def launchSimulation(self, maxSteps, timeStep, verbose, verboseStep=None):\n",
    "        self.resetSimulationMeasurements()\n",
    "        if verbose:\n",
    "            print()\n",
    "            print(f\"{maxSteps} steps of {timeStep*1e12} ps\")\n",
    "            print(f\"Total time of the simulation {maxSteps * timeStep * 1e9} ns\")\n",
    "\n",
    "        for istep in range(maxSteps):\n",
    "            self.performSimulation(istep, timeStep, verboseStep=verboseStep)\n",
    "            \n",
    "        if verbose:\n",
    "            print()\n",
    "            print(\"Final values\")\n",
    "            self.report()\n",
    "            self.figure()\n",
    "            self.fig.savefig(\"gas_final.pdf\")\n",
    "            self.printSimulationMeasurements()\n",
    "\n",
    "    def performSimulation(self, istep, timeStep, verboseStep=None):\n",
    "        # propage the position\n",
    "        for particle in self.listOfParticles:\n",
    "            particle.propage(timeStep)\n",
    "        # check if the particle will collide with another one\n",
    "        for i in range(self.N):\n",
    "            for j in range(i+1, self.N):\n",
    "                particlei = self.listOfParticles[i]\n",
    "                particlej = self.listOfParticles[j]\n",
    "                if particlei.canCollide(particlej):\n",
    "                    # apply the collision\n",
    "                    # print(\"collision\")\n",
    "                    self.nCollisions += 1\n",
    "                    particlei.collide(particlej)\n",
    "        # check if the particle will collide with a wall\n",
    "        pressure = 0\n",
    "        for particle in self.listOfParticles:\n",
    "            for wall in self.listOfWalls:\n",
    "                if particle.canWallCollide(wall):\n",
    "                    # apply the collision\n",
    "                    # print(\"wall collision\")\n",
    "                    self.nWallCollisions += 1\n",
    "                    pressure += particle.wallCollide(wall)\n",
    "        pressure = pressure / (timeStep * self.totalSurface)\n",
    "        self.listOfPressures.append(pressure)\n",
    "        if verboseStep is not None and (istep+1)%verboseStep == 0:\n",
    "            print(f\"Step: {istep+1}\")\n",
    "            self.report()\n",
    "            self.figure()\n",
    "            self.fig.savefig(f\"gas_{istep+1:05d}.pdf\")\n",
    "            print(f\"Local pressure {pressure*1e-5:6.3f} bar\")\n",
    "        # ofile = open(f\"particle{istep}.xyz\", \"w\")\n",
    "        # ofile.write(f\"{nparticles}\\n\\n\")\n",
    "        # for particle in listOfParticles:\n",
    "        #     ofile.write(f\"C {particle.position[0]*1e10:.6f}  {particle.position[1]*1e10:.6f}  {particle.position[2]*1e10:.6f}\\n\")\n",
    "        # ofile.write(\"\\n\\n\")\n",
    "        # ofile.close()\n",
    "\n",
    "class Wall:\n",
    "    \"\"\"\n",
    "    A wall is define by a normal unit vector that point toward the exterior of the volume and a positive scalar coordinate w along this normal vector\n",
    "    \"\"\"\n",
    "    def __init__(self, n, w):\n",
    "        self.n = n # normal unit vector as numpy array\n",
    "        self.w = w  # w is a float scalar value\n",
    "\n",
    "class Particle:\n",
    "    def __init__(self, position, velocity, mass, radius):\n",
    "        self.position = position # numpy array for position\n",
    "        self.velocity = velocity # numpy array for velocity\n",
    "        self.mass = mass\n",
    "        self.radius = radius\n",
    "        self.nCollisions = 0\n",
    "        self.nWallCollisions = 0\n",
    "\n",
    "    def propage(self, dt):\n",
    "        \"\"\"\n",
    "        \\vec{r}(t+dt) = \\vec{r}(t) + \\vec{v} dt\n",
    "        \"\"\"\n",
    "        self.position = self.position + self.velocity * dt\n",
    "\n",
    "    def canCollide(self, p2):\n",
    "        \"\"\"\n",
    "        |\\vec{r1} - \\vec{r2}| <= radius1 + radius2\n",
    "        \"\"\"\n",
    "        p1 = self\n",
    "        distance = numpy.linalg.norm(p2.position-p1.position)\n",
    "        return distance <= p1.radius + p2.radius\n",
    "\n",
    "    def collide(self, p2):\n",
    "        \"\"\"\n",
    "        \\vec{v}_1 -> \\vec{v}_1 + \\vec{q}/mass1\n",
    "        \\vec{v}_2 -> \\vec{v}_2 - \\vec{q}/mass2\n",
    "        By considering that \\vec{q} must lie along \\vec{r}_1 - \\vec{r}_2 and that the kinetic energy is conserved:\n",
    "        \\vec{r12} = \\vec{r}_1 - \\vec{r}_2 / |\\vec{r}_1 - \\vec{r}_2|\n",
    "        \\vec{q} = -2 mass1 mass2 / (mass1+mass2) [(\\vec{v}_1 - \\vec{v}_2).\\vec{r12}] \\vec{r12}\n",
    "        \"\"\"\n",
    "        p1 = self\n",
    "        r12 = p1.position - p2.position\n",
    "        r12 = r12 / numpy.linalg.norm(r12)\n",
    "        v12 = p1.velocity - p2.velocity\n",
    "        factor = -2 * p1.mass * p2.mass / (p1.mass + p2.mass)\n",
    "        q = factor * numpy.dot(v12, r12) * r12\n",
    "        p1.velocity = p1.velocity + q / p1.mass\n",
    "        p2.velocity = p2.velocity - q / p2.mass\n",
    "        self.nCollisions += 1\n",
    "\n",
    "    def isInside(self, listOfWalls):\n",
    "        \"\"\"\n",
    "        \\vec{r} = (w+radius) \\vec{n}\n",
    "        \\vec{r} . \\vec{n} <= w+radius for inside\n",
    "        \"\"\"\n",
    "        for wall in listOfWalls:\n",
    "            # test if outside\n",
    "            if numpy.dot(self.position, wall.n) > wall.w + self.radius:\n",
    "                return 0\n",
    "        return 1\n",
    "\n",
    "    def canWallCollide(self, wall):\n",
    "        \"\"\"\n",
    "        \\vec{r} = (w-radius) \\vec{n}\n",
    "        \\vec{r} . \\vec{n} >= w-radius\n",
    "        \"\"\"\n",
    "        positionCheck = numpy.dot(self.position, wall.n) >= wall.w - self.radius\n",
    "        # also check if the speed as a positive component toward the wall\n",
    "        velocityCheck = numpy.dot(self.velocity, wall.n) > 0\n",
    "        return positionCheck and velocityCheck\n",
    "    \n",
    "    def wallCollide(self, wall):\n",
    "        \"\"\"\n",
    "        The component of the velocity normal to the wall is inverted\n",
    "        \\vec{v} -> \\vec{v}-2 (\\vec{v}.\\vec{n}) \\vec{n}\n",
    "        \"\"\"\n",
    "        deltaVelocity = 2 * numpy.dot(self.velocity, wall.n) # always > 0 since velocityCheck in canWallCollide\n",
    "        self.velocity = self.velocity - deltaVelocity * wall.n\n",
    "        self.nWallCollisions += 1\n",
    "        return self.mass * deltaVelocity/Na # return the change of momentum in SI\n",
    "    \n",
    "    def squareVelocity(self):\n",
    "        return numpy.dot(self.velocity, self.velocity)\n",
    "    \n",
    "    def speed(self):\n",
    "        return math.sqrt(self.squareVelocity())\n",
    "    \n",
    "    def hasSpeed(self, start, end):\n",
    "        s = self.speed()\n",
    "        return 1 if (s >= start and s <= end) else 0\n",
    "    \n",
    "    def kineticEnergy(self):\n",
    "        \"\"\"\n",
    "        #Na 1/2 m v^2 = 1/2 M v^2 in J/mol\n",
    "        \"\"\"\n",
    "        return 0.5 * self.mass * self.squareVelocity()\n",
    "\n",
    "#-------------------------------------------------------------------------------\n",
    "# setup the simulation\n",
    "\n",
    "# N V T ensemble\n",
    "nparticles = 100\n",
    "nbOfInitialMovingParticles = 10 #None\n",
    "nbOfHighlightedParticles = nbOfInitialMovingParticles #int(0.15*nparticles)\n",
    "Vm = 24.79e-3 # Molar Volume in m^3 mol-1 = V / n = V Na/N\n",
    "T = 298.15 # K\n",
    "V = Vm * nparticles / Na # volume in m^3 = N Vm / Na\n",
    "\n",
    "# Gas properties\n",
    "mass = 28.02e-3 #kg/mol of N2\n",
    "radius = 1.2*185e-12 # sigma = pi d^2 = 4 pi r^2 = 0.43e-18 m^2\n",
    "\n",
    "simulation = SimulationBox(N=nparticles, V=V, T=T, ndim=2, mass=mass, radius=radius, verbose=True, nbOfHighlightedParticles=nbOfHighlightedParticles, histStep=40)\n",
    "simulation.setupParticles(verbose=False, nbOfInitialMovingParticles=nbOfInitialMovingParticles)\n",
    "print(\"Initial values\")\n",
    "simulation.report()\n",
    "simulation.figure()\n",
    "#simulation.fig.savefig(\"gas_initial.pdf\")\n",
    "\n",
    "#-------------------------------------------------------------------------------\n",
    "# set up the animation\n",
    "\n",
    "def animate(iStep):\n",
    "    global simulation, timeStep\n",
    "    if iStep > 0:\n",
    "        simulation.performSimulation(iStep, timeStep, verboseStep=None)\n",
    "    simulation.figure()\n",
    "    simulation.fig.suptitle(f\"Frame {iStep+1}\")\n",
    "    return simulation.fig,\n",
    "\n"
   ]
  },
  {
   "cell_type": "code",
   "execution_count": null,
   "metadata": {
    "tags": []
   },
   "outputs": [],
   "source": [
    "#-------------------------------------------------------------------------------\n",
    "# animate\n",
    "simulation.resetSimulationMeasurements()\n",
    "maxSteps = 100\n",
    "timeStep = 1e-12 # in s\n",
    "slowDown = 4e11\n",
    "fps = 1 / (timeStep * slowDown)\n",
    "#print()\n",
    "#print(f\"{maxSteps} steps of {timeStep*1e12} ps\")\n",
    "#print(f\"Total time of the simulation {maxSteps * timeStep * 1e9} ns\")\n",
    "ani = animation.FuncAnimation(simulation.fig, animate, frames=maxSteps,\n",
    "                        interval=timeStep*1000*slowDown, blit=False)\n",
    "\n",
    "#ani.save('gas.mp4', fps=fps) #, extra_args=['-vcodec', 'libx264'])\n",
    "HTML(ani.to_jshtml())"
   ]
  },
  {
   "cell_type": "code",
   "execution_count": null,
   "metadata": {
    "tags": []
   },
   "outputs": [],
   "source": [
    "#-------------------------------------------------------------------------------\n",
    "# final observations\n",
    "print(\"Final values\")\n",
    "simulation.report()\n",
    "simulation.figure()\n",
    "#simulation.fig.savefig(\"gas_final.pdf\")\n",
    "simulation.printSimulationMeasurements()"
   ]
  },
  {
   "cell_type": "code",
   "execution_count": null,
   "metadata": {
    "tags": []
   },
   "outputs": [],
   "source": [
    "# repeat the simulation\n",
    "simulation.resetSimulationMeasurements()\n",
    "maxSteps = 100\n",
    "timeStep = 1e-12 # in s\n",
    "slowDown = 4e11\n",
    "fps = 1 / (timeStep * slowDown)\n",
    "#print()\n",
    "#print(f\"{maxSteps} steps of {timeStep*1e12} ps\")\n",
    "#print(f\"Total time of the simulation {maxSteps * timeStep * 1e9} ns\")\n",
    "ani = animation.FuncAnimation(simulation.fig, animate, frames=maxSteps,\n",
    "                        interval=timeStep*1000*slowDown, blit=False)\n",
    "HTML(ani.to_jshtml())\n"
   ]
  },
  {
   "cell_type": "code",
   "execution_count": null,
   "metadata": {
    "tags": []
   },
   "outputs": [],
   "source": [
    "#-------------------------------------------------------------------------------\n",
    "# final observations\n",
    "print(\"Final values\")\n",
    "simulation.report()\n",
    "simulation.figure()\n",
    "#simulation.fig.savefig(\"gas_final.pdf\")\n",
    "simulation.printSimulationMeasurements()"
   ]
  },
  {
   "cell_type": "code",
   "execution_count": null,
   "metadata": {},
   "outputs": [],
   "source": []
  },
  {
   "cell_type": "code",
   "execution_count": null,
   "metadata": {},
   "outputs": [],
   "source": []
  }
 ]
}