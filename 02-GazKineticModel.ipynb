{
 "cells": [
  {
   "cell_type": "markdown",
   "metadata": {},
   "source": [
    "# Modèle Cinétique d'un gaz parfait"
   ]
  },
  {
   "cell_type": "markdown",
   "metadata": {},
   "source": [
    "Ce modèle permet de retrouver la loi des gaz parfaits ainsi que d'expliquer son comportement simplement en considérant que **l'énergie d'un gaz parfait provient uniquement de l'énergie cinétique des molécules qui le constituent** et que ces **molécules sont des sphères rigident qui s'entrechoquent de manière élastique**."
   ]
  },
  {
   "cell_type": "markdown",
   "metadata": {},
   "source": [
    "Le modèle se base donc sur 3 assomptions:\n",
    "\n",
    "1. Le gaz est constitué de molécules (sphères rigides) de masse $m$ en mouvement aléatoire incessant et qui obeissent aux lois de la méchaniques classiques.\n",
    "\\begin{align*}\n",
    "\\vec{F} &= m \\vec{a} = \\frac{\\text{d}\\vec{p}}{\\text{d}t} = \\frac{\\text{d}\\boldsymbol{p}}{\\text{d}t}\n",
    "\\end{align*}\n",
    "où $\\vec{a}$ est l'accélération et $\\vec{p}=\\boldsymbol{p}=m\\vec{v}$ la quantité de mouvement. J'utilise $\\boldsymbol{p}$ en gras pour dénoter la quantité de mouvement et ainsi faire la distinction avec $p$ la pression.\n",
    "\n",
    "2. La taille des molécules est négligeable, dans le sens que leur diamètre est inférieure que la distance moyenne entre deux collisions.\n",
    "3. Les molécules n'interagissent pas entre elles excepté lors qu'elles rentrent en collision l'une avec l'autre de manière totalement élastique. *Note: Une collision élastique est une collision dans laquelle l'énergie cinétique totale de translation des molécules est conservée.*"
   ]
  },
  {
   "cell_type": "markdown",
   "metadata": {},
   "source": [
    "## Pression et vitesse des molécules"
   ]
  },
  {
   "cell_type": "markdown",
   "metadata": {},
   "source": [
    "La première étape de ce modèle consiste à déterminer la relation entre la pression et la vitesse des molécules. Pour cela, nous calculons la force exercée sur les parois lorsqu'une molécule de gaz cogne contre celle-ci."
   ]
  },
  {
   "cell_type": "markdown",
   "metadata": {},
   "source": [
    "<img src=\"Pictures/ch01Bf01.jpg\" width=600 />"
   ]
  },
  {
   "cell_type": "markdown",
   "metadata": {},
   "source": [
    "Comme nous le voyons dans le schéma ci-dessus, quand une particule de masse $m$ qui se déplace avec une composante de la vitesse $v_x$ parallèle à l'axe $x$ rentre en collision avec la paroi de droite, elle est réfléchie et sa **quantité de mouvement** change de $m v_x$ à $-mv_x$ après la collision. Les autres composantes de la vitesse, $v_y$ et $v_z$ restent identique si bien que le changement de quantité de mouvement ($\\Delta \\boldsymbol{p}$) égal:\n",
    "\\begin{align*}\n",
    "\\Delta \\boldsymbol{p} &= 2mv_x\n",
    "\\end{align*}"
   ]
  },
  {
   "cell_type": "markdown",
   "metadata": {},
   "source": [
    "Pour connaitre le changement total de quantité de mouvement durant un interval de temps $\\Delta t$, il faut déterminer combien de molécule vont entrer en collision avec la paroi durant ce laps de temps. En regardant le schéma ci-dessous, on note que toutes les molécules dans le volume $A \\times v_x \\Delta t$ qui **se déplace vers cette paroi (vers la droite)** rentreront en collision avec celle-ci.\n",
    "<img src=\"Pictures/ch01Bf02.jpg\" width=600 />"
   ]
  },
  {
   "cell_type": "markdown",
   "metadata": {},
   "source": [
    "Si, dans le volume $V$ nous avons $n$ mole de particules ($N=n N_{\\text{A}}$ particules), le nombre de particules par unité de volume vaut $\\frac{N}{V}=\\frac{nN_{\\text{A}}}{V}$ et dès lors, le nombre de particules qui entrera en collision avec la paroi de droite durant en laps de temps $\\Delta t$ vaut:\n",
    "\\begin{align*}\n",
    "A \\times v_x \\Delta t \\times \\frac{nN_{\\text{A}}}{V}\n",
    "\\end{align*}"
   ]
  },
  {
   "cell_type": "markdown",
   "metadata": {},
   "source": [
    "Le changement de quantité de mouvement total est obtenu en faisant le produit du changement de la quantité de mouvement par particule par le nombre de particules qui rentrent en collision avec la paroi durant un laps de temps $\\Delta t$:\n",
    "\\begin{align*}\n",
    "\\Delta \\boldsymbol{p} &= A \\times v_x \\Delta t \\times \\frac{nN_{\\text{A}}}{V} \\times 2 m v_x\n",
    "\\end{align*}"
   ]
  },
  {
   "cell_type": "markdown",
   "metadata": {},
   "source": [
    "Selon la loi de Newton, la force est donné par la dérivée de la quantité de mouvement par rapport au temps:\n",
    "\\begin{align*}\n",
    "F &= \\frac{\\text{d}\\boldsymbol{p}}{\\text{d}t} = \\frac{\\Delta \\boldsymbol{p}}{\\Delta t}\n",
    "= 2A \\times v^2_x  \\times \\frac{mnN_{\\text{A}}}{V} \\\\\n",
    "&=  2A \\times v^2_x  \\times \\frac{M \\,n}{V}\n",
    "\\end{align*}\n",
    "où $M=m N_{\\text{A}}$ est la masse molaire."
   ]
  },
  {
   "cell_type": "markdown",
   "metadata": {},
   "source": [
    "La pression exercée par les particules ayant une vitesse $v_x$ est la force divisée par la surface $A$:\n",
    "\\begin{align*}\n",
    "p &= 2v^2_x  \\times \\frac{nM} {V}\n",
    "\\end{align*}\n",
    "Note: Attention à ne pas confondre $p$ la pression et la quantité de mouvement $\\boldsymbol{p}$."
   ]
  },
  {
   "cell_type": "markdown",
   "metadata": {},
   "source": [
    "Toutes les molécules ne se déplacent pas **à la même vitesse**. De plus, **en moyenne, à chaque instant**, la **moitié** des particules se déplacent vers la paroi de droite et l'autre moitié se déplacent dans le sens opposé, vers la paroi de gauche. On peut donc remplacer $v_x^2$ par $\\frac{1}{2}\\langle v_x^2 \\rangle$  où $\\langle v_x^2 \\rangle$ est la moyenne des vitesses au carrée suivant $x$. Dès lors, on définit une pression moyenne $\\bar{p}$:\n",
    "\\begin{align*}\n",
    "\\bar{p} &= \\langle p \\rangle = \\langle v^2_x\\rangle  \\times \\frac{nM} {V}\n",
    "\\end{align*}"
   ]
  },
  {
   "cell_type": "markdown",
   "metadata": {},
   "source": [
    "Le système étant **isotrope** (propriété identique dans les 3 directions de l'espace), $\\langle v_x^2 \\rangle =  \\langle v_y^2 \\rangle = \\langle v_z^2 \\rangle$ et dès lors:\n",
    "\\begin{align*}\n",
    "\\langle v^2 \\rangle = \\langle v_x^2 \\rangle + \\langle v_y^2 \\rangle + \\langle v_z^2 \\rangle\n",
    "= 3\\langle v_x^2 \\rangle\n",
    "\\end{align*}\n",
    "\n",
    "De là, on définit la **vitesse quadratique moyenne** (**root-mean-square speed**), $v_{\\text{rms}}$:\n",
    "\\begin{align*}\n",
    "v_{\\text{rms}} &= \\sqrt{\\langle v^2 \\rangle}\n",
    "\\end{align*}\n",
    "Cette quantité est la racine carrée de la moyenne de la vitesse au carrée. **Attention**, ceci est différent de la moyenne de la vitesse $\\langle v\\rangle$ comme nous allons le voir par après."
   ]
  },
  {
   "cell_type": "markdown",
   "metadata": {},
   "source": [
    "La pression moyenne s'écrit donc:\n",
    "\\begin{align*}\n",
    "\\bar{p} &= \\frac{1}{3} \\langle v^2\\rangle  \\times \\frac{nM} {V}\\\\\n",
    "&= \\frac{1}{3}  v_{\\text{rms}}^2  \\times \\frac{nM} {V}\n",
    "\\end{align*}"
   ]
  },
  {
   "cell_type": "markdown",
   "metadata": {},
   "source": [
    "Autrement écrit, ceci n'est rien d'autre que la **loi de Boyle**:\n",
    "\\begin{align*}\n",
    "\\bar{p} V &= \\frac{1}{3} v_{\\text{rms}}^2 n M\n",
    "\\end{align*}\n",
    "En effet, $v_{\\text{rms}}^2$ ne dépend que de la température et dès lors, à température constante:\n",
    "\\begin{align*}\n",
    "\\bar{p} V &= \\text{Cst}\n",
    "\\end{align*}"
   ]
  },
  {
   "cell_type": "markdown",
   "metadata": {},
   "source": [
    "## Distribution de Maxwell-Boltzmann des vitesses"
   ]
  },
  {
   "cell_type": "markdown",
   "metadata": {},
   "source": [
    "Nous venons de montrer que la pression multiplié par le volume est fonction de la vitesse moyenne quadratique:\n",
    "\\begin{align*}\n",
    "\\bar{p} V &= \\frac{1}{3} v_{\\text{rms}}^2 n M\n",
    "\\end{align*}"
   ]
  },
  {
   "cell_type": "markdown",
   "metadata": {},
   "source": [
    "Dans le gaz, la vitesse de chacune des molécules individuelles **peut prendre n'importe qu'elle valeur** et cette valeur change lors de chaque collision. Avant une collision, une molécule peut se déplacer rapidement mais, après une collision, sa vitesse peut être accélérée pour après être réduite lors d'une collision successive. \n",
    "\n",
    "Cependant, **l'ensemble des valeurs des vitesses pour toutes les molécules suit une distribution, la distribution de Maxwell-Boltzmann**. A partir de cette distribution, on peut alors connaitre la fraction de molécule qui a une certaine vitesse et ainsi connaitre la valeur de la vitesse moyenne quadratique $v_{\\text{rms}}$."
   ]
  },
  {
   "cell_type": "markdown",
   "metadata": {},
   "source": [
    "On appelle $f(v)$ la **distribution des vitesses**. Celle-ci est définie de telle façon que $f(v) \\text{d}v$ nous donne la fraction des molécules qui ont une vitesse comprise entre $v$ et $v+\\text{d}v$.\n",
    "\n",
    "On peut obtenir une expression mathématique de cette distribution en supposant que l'énergie des molécules est de nature exclusivement **cinétique** et que la **distribution des énergies** sur les différentes molécules suit la **distribution de Boltzmann**."
   ]
  },
  {
   "cell_type": "markdown",
   "metadata": {},
   "source": [
    "La distribution de Boltzmann nous indique la fraction des molécules qui ont une vitesse suivant $x$, $y$, et $z$ de $v_x$, $v_y$ et $v_z$ au travers de la fonction exponentielle de leur énergie cinétique $E_{\\text{k}}=\\frac{1}{2}m v^2_x + \\frac{1}{2}m v^2_y + \\frac{1}{2}m v^2_z$:\n",
    "\\begin{align*}\n",
    "f(v_x,v_y,v_z) &= K e^{-m(v_x^2+v_y^2+v_z^2)/(2k_{\\text{B}}T)}\n",
    "= K e^{-mv_x^2/(2k_{\\text{B}}T)} e^{-mv_y^2/(2k_{\\text{B}}T)} e^{-mv_z^2/(2k_{\\text{B}}T)}\n",
    "\\end{align*}\n",
    "où $K$ est une constante de proportionalité qui sert à normalisé la distribution de Boltzmann, $k_{\\text{B}}$ est la constante de Boltzmann et $T$ la température du système.\n"
   ]
  },
  {
   "cell_type": "markdown",
   "metadata": {},
   "source": [
    "Comme on peut le voir très facilement, cette distribution $f(v_x,v_y,v_z)$ peut être factorisée en trois termes $f(v_x,v_y,v_z)=f(v_x)f(v_y)f(v_z)$:\n",
    "\\begin{align*}\n",
    "f(v_x) &= K_x  e^{-mv_x^2/(2k_{\\text{B}}T)}\\\\\n",
    "f(v_y) &= K_y  e^{-mv_y^2/(2k_{\\text{B}}T)}\\\\\n",
    "f(v_z) &= K_z  e^{-mv_z^2/(2k_{\\text{B}}T)}\\\\\n",
    "\\end{align*}\n",
    "avec $K=K_x K_y K_z$"
   ]
  },
  {
   "cell_type": "markdown",
   "metadata": {},
   "source": [
    "$f(v_x) \\text{d}v_x$ nous donne la probabilité qu'une particule ait une vitesse comprise entre $v_x$ et $v_x+\\text{d}v_x$ (et de façon similaire pour $v_y$ et $v_z$). La composante de vitesse suivant $x$ peuvt varier entre $-\\infty$ et $\\infty$. La constante de proportionalité $K_x$ est dès lors définie de telle façon que l'intégrale $\\int_{-\\infty}^\\infty f(v_x) \\text{d} v_x=1$, la probabilité totale de trouvé une particule ayant n'importe quelle vitesse suivant $x$:\n",
    "\\begin{align*}\n",
    "1 &= \\int_{-\\infty}^\\infty f(v_x) \\text{d} v_x\n",
    " = \\int_{-\\infty}^\\infty K_x  e^{-mv_x^2/(2k_{\\text{B}}T)} \\text{d} v_x\n",
    " = K_x  \\int_{-\\infty}^\\infty e^{-mv_x^2/(2k_{\\text{B}}T)} \\text{d} v_x\\\\\n",
    " &= K_x \\sqrt{\\frac{2\\pi k_{\\text{B}}T}{m}}\\\\\n",
    " K_x &= \\sqrt{\\frac{m}{2\\pi k_{\\text{B}}T}}\n",
    "\\end{align*}\n",
    "où la valeur de l'intégrale peut être trouvée dans des tables mathématiques:  $\\int_{-\\infty}^\\infty e^{-\\alpha x^2} \\text{d}x = \\sqrt{\\frac{\\pi}{\\alpha}}$"
   ]
  },
  {
   "cell_type": "markdown",
   "metadata": {},
   "source": [
    "Dès lors, $f(v_x)$ vaut:\n",
    "factorisée en trois termes $f(v_x,v_y,v_z)=f(v_x)f(v_y)f(v_z)$:\n",
    "\\begin{align*}\n",
    "f(v_x) &= \\sqrt{\\frac{m}{2\\pi k_{\\text{B}}T}}  e^{-mv_x^2/(2k_{\\text{B}}T)}\n",
    "\\end{align*}\n",
    "Et  $f(v_x,v_y,v_z)=f(v_x)f(v_y)f(v_z)$:\n",
    "\\begin{align*}\n",
    "f(v_x, v_y, v_z) &= \\left(\\frac{m}{2\\pi k_{\\text{B}}T}\\right)^{3/2} e^{-mv_x^2/(2k_{\\text{B}}T)} e^{-mv_y^2/(2k_{\\text{B}}T)} e^{-mv_z^2/(2k_{\\text{B}}T)} \\\\\n",
    "&= \\left(\\frac{m}{2\\pi k_{\\text{B}}T}\\right)^{3/2} e^{-mv^2/(2k_{\\text{B}}T)}\n",
    "\\end{align*}\n",
    "avec $v^2 = v_x^2 + v_y^2 + v_z^2$."
   ]
  },
  {
   "cell_type": "markdown",
   "metadata": {},
   "source": [
    "Attention, cette dernière expression est à comprendre comme ceci: \n",
    "\\begin{align*}\n",
    "f(v_x, v_y, v_z) \\text{d} v_x \\text{d} v_y \\text{d} v_z &= \\left(\\frac{m}{2\\pi k_{\\text{B}}T}\\right)^{3/2} e^{-mv^2/(2k_{\\text{B}}T)} \\text{d} v_x \\text{d} v_y \\text{d} v_z\n",
    "\\end{align*}\n",
    "donne la probabilité qu'une particule ait une vitesse suivant $x$ comprise entre $v_x$ et $v_x+\\text{d}v_x$ et simultanément une vitesse suivant $y$ comprise entre $v_y$ et $v_y+\\text{d}v_y$ et simultanément une vitesse suivant $z$ comprise entre $v_z$ et $v_z+\\text{d}v_z$."
   ]
  },
  {
   "cell_type": "markdown",
   "metadata": {},
   "source": [
    "Nous souhaitons obtenir la probabilité $f(v) \\text{d}v$ qu'une particule ait une vitesse (longeur du vecteur $\\vec{v}$) comprise entre $v$ et $v+\\text{d}v$ qu'importe sa direction. Pour cela, nous devons reconnaitre que $f(v_x,v_y,v_z)$ est **isotrope**, il ne dépent pas des direction $x$, $y$ et $z$ de la vitesse mais seulement de sa norme au carré $v^2$. Au lieu d'intégrer dans les coordonnées cartésiennes de vitesse, on utilise alors les coordonnées sphériques de vitesse. La probabilité qu'une particule ait une vitesse comprise entre $v$ et $v+\\text{d}v$ est donné par le volume d'une écorce de rayon $v$ et d'épaisseur $\\text{d}v$, c'est à dire un volume $4\\pi v^2 \\text{d}v$.\n",
    "\n",
    "<img src=\"Pictures/ch01Bf03.jpg\" width=600 />"
   ]
  },
  {
   "cell_type": "markdown",
   "metadata": {},
   "source": [
    "La probabilité $f(v) \\text{d}v$ s'écrit enfin:\n",
    "\\begin{align*}\n",
    "f(v) \\text{d} v &= \\left(\\frac{m}{2\\pi k_{\\text{B}}T}\\right)^{3/2} e^{-mv^2/(2k_{\\text{B}}T)} \\times 4 \\pi v^2 \\text{d} v\n",
    "\\end{align*}\n",
    "et $f(v)$:\n",
    "\\begin{align*}\n",
    "f(v) &= 4 \\pi \\left(\\frac{m}{2\\pi k_{\\text{B}}T}\\right)^{3/2} v^2 e^{-mv^2/(2k_{\\text{B}}T)} \\\\\n",
    "&= 4 \\pi \\left(\\frac{M}{2\\pi RT}\\right)^{3/2} v^2 e^{-Mv^2/(2RT)} \n",
    "\\end{align*}\n",
    "avec $R=N_{\\text{A}} k_{\\text{B}}$ la constante des gaz parfait."
   ]
  },
  {
   "cell_type": "markdown",
   "metadata": {},
   "source": [
    "Cette fonction $f(v)$ est **la distribution des vitesses de Maxwell-Boltzmann**. Ses unités sont l'inverse d'une vitesse de tel façon que son intégration $\\int_{v_1}^{v_2} f(v) \\text{d}v$ donne une probabilité, un nombre sans dimension."
   ]
  },
  {
   "cell_type": "code",
   "execution_count": null,
   "metadata": {
    "tags": []
   },
   "outputs": [],
   "source": [
    "%matplotlib inline\n",
    "import numpy\n",
    "import math\n",
    "from matplotlib import pylab as plt\n",
    "def MB(v, M, T):\n",
    "    R = 8.31447 # J/mol/K\n",
    "    alpha = M / (2*R*T) \n",
    "    return 4*math.pi * pow(alpha/math.pi, 1.5) * v*v * numpy.exp(-alpha*v*v)\n",
    "M = 28.02e-3 # molar mass of N2 in kg/mol\n",
    "v = numpy.linspace(0, 1000, 100000) # m/s\n",
    "plt.xlabel(r\"$v$ [m/s]\")\n",
    "plt.xlim(0, 1000)\n",
    "plt.ylabel(r\"Distribution des vitesses\")\n",
    "plt.plot(v, MB(v, M, 298), label=\"T=298\")\n",
    "plt.plot(v, MB(v, M, 100), label=\"T=100K\")\n",
    "plt.plot(v, MB(v, M, 200), label=\"T=200K\")\n",
    "plt.plot(v, MB(v, M, 500), label=\"T=500K\")\n",
    "plt.ylim(bottom=0)\n",
    "plt.legend()"
   ]
  },
  {
   "cell_type": "markdown",
   "metadata": {},
   "source": [
    "Les observations principales sur cette distribution sont:\n",
    "\n",
    "1. Elle décroit exponentiellement. Dès lors, la faction de molécule ayant une vitesse très élevée est faible.\n",
    "2. L'exposant $M/(2RT)$ qui multiplie $v^2$ dans l'exponentiellement décroissante fait en sorte qu'à masse molaire élevée ou à température faible, celle-ci décroit beaucoup plus rapidement. Il est donc peu probable de trouver des molécules se déplaçant à grande vitesse quand la masse molaire est élevée ou quand la température est basse.\n",
    "3. Inversément, à grande température, une plus grande fraction de molécule peut se trouver avec une vitesse élevée par rapport à une plus faible température.\n",
    "4. Le facteur $v^2$ qui se trouve avant l'exponentiellement tend vers zéro quand $v \\rightarrow 0$. La fraction de molécule ayant une faible vitesse sera aussi très petit qu'importe leur masse."
   ]
  },
  {
   "cell_type": "markdown",
   "metadata": {},
   "source": [
    "## Valeurs moyennes"
   ]
  },
  {
   "cell_type": "markdown",
   "metadata": {},
   "source": [
    "A partir de cette distribution, il est possible d'en extraire certaines valeurs moyennes de vitesse."
   ]
  },
  {
   "cell_type": "markdown",
   "metadata": {},
   "source": [
    "### 1) Vitesse la plus probable"
   ]
  },
  {
   "cell_type": "markdown",
   "metadata": {},
   "source": [
    "Cette vitesse est définie comme étant le maximum de la distribution:\n",
    "\\begin{align*}\n",
    "\\frac{\\text{d}f(v)}{\\text{d}v} &= 0 \\\\\n",
    "&= \\frac{\\text{d}}{\\text{d}v} \\left( 4 \\pi \\left(\\frac{M}{2\\pi RT}\\right)^{3/2} v^2 e^{-Mv^2/(2RT)} \\right)\\\\\n",
    "&=4 \\pi \\left(\\frac{M}{2\\pi RT}\\right)^{3/2} \\left( 2 v e^{-Mv^2/(2RT)} - v^3 \\frac{M}{RT} e^{-Mv^2/(2RT)}\\right)\\\\\n",
    "&=4 \\pi v e^{-Mv^2/(2RT)} \\left(\\frac{M}{2\\pi RT}\\right)^{3/2} \\left( 2  - v^2 \\frac{M}{RT} \\right)\n",
    "\\end{align*}"
   ]
  },
  {
   "cell_type": "markdown",
   "metadata": {},
   "source": [
    "Si on retire les solutions $v=0$ et $v=\\infty$, la solution restate nous donne $v_{mp}$:\n",
    "\\begin{align*}\n",
    "v_{\\text{rp}} &= \\sqrt{\\frac{2RT}{M}}\n",
    "\\end{align*}"
   ]
  },
  {
   "cell_type": "markdown",
   "metadata": {},
   "source": [
    "### 2) Vitesse moyenne"
   ]
  },
  {
   "cell_type": "markdown",
   "metadata": {},
   "source": [
    "La moyenne d'une liste de chose ($x_i$) est simplement la somme de cette chose multiplié par un poids ($w_i$). Ce poids est normalié de telle façon que la somme des poids vaut 1:\n",
    "\\begin{align*}\n",
    "\\bar{x} &= \\sum_i^N x_i w_i\\\\\n",
    "1 &= \\sum_i^N w_i\n",
    "\\end{align*}\n",
    "Ainsi, dans une moyenne arithmétique, tous les poids valent la même chose $w_i = w = 1/N$.\n",
    "\n",
    "Pour une distribution, la somme est remplacée par une intégrale et le poids est donné par la distribution elle-même multiplié par $\\text{d}v$. Dès lors la vitesse moyenne est donnée par:\n",
    "\\begin{align*}\n",
    "\\bar{v} &= \\int_{0}^{\\infty} v f(v) \\text(d)v\n",
    "\\end{align*}\n",
    "Cela correspond à sommer toutes les vitesses possibles multiplié par la probabilité $f(v) \\text{d}v$ d'avoir cette vitesse."
   ]
  },
  {
   "cell_type": "markdown",
   "metadata": {},
   "source": [
    "\\begin{align*}\n",
    "\\bar{v} &= \\int_{0}^{\\infty} v f(v) \\text{d}v\\\\\n",
    "&= \\int_{0}^{\\infty} 4 \\pi \\left(\\frac{M}{2\\pi RT}\\right)^{3/2} v^3 e^{-Mv^2/(2RT)} \\text{d} v\\\\\n",
    "&=  4 \\pi \\left(\\frac{M}{2\\pi RT}\\right)^{3/2} \\int_{0}^{\\infty}v^3 e^{-Mv^2/(2RT)} \\text{d} v\\\\\n",
    "&=  4 \\pi \\left(\\frac{M}{2\\pi RT}\\right)^{3/2} \\times \\frac{1}{2} \\left(\\frac{2RT}{M}\\right)^{2}\\\\\n",
    "&= \\sqrt{\\frac{8RT}{\\pi M}}\n",
    "\\end{align*}\n",
    "où à nouveau l'intégrale peut être trouvée dans les tables mathématiques:  $\\int_{0}^\\infty x^3 e^{-\\alpha x^2} \\text{d}x = \\frac{1}{2\\alpha^2}$"
   ]
  },
  {
   "cell_type": "markdown",
   "metadata": {},
   "source": [
    "### 3) Vitesse quadratique moyenne"
   ]
  },
  {
   "cell_type": "markdown",
   "metadata": {},
   "source": [
    "De manière similaire, le carré de vitesse quadratique moyenne $v_{\\text{rms}}^2$ est la moyenne de $v^2$:\n",
    "\\begin{align*}\n",
    "v_{\\text{rms}}^2 &= \\langle v^2 \\rangle = \\int_{0}^{\\infty} v^2 f(v) \\text{d}v\\\\\n",
    "&= \\int_{0}^{\\infty} 4 \\pi \\left(\\frac{M}{2\\pi RT}\\right)^{3/2} v^4 e^{-Mv^2/(2RT)} \\text{d} v\\\\\n",
    "&=  4 \\pi \\left(\\frac{M}{2\\pi RT}\\right)^{3/2} \\int_{0}^{\\infty}v^4 e^{-Mv^2/(2RT)} \\text{d} v\\\\\n",
    "&=  4 \\pi \\left(\\frac{M}{2\\pi RT}\\right)^{3/2} \\times \\frac{3}{8} \\left(\\frac{2^5\\pi R^5T^5}{M^5}\\right)^{1/2}\\\\\n",
    "&= \\frac{3RT}{ M}\\\\\n",
    "v_{\\text{rms}} &= \\sqrt{\\frac{3RT}{ M}}\n",
    "\\end{align*}\n",
    "où à nouveau l'intégrale peut être trouvée dans les tables mathématiques:  $\\int_{0}^\\infty x^4 e^{-\\alpha x^2} \\text{d}x = \\frac{3}{8}\\sqrt{\\frac{\\pi}{\\alpha^5}}$"
   ]
  },
  {
   "cell_type": "markdown",
   "metadata": {},
   "source": [
    "A partir de cette valeur, on peut évaluer l'énergie cinétique molaire moyenne des particules:\n",
    "\\begin{align*}\n",
    "\\langle E_{\\text{k}} \\rangle &= N_{\\text{A}} \\frac{1}{2}m \\langle v^2 \\rangle\\\\\n",
    "&= \\frac{1}{2}M \\frac{3RT}{M}\\\\\n",
    "&= \\frac{3}{2} RT\n",
    "\\end{align*}\n",
    "On tombe sur la valeur prédite par le théorème d'équipartition: $\\frac{1}{2}RT$ par degré de liberté de translation. **La distribution de Maxwell-Boltzmann automatiquement satisfait au théorème d'équipartition.**"
   ]
  },
  {
   "cell_type": "markdown",
   "metadata": {},
   "source": [
    "Ces trois manières d'évaluer la vitesse des particules dans un gaz parfait donne des résultats différents comme l'illustre la figure ci-dessous. Ce sont trois manière différente de quantifié cette vitesse.\n",
    "\n",
    "<img src=\"Pictures/ch01Bf06.jpg\" width=600 />"
   ]
  },
  {
   "cell_type": "markdown",
   "metadata": {},
   "source": [
    "Pour la molécule de N$_2$ de masse molaire $28.02$ g/mol, on obtient les valeurs suivantes pour ces différentes vitesses"
   ]
  },
  {
   "cell_type": "code",
   "execution_count": null,
   "metadata": {
    "tags": []
   },
   "outputs": [],
   "source": [
    "import math\n",
    "R = 8.31447 # J/mol/K\n",
    "M = 28.02e-3 # molar mass of N2 in kg/mol\n",
    "T = 298.15 # K\n",
    "vmp = math.sqrt(2*R*T/M)\n",
    "vmean = math.sqrt(8*R*T/(math.pi*M))\n",
    "vrms = math.sqrt(3*R*T/M)\n",
    "print(f\"Vitesse la plus probable: {vmp:.2f} m/s\")\n",
    "print(f\"Vitesse moyenne:          {vmean:.2f} m/s\")\n",
    "print(f\"Vitesse rms:              {vrms:.2f} m/s\")"
   ]
  },
  {
   "cell_type": "markdown",
   "metadata": {},
   "source": [
    "C'est vitesse sont comparable à la vitesse de propagation du son dans l'air de 340 m/s."
   ]
  },
  {
   "cell_type": "markdown",
   "metadata": {},
   "source": [
    "## Equation des gaz parfaits"
   ]
  },
  {
   "cell_type": "markdown",
   "metadata": {},
   "source": [
    "En repartant de l'expression de la pression en fonction de $v_{\\text{rms}}^2$ et en substituant la valeur que nous venons d'obtenir pour cette quantité, on obtient l'équation des gaz parfaits:\n",
    "\\begin{align*}\n",
    "\\bar{p} V &= \\frac{1}{3} v_{\\text{rms}}^2 n M\\\\\n",
    "\\bar{p} V &= \\frac{1}{3} \\frac{3RT}{M} n M\\\\\n",
    "pV &= nRT\n",
    "\\end{align*}"
   ]
  },
  {
   "cell_type": "markdown",
   "metadata": {},
   "source": [
    "## Simulation d'un gaz"
   ]
  },
  {
   "cell_type": "code",
   "execution_count": null,
   "metadata": {
    "tags": []
   },
   "outputs": [],
   "source": [
    "%matplotlib inline\n",
    "import math\n",
    "import numpy\n",
    "import random\n",
    "import matplotlib.pyplot as plt\n",
    "from matplotlib.patches import Rectangle\n",
    "import matplotlib as mpl\n",
    "import matplotlib.animation as animation\n",
    "from IPython.display import HTML\n",
    "\n",
    "R = 8.314462618 # J mol-1 K-1\n",
    "Na = 6.02214076e23 #mol-1\n",
    "\n",
    "#-------------------------------------------------------------------------------\n",
    "# Class definitions\n",
    "\n",
    "class SimulationBox:\n",
    "    def __init__(self, N, V, T, ndim, mass, radius, verbose, nbOfHighlightedParticles=0, histStep=50):\n",
    "        self.N = N\n",
    "        self.nbOfHighlightedParticles = nbOfHighlightedParticles\n",
    "        self.V = V #m^3\n",
    "        self.T = T #K\n",
    "        self.ndim = ndim\n",
    "        self.histStep = histStep\n",
    "        \n",
    "        self.mass = mass #kg/mol\n",
    "        self.radius = radius #m\n",
    "        self.length = math.pow(V, 1/3) # in m\n",
    "        self.totalSurface = self.ndim * 2 * self.length * self.length #or pow(length, ndim-1)\n",
    "        \n",
    "        if verbose:\n",
    "            print(f\"Number of molecules: {self.N}\")\n",
    "            print(f\"Volume of the cubic box: {self.V*1e27:.2f} nm^3\")\n",
    "            print(f\"Molar Volume: {self.V * Na / self.N*1e3:.2f} l/mol\")\n",
    "            print(f\"Length of the cubic box: {self.length*1e10:.2f} Ang\")\n",
    "            print(f\"Temperature: {self.T:.2f} K\")\n",
    "            print(f\"Molar mass: {self.mass*1e3:.2f} g/mol\")\n",
    "            print(f\"Volume occupied by the gaz molecules themselves: {4/3*math.pi*pow(self.radius, 3)*self.N*1e27:.2f} nm^3\")\n",
    "            # Derived properties from gas law, MB distribution and equipartition\n",
    "            print(f\"Exact mean speed: {self.exactMeanSpeed():.2f} m/s\")\n",
    "            print(f\"Exact RMS speed: {self.exactRMSSpeed():.2f} m/s\")\n",
    "            print(f\"Pressure from perfect gaz law: {self.exactPressure()*1e-5:.2f} bar\")\n",
    "            \n",
    "        # Initialize the figure\n",
    "        self.fig = plt.figure(figsize=(12, 6))#, dpi=200)\n",
    "\n",
    "    def setupParticles(self, verbose, nbOfInitialMovingParticles=None):\n",
    "        # Initialize the particles for the simulation\n",
    "        self.listOfWalls = []\n",
    "        d = self.length/2 # half length between walls\n",
    "        if self.ndim == 2:\n",
    "            self.listOfWalls.append(Wall(numpy.array([1, 0]), d))\n",
    "            self.listOfWalls.append(Wall(numpy.array([-1, 0]), d))\n",
    "            self.listOfWalls.append(Wall(numpy.array([0, 1]), d))\n",
    "            self.listOfWalls.append(Wall(numpy.array([0, -1]), d))\n",
    "        elif self.ndim == 3:\n",
    "            self.listOfWalls.append(Wall(numpy.array([1, 0, 0]), d))\n",
    "            self.listOfWalls.append(Wall(numpy.array([-1, 0, 0]), d))\n",
    "            self.listOfWalls.append(Wall(numpy.array([0, 1, 0]), d))\n",
    "            self.listOfWalls.append(Wall(numpy.array([0, -1, 0]), d))\n",
    "            self.listOfWalls.append(Wall(numpy.array([0, 0, 1]), d))\n",
    "            self.listOfWalls.append(Wall(numpy.array([0, 0, -1]), d))\n",
    "\n",
    "        random.seed()\n",
    "        self.listOfParticles = []\n",
    "        # Initial condition for speed\n",
    "        Nbis = self.N if nbOfInitialMovingParticles is None else nbOfInitialMovingParticles\n",
    "        velocity = self.exactRMSSpeed() * math.sqrt(self.N/Nbis)\n",
    "        velocities = numpy.zeros(self.N)\n",
    "        for i in range(Nbis):\n",
    "            velocities[i] = velocity\n",
    "        for i in range(self.N):        \n",
    "            phi = random.uniform(0, 2*math.pi)\n",
    "            if self.ndim == 2:\n",
    "                randomUnitVector = numpy.array([math.cos(phi), math.sin(phi)])\n",
    "                randomPosition = numpy.array([random.uniform(-d, d), random.uniform(-d, d)])\n",
    "            elif self.ndim == 3:\n",
    "                theta = random.uniform(0, math.pi)\n",
    "                randomUnitVector = numpy.array([math.sin(theta) * math.cos(phi), math.sin(theta) * math.sin(phi), math.cos(theta)])\n",
    "                randomPosition = numpy.array([random.uniform(-d, d), random.uniform(-d, d), random.uniform(-d, d)])\n",
    "            self.listOfParticles.append(Particle(randomPosition, velocities[i] * randomUnitVector, mass, radius))\n",
    "\n",
    "        if verbose:\n",
    "            print()\n",
    "            print(\"Initial values\")\n",
    "            self.report()\n",
    "            self.figure()\n",
    "            self.fig.savefig(\"gas_initial.pdf\")\n",
    "                        \n",
    "\n",
    "    def report(self):\n",
    "        print(f\"Nb of particles in the simulation box: {self.nbOfParticlesInside()}\")\n",
    "        print(f\"Mean speed: {self.measuredMeanSpeed():.2f} m/s\")\n",
    "        print(f\"RMS speed: {self.measuredRMSSpeed():.2f} m/s\")\n",
    "        print(f\"Mean kinetic energy: {self.measuredMeanKineticEnergy():.2f} J/mol\")\n",
    "\n",
    "    def figure(self):\n",
    "        self.fig.clf()\n",
    "        v = numpy.linspace(0, 1000, 100000) # m/s\n",
    "        positions = self.positions()*1e9 # in nm\n",
    "        velocities = self.velocities()\n",
    "        radius = self.listOfRadius()*1e9 # in nm\n",
    "        linewidths = numpy.zeros(self.N)\n",
    "        bins = int(1000 / self.histStep)\n",
    "        for i in range(min(self.nbOfHighlightedParticles, self.N)):\n",
    "            linewidths[i] = 1.5\n",
    "        #[1.5 if i%(0.2*N)==0 else 0 for i in range(N)]\n",
    "        if self.ndim == 2:\n",
    "            self.fig.subplots_adjust(wspace=0.5)\n",
    "            f = 1.20\n",
    "            d = self.length / 2\n",
    "            ax = self.fig.add_subplot(121, aspect='equal', autoscale_on=False, xlim=(-d*1e9*f, d*1e9*f), ylim=(-d*1e9*f, d*1e9*f), xlabel=\"nm\", ylabel=\"nm\")\n",
    "            rect = Rectangle((-d*1e9,-d*1e9),\n",
    "                             2*d*1e9,\n",
    "                             2*d*1e9,\n",
    "                             ec='black', lw=2, fc='none')\n",
    "            ax.add_patch(rect)\n",
    "            # ax.grid()\n",
    "            cmap = mpl.cm.jet#viridis\n",
    "            norm = mpl.colors.Normalize(vmin=200, vmax=800)\n",
    "            scaling = (ax.get_window_extent().width  / (2*d*1e9) * 72./self.fig.dpi) # pt / nm\n",
    "            ax.scatter(positions[:, 0], positions[:, 1], c=velocities, s=numpy.power(scaling*2*radius, 2), edgecolors=\"red\", linewidths=linewidths, cmap=cmap, norm=norm)\n",
    "            axl = self.fig.add_axes([0.12, 0.05, 0.32, 0.05])\n",
    "            self.fig.colorbar(mpl.cm.ScalarMappable(cmap=cmap, norm=norm),\n",
    "                     cax=axl, orientation='horizontal', label='m/s')\n",
    "            ax2 = self.fig.add_subplot(122)\n",
    "        else:\n",
    "            ax2 = self.fig.add_subplot(111)\n",
    "        ax2.set_xlabel(r\"$v$ [m/s]\")\n",
    "        ax2.set_xlim(0, 1000)\n",
    "        ax2.set_ylabel(r\"Distribution des vitesses\")\n",
    "        ax2.plot(v, self.MBdistribution(v))#, label=f\"T={T} K\")\n",
    "        histo = ax2.hist(velocities, bins=bins, range=(0, 1000), density=True)\n",
    "        ax2.axvline(self.exactMeanSpeed(), color=\"black\", label=\"Exact mean speed\")\n",
    "        ax2.axvline(self.measuredMeanSpeed(), color=\"red\", label=\"Mean speed\")\n",
    "        ax2.axvline(self.measuredRMSSpeed(), color=\"green\", label=\"RMS speed\")\n",
    "        ax2.set_ylim(0, 0.0035)\n",
    "        if hasattr(self, \"listOfPressures\") and len(self.listOfPressures) > 0:\n",
    "            ax3 = ax2.twinx()\n",
    "            ax3.set_ylabel(r\"Pressure [bar]\")\n",
    "            pressure = self.listOfPressures[-1] * 1e-5 # bar\n",
    "            ax3.axhline(pressure, label=f\"{pressure:.2f} bar\")\n",
    "            ax3.set_ylim(0, 6*self.exactPressure() * 1e-5)\n",
    "        self.fig.legend()\n",
    "\n",
    "    def exactMeanSpeed(self):\n",
    "        # from the Maxwell-Boltzmann distribution\n",
    "        if self.ndim == 2:\n",
    "            return math.sqrt(math.pi*R*self.T/(2*self.mass))\n",
    "        elif self.ndim == 3:\n",
    "            return math.sqrt(8*R*self.T/(math.pi*self.mass))\n",
    "\n",
    "    def exactRMSSpeed(self):\n",
    "        # from the Maxwell-Boltzmann distribution\n",
    "        return math.sqrt(self.ndim * R * self.T / self.mass)\n",
    "\n",
    "    def exactMeanKineticEnergy(self):\n",
    "        # from the Maxwell-Boltzmann distribution\n",
    "        # correspond to the equipartition for kinetic energy\n",
    "        return self.ndim * R * self.T / 2\n",
    "    \n",
    "    def exactPressure(self):\n",
    "        # from perfect gas law in Pa\n",
    "        # p = n R T / V = N R T / (V Na)= N kb T / V\n",
    "        return self.N * R * self.T / (self.V * Na)\n",
    "    \n",
    "    def measuredMeanSpeed(self):\n",
    "        return sum([x.speed() for x in self.listOfParticles]) / self.N\n",
    "        \n",
    "    def measuredRMSSpeed(self):\n",
    "        return math.sqrt(sum([x.squareVelocity() for x in self.listOfParticles]) / self.N)\n",
    "    \n",
    "    def measuredMeanKineticEnergy(self):\n",
    "        return sum([x.kineticEnergy() for x in self.listOfParticles]) / self.N #in J/mol = ndim/2 R T from equipartition\n",
    "    \n",
    "    def velocities(self):\n",
    "        # in m/s\n",
    "        return numpy.array([x.speed() for x in self.listOfParticles])\n",
    "        \n",
    "    def positions(self):\n",
    "        # shape [N, ndim] in m\n",
    "        return numpy.array([x.position for x in self.listOfParticles])\n",
    "        \n",
    "    def listOfRadius(self):\n",
    "        # in m\n",
    "        return numpy.array([x.radius for x in self.listOfParticles])\n",
    "    \n",
    "    def listOfMasses(self):\n",
    "        # in kg/mol\n",
    "        return numpy.array([x.mass for x in self.listOfParticles])\n",
    "    \n",
    "    def nbOfParticlesInside(self):\n",
    "        return sum([x.isInside(self.listOfWalls) for x in self.listOfParticles])\n",
    "\n",
    "    def MBdistribution(self, v):\n",
    "        \"\"\"\n",
    "        v is a numpy array for which evaluate the Maxwell-Boltzmann distribution of speed\n",
    "        \"\"\"\n",
    "        alpha = self.mass / (2*R*self.T)\n",
    "        if self.ndim == 2:\n",
    "            return (self.mass / (R*self.T)) * v * numpy.exp(-alpha*v*v)\n",
    "        elif self.ndim == 3:\n",
    "            return (4*math.pi*pow(self.mass/(2*math.pi*R*self.T), 3/2)) * v * v * numpy.exp(-alpha*v*v)\n",
    "    \n",
    "    def resetSimulationMeasurements(self):\n",
    "        self.nCollisions = 0\n",
    "        self.nWallCollisions = 0\n",
    "        self.listOfPressures = []\n",
    "    \n",
    "    def printSimulationMeasurements(self):\n",
    "        print(f\"Nb of collisions: {self.nCollisions}\")\n",
    "        print(f\"Nb of collisions on wall: {self.nWallCollisions}\")\n",
    "        totalPressure = sum(self.listOfPressures)\n",
    "        print(f\"Mean Total pressure: {totalPressure/len(self.listOfPressures)*1e-5:6.3f} bar\")\n",
    "        \n",
    "    def launchSimulation(self, maxSteps, timeStep, verbose, verboseStep=None):\n",
    "        self.resetSimulationMeasurements()\n",
    "        if verbose:\n",
    "            print()\n",
    "            print(f\"{maxSteps} steps of {timeStep*1e12} ps\")\n",
    "            print(f\"Total time of the simulation {maxSteps * timeStep * 1e9} ns\")\n",
    "\n",
    "        for istep in range(maxSteps):\n",
    "            self.performSimulation(istep, timeStep, verboseStep=verboseStep)\n",
    "            \n",
    "        if verbose:\n",
    "            print()\n",
    "            print(\"Final values\")\n",
    "            self.report()\n",
    "            self.figure()\n",
    "            self.fig.savefig(\"gas_final.pdf\")\n",
    "            self.printSimulationMeasurements()\n",
    "\n",
    "    def performSimulation(self, istep, timeStep, verboseStep=None):\n",
    "        # propage the position\n",
    "        for particle in self.listOfParticles:\n",
    "            particle.propage(timeStep)\n",
    "        # check if the particle will collide with another one\n",
    "        for i in range(self.N):\n",
    "            for j in range(i+1, self.N):\n",
    "                particlei = self.listOfParticles[i]\n",
    "                particlej = self.listOfParticles[j]\n",
    "                if particlei.canCollide(particlej):\n",
    "                    # apply the collision\n",
    "                    # print(\"collision\")\n",
    "                    self.nCollisions += 1\n",
    "                    particlei.collide(particlej)\n",
    "        # check if the particle will collide with a wall\n",
    "        pressure = 0\n",
    "        for particle in self.listOfParticles:\n",
    "            for wall in self.listOfWalls:\n",
    "                if particle.canWallCollide(wall):\n",
    "                    # apply the collision\n",
    "                    # print(\"wall collision\")\n",
    "                    self.nWallCollisions += 1\n",
    "                    pressure += particle.wallCollide(wall)\n",
    "        pressure = pressure / (timeStep * self.totalSurface)\n",
    "        self.listOfPressures.append(pressure)\n",
    "        if verboseStep is not None and (istep+1)%verboseStep == 0:\n",
    "            print(f\"Step: {istep+1}\")\n",
    "            self.report()\n",
    "            self.figure()\n",
    "            self.fig.savefig(f\"gas_{istep+1:05d}.pdf\")\n",
    "            print(f\"Local pressure {pressure*1e-5:6.3f} bar\")\n",
    "        # ofile = open(f\"particle{istep}.xyz\", \"w\")\n",
    "        # ofile.write(f\"{nparticles}\\n\\n\")\n",
    "        # for particle in listOfParticles:\n",
    "        #     ofile.write(f\"C {particle.position[0]*1e10:.6f}  {particle.position[1]*1e10:.6f}  {particle.position[2]*1e10:.6f}\\n\")\n",
    "        # ofile.write(\"\\n\\n\")\n",
    "        # ofile.close()\n",
    "\n",
    "class Wall:\n",
    "    \"\"\"\n",
    "    A wall is define by a normal unit vector that point toward the exterior of the volume and a positive scalar coordinate w along this normal vector\n",
    "    \"\"\"\n",
    "    def __init__(self, n, w):\n",
    "        self.n = n # normal unit vector as numpy array\n",
    "        self.w = w  # w is a float scalar value\n",
    "\n",
    "class Particle:\n",
    "    def __init__(self, position, velocity, mass, radius):\n",
    "        self.position = position # numpy array for position\n",
    "        self.velocity = velocity # numpy array for velocity\n",
    "        self.mass = mass\n",
    "        self.radius = radius\n",
    "        self.nCollisions = 0\n",
    "        self.nWallCollisions = 0\n",
    "\n",
    "    def propage(self, dt):\n",
    "        \"\"\"\n",
    "        \\vec{r}(t+dt) = \\vec{r}(t) + \\vec{v} dt\n",
    "        \"\"\"\n",
    "        self.position = self.position + self.velocity * dt\n",
    "\n",
    "    def canCollide(self, p2):\n",
    "        \"\"\"\n",
    "        |\\vec{r1} - \\vec{r2}| <= radius1 + radius2\n",
    "        \"\"\"\n",
    "        p1 = self\n",
    "        distance = numpy.linalg.norm(p2.position-p1.position)\n",
    "        return distance <= p1.radius + p2.radius\n",
    "\n",
    "    def collide(self, p2):\n",
    "        \"\"\"\n",
    "        \\vec{v}_1 -> \\vec{v}_1 + \\vec{q}/mass1\n",
    "        \\vec{v}_2 -> \\vec{v}_2 - \\vec{q}/mass2\n",
    "        By considering that \\vec{q} must lie along \\vec{r}_1 - \\vec{r}_2 and that the kinetic energy is conserved:\n",
    "        \\vec{r12} = \\vec{r}_1 - \\vec{r}_2 / |\\vec{r}_1 - \\vec{r}_2|\n",
    "        \\vec{q} = -2 mass1 mass2 / (mass1+mass2) [(\\vec{v}_1 - \\vec{v}_2).\\vec{r12}] \\vec{r12}\n",
    "        \"\"\"\n",
    "        p1 = self\n",
    "        r12 = p1.position - p2.position\n",
    "        r12 = r12 / numpy.linalg.norm(r12)\n",
    "        v12 = p1.velocity - p2.velocity\n",
    "        factor = -2 * p1.mass * p2.mass / (p1.mass + p2.mass)\n",
    "        q = factor * numpy.dot(v12, r12) * r12\n",
    "        p1.velocity = p1.velocity + q / p1.mass\n",
    "        p2.velocity = p2.velocity - q / p2.mass\n",
    "        self.nCollisions += 1\n",
    "\n",
    "    def isInside(self, listOfWalls):\n",
    "        \"\"\"\n",
    "        \\vec{r} = (w+radius) \\vec{n}\n",
    "        \\vec{r} . \\vec{n} <= w+radius for inside\n",
    "        \"\"\"\n",
    "        for wall in listOfWalls:\n",
    "            # test if outside\n",
    "            if numpy.dot(self.position, wall.n) > wall.w + self.radius:\n",
    "                return 0\n",
    "        return 1\n",
    "\n",
    "    def canWallCollide(self, wall):\n",
    "        \"\"\"\n",
    "        \\vec{r} = (w-radius) \\vec{n}\n",
    "        \\vec{r} . \\vec{n} >= w-radius\n",
    "        \"\"\"\n",
    "        positionCheck = numpy.dot(self.position, wall.n) >= wall.w - self.radius\n",
    "        # also check if the speed as a positive component toward the wall\n",
    "        velocityCheck = numpy.dot(self.velocity, wall.n) > 0\n",
    "        return positionCheck and velocityCheck\n",
    "    \n",
    "    def wallCollide(self, wall):\n",
    "        \"\"\"\n",
    "        The component of the velocity normal to the wall is inverted\n",
    "        \\vec{v} -> \\vec{v}-2 (\\vec{v}.\\vec{n}) \\vec{n}\n",
    "        \"\"\"\n",
    "        deltaVelocity = 2 * numpy.dot(self.velocity, wall.n) # always > 0 since velocityCheck in canWallCollide\n",
    "        self.velocity = self.velocity - deltaVelocity * wall.n\n",
    "        self.nWallCollisions += 1\n",
    "        return self.mass * deltaVelocity/Na # return the change of momentum in SI\n",
    "    \n",
    "    def squareVelocity(self):\n",
    "        return numpy.dot(self.velocity, self.velocity)\n",
    "    \n",
    "    def speed(self):\n",
    "        return math.sqrt(self.squareVelocity())\n",
    "    \n",
    "    def hasSpeed(self, start, end):\n",
    "        s = self.speed()\n",
    "        return 1 if (s >= start and s <= end) else 0\n",
    "    \n",
    "    def kineticEnergy(self):\n",
    "        \"\"\"\n",
    "        #Na 1/2 m v^2 = 1/2 M v^2 in J/mol\n",
    "        \"\"\"\n",
    "        return 0.5 * self.mass * self.squareVelocity()\n",
    "\n",
    "#-------------------------------------------------------------------------------\n",
    "# setup the simulation\n",
    "\n",
    "# N V T ensemble\n",
    "nparticles = 2000\n",
    "nbOfInitialMovingParticles = 10 #None\n",
    "nbOfHighlightedParticles = nbOfInitialMovingParticles #int(0.15*nparticles)\n",
    "Vm = 24.79e-3 # Molar Volume in m^3 mol-1 = V / n = V Na/N\n",
    "T = 298.15 # K\n",
    "V = Vm * nparticles / Na # volume in m^3 = N Vm / Na\n",
    "\n",
    "# Gas properties\n",
    "mass = 28.02e-3 #kg/mol of N2\n",
    "radius = 1.2*185e-12 # sigma = pi d^2 = 4 pi r^2 = 0.43e-18 m^2\n",
    "\n",
    "simulation = SimulationBox(N=nparticles, V=V, T=T, ndim=2, mass=mass, radius=radius, verbose=True, nbOfHighlightedParticles=nbOfHighlightedParticles, histStep=40)\n",
    "simulation.setupParticles(verbose=False, nbOfInitialMovingParticles=nbOfInitialMovingParticles)\n",
    "print(\"Initial values\")\n",
    "simulation.report()\n",
    "simulation.figure()\n",
    "#simulation.fig.savefig(\"gas_initial.pdf\")\n",
    "\n",
    "#-------------------------------------------------------------------------------\n",
    "# set up the animation\n",
    "\n",
    "def animate(iStep):\n",
    "    global simulation, timeStep\n",
    "    if iStep > 0:\n",
    "        simulation.performSimulation(iStep, timeStep, verboseStep=None)\n",
    "    simulation.figure()\n",
    "    simulation.fig.suptitle(f\"{nparticles} molecules, {V*1e27:.2f} nm^3, {T:.2f} K, t: {iStep*timeStep*1e12:5.1f} ps\")\n",
    "    return simulation.fig,\n",
    "\n"
   ]
  },
  {
   "cell_type": "code",
   "execution_count": 12,
   "metadata": {
    "tags": []
   },
   "outputs": [],
   "source": [
    "#-------------------------------------------------------------------------------\n",
    "# animate\n",
    "simulation.resetSimulationMeasurements()\n",
    "maxSteps = 100\n",
    "timeStep = 1e-12 # in s\n",
    "slowDown = 4e11\n",
    "fps = 1 / (timeStep * slowDown)\n",
    "#print()\n",
    "#print(f\"{maxSteps} steps of {timeStep*1e12} ps\")\n",
    "#print(f\"Total time of the simulation {maxSteps * timeStep * 1e9} ns\")\n",
    "ani = animation.FuncAnimation(simulation.fig, animate, frames=maxSteps,\n",
    "                        interval=timeStep*1000*slowDown, blit=False)\n",
    "\n",
    "#ani.save('gas.mp4', fps=fps, extra_args=['-vcodec', 'libx264'])\n",
    "HTML(ani.to_jshtml())"
   ]
  },
  {
   "cell_type": "code",
   "execution_count": null,
   "metadata": {
    "tags": []
   },
   "outputs": [],
   "source": [
    "#-------------------------------------------------------------------------------\n",
    "# final observations\n",
    "print(\"Final values\")\n",
    "simulation.report()\n",
    "simulation.figure()\n",
    "#simulation.fig.savefig(\"gas_final.pdf\")\n",
    "simulation.printSimulationMeasurements()"
   ]
  },
  {
   "cell_type": "code",
   "execution_count": null,
   "metadata": {
    "tags": []
   },
   "outputs": [],
   "source": [
    "# repeat the simulation\n",
    "simulation.resetSimulationMeasurements()\n",
    "maxSteps = 100\n",
    "timeStep = 1e-12 # in s\n",
    "slowDown = 4e11\n",
    "fps = 1 / (timeStep * slowDown)\n",
    "#print()\n",
    "#print(f\"{maxSteps} steps of {timeStep*1e12} ps\")\n",
    "#print(f\"Total time of the simulation {maxSteps * timeStep * 1e9} ns\")\n",
    "ani = animation.FuncAnimation(simulation.fig, animate, frames=maxSteps,\n",
    "                        interval=timeStep*1000*slowDown, blit=False)\n",
    "HTML(ani.to_jshtml())\n"
   ]
  },
  {
   "cell_type": "code",
   "execution_count": null,
   "metadata": {
    "tags": []
   },
   "outputs": [],
   "source": [
    "#-------------------------------------------------------------------------------\n",
    "# final observations\n",
    "print(\"Final values\")\n",
    "simulation.report()\n",
    "simulation.figure()\n",
    "#simulation.fig.savefig(\"gas_final.pdf\")\n",
    "simulation.printSimulationMeasurements()"
   ]
  },
  {
   "cell_type": "code",
   "execution_count": null,
   "metadata": {},
   "outputs": [],
   "source": []
  },
  {
   "cell_type": "code",
   "execution_count": null,
   "metadata": {},
   "outputs": [],
   "source": []
  }
 ],
 "metadata": {
  "kernelspec": {
   "display_name": "Python 3 (ipykernel)",
   "language": "python",
   "name": "python3"
  },
  "language_info": {
   "codemirror_mode": {
    "name": "ipython",
    "version": 3
   },
   "file_extension": ".py",
   "mimetype": "text/x-python",
   "name": "python",
   "nbconvert_exporter": "python",
   "pygments_lexer": "ipython3",
   "version": "3.12.3"
  }
 },
 "nbformat": 4,
 "nbformat_minor": 4
}
