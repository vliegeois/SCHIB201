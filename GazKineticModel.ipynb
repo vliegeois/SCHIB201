{
 "metadata": {
  "language_info": {
   "codemirror_mode": {
    "name": "ipython",
    "version": 3
   },
   "file_extension": ".py",
   "mimetype": "text/x-python",
   "name": "python",
   "nbconvert_exporter": "python",
   "pygments_lexer": "ipython3",
   "version": "3.8.5-final"
  },
  "orig_nbformat": 2,
  "kernelspec": {
   "name": "python_defaultSpec_1600779753400",
   "display_name": "Python 3.8.5 64-bit"
  }
 },
 "nbformat": 4,
 "nbformat_minor": 2,
 "cells": [
  {
   "source": [
    "# Modèle Cinétique d'un gaz parfait"
   ],
   "cell_type": "markdown",
   "metadata": {}
  },
  {
   "source": [
    "Ce modèle permet de retrouver la loi des gaz parfaits ainsi que d'expliquer son comportement simplement en considérant que **l'énergie d'un gaz parfait provient uniquement de l'énergie cinétique des molécules qui le constituent** et que ces **molécules sont des sphères rigident qui s'entrechoquent de manière élastique**."
   ],
   "cell_type": "markdown",
   "metadata": {}
  },
  {
   "source": [
    "Le modèle se base donc sur 3 assomptions:\n",
    "\n",
    "1. Le gaz est constitué de molécules (sphères rigides) de masse $m$ en mouvement aléatoire incessant et qui obeissent aux lois de la méchaniques classiques.\n",
    "\\begin{align*}\n",
    "\\vec{F} &= m \\vec{a} = \\frac{\\text{d}\\vec{p}}{\\text{d}t}\n",
    "\\end{align*}\n",
    "où $\\vec{a}$ est l'accélération et $\\vec{p}=m\\vec{v}$ la quantité de mouvement.\n",
    "\n",
    "2. La taille des molécules est négligeable, dans le sens que leur diamètre est inférieure que la distance moyenne entre deux collisions.\n",
    "3. Les molécules n'interagissent pas entre elles excepté lors qu'elles rentrent en collision l'une avec l'autre de manière totalement élastique. *Note: Une collision élastique est une collision dans laquelle l'énergie cinétique totale de translation des molécules est conservée.*"
   ],
   "cell_type": "markdown",
   "metadata": {}
  },
  {
   "source": [
    "## Pression et vitesse des molécules"
   ],
   "cell_type": "markdown",
   "metadata": {}
  },
  {
   "source": [
    "La première étape de ce modèle consiste à déterminer la relation entre la pression et la vitesse des molécules. Pour cela, nous calculons la force exercée sur les parois lorsqu'une molécule de gaz cogne contre celle-ci."
   ],
   "cell_type": "markdown",
   "metadata": {}
  },
  {
   "source": [
    "<img src=\"Pictures/ch01Bf01.jpg\" width=600 />"
   ],
   "cell_type": "markdown",
   "metadata": {}
  },
  {
   "source": [
    "Comme nous le voyons dans le schéma ci-dessus, quand une particule de masse $m$ qui se déplace avec une composante de la vitesse $v_x$ parallèle à l'axe $x$ rentre en collision avec la paroi de droite, elle est réfléchie et sa **quantité de mouvement** change de $m v_x$ à $-mv_x$ après la collision. Les autres composantes de la vitesse, $v_y$ et $v_z$ restent identique si bien que le changement de quantité de mouvement égal:\n",
    "\\begin{align*}\n",
    "2mv_x\n",
    "\\end{align*}"
   ],
   "cell_type": "markdown",
   "metadata": {}
  },
  {
   "source": [
    "Pour connaitre le changement total de quantité de mouvement durant un interval de temps $\\Delta t$, il faut déterminer combien de molécule vont entrer en collision avec la paroi durant ce laps de temps. En regardant le schéma ci-dessous, on note que toutes les molécules dans le volume $A \\times v_x \\Delta t$ qui **se déplace vers cette paroi (vers la droite)** rentreront en collision avec celle-ci.\n",
    "<img src=\"Pictures/ch01Bf02.jpg\" width=600 />"
   ],
   "cell_type": "markdown",
   "metadata": {}
  },
  {
   "source": [
    "**En moyenne, à chaque instant**, la **moitié** des particules se déplacent vers la paroi de droite et l'autre moitié se déplacent dans le sens opposé, vers la paroi de gauche. \n",
    "\n",
    "Si, dans le volume $V$ nous avons $n$ mole de particules ($N=n N_{\\text{A}}$ particules), le nombre de particules par unité de volume vaut $\\frac{N}{V}=\\frac{nN_{\\text{A}}}{V}$ et dès lors, le nombre de particules qui entrera en collision avec la paroi de droite durant en laps de temps $\\Delta t$ vaut:\n",
    "\\begin{align*}\n",
    "\\frac{1}{2}A \\times v_x \\Delta t \\times \\frac{nN_{\\text{A}}}{V}\n",
    "\\end{align*}"
   ],
   "cell_type": "markdown",
   "metadata": {}
  },
  {
   "source": [
    "Le changement de quantité de mouvement total est obtenu en faisant le produit du changement de la quantité de mouvement par particule par le nombre de particules en moyenne qui rentrent en collision avec la paroi durant un laps de temps $\\Delta t$:\n",
    "\\begin{align*}\n",
    "\\frac{1}{2}A \\times v_x \\Delta t \\times \\frac{nN_{\\text{A}}}{V} \\times 2 m v_x\n",
    "\\end{align*}"
   ],
   "cell_type": "markdown",
   "metadata": {}
  },
  {
   "source": [
    "Selon la loi de Newton, la force est donné par la dérivée de la quantité de mouvement par rapport au temps:\n",
    "\\begin{align*}\n",
    "F &= \\frac{\\text{d}p}{\\text{d}t} = A \\times v^2_x  \\times \\frac{mnN_{\\text{A}}}{V} \\\\\n",
    "&=  A \\times v^2_x  \\times \\frac{M \\,n}{V}\n",
    "\\end{align*}\n",
    "où $M=m N_{\\text{A}}$ est la masse molaire."
   ],
   "cell_type": "markdown",
   "metadata": {}
  },
  {
   "source": [
    "La pression est la force divisée par la surface $A$:\n",
    "\\begin{align*}\n",
    "p &= v^2_x  \\times \\frac{nM} {V}\n",
    "\\end{align*}\n",
    "Note: Attention à ne pas confondre $p$ la pression et la quantité de mouvement."
   ],
   "cell_type": "markdown",
   "metadata": {}
  },
  {
   "source": [
    "Toutes les molécules ne se déplacent pas **à la même vitesse**. On définit dès lors une pression moyenne $\\bar{p}$:\n",
    "\\begin{align*}\n",
    "\\bar{p} &= \\langle p \\rangle = \\langle v^2_x\\rangle  \\times \\frac{nM} {V}\n",
    "\\end{align*}"
   ],
   "cell_type": "markdown",
   "metadata": {}
  },
  {
   "source": [
    "$\\langle v_x^2 \\rangle$ désigne la valeur moyenne de la vitesse suivant $x$ au carrée. Le système étant **isotrope** (propriété identique dans les 3 directions de l'espace), $\\langle v_x^2 \\rangle =  \\langle v_y^2 \\rangle = \\langle v_z^2 \\rangle$ et dès lors:\n",
    "\\begin{align*}\n",
    "\\langle v^2 \\rangle = \\langle v_x^2 \\rangle + \\langle v_y^2 \\rangle + \\langle v_z^2 \\rangle\n",
    "= 3\\langle v_x^2 \\rangle\n",
    "\\end{align*}\n",
    "\n",
    "De là, on définit la **vitesse quadratique moyenne** (**root-mean-square speed**), $v_{\\text{rms}}$:\n",
    "\\begin{align*}\n",
    "v_{\\text{rms}} &= \\sqrt{\\langle v^2 \\rangle}\n",
    "\\end{align*}"
   ],
   "cell_type": "markdown",
   "metadata": {}
  },
  {
   "source": [
    "La pression moyenne s'écrit donc:\n",
    "\\begin{align*}\n",
    "\\bar{p} &= \\frac{1}{3} \\langle v^2\\rangle  \\times \\frac{nM} {V}\\\\\n",
    "&= \\frac{1}{3}  v_{\\text{rms}}^2  \\times \\frac{nM} {V}\n",
    "\\end{align*}"
   ],
   "cell_type": "markdown",
   "metadata": {}
  },
  {
   "source": [
    "Autrement écrit, ceci n'est rien d'autre que la **loi de Boyle**:\n",
    "\\begin{align*}\n",
    "\\bar{p} V &= \\frac{1}{3} v_{\\text{rms}}^2 n M\n",
    "\\end{align*}\n",
    "En effet, $v_{\\text{rms}}^2$ ne dépend que de la température et dès lors, à température constante:\n",
    "\\begin{align*}\n",
    "\\bar{p} V &= \\text{Cst}\n",
    "\\end{align*}"
   ],
   "cell_type": "markdown",
   "metadata": {}
  },
  {
   "source": [
    "## Distribution de Maxwell-Boltzmann des vitesses"
   ],
   "cell_type": "markdown",
   "metadata": {}
  },
  {
   "source": [
    "Nous venons de montrer que la pression multiplié par le volume est fonction de la vitesse moyenne quadratique:\n",
    "\\begin{align*}\n",
    "\\bar{p} V &= \\frac{1}{3} v_{\\text{rms}}^2 n M\n",
    "\\end{align*}"
   ],
   "cell_type": "markdown",
   "metadata": {}
  },
  {
   "source": [
    "Dans le gaz, la vitesse de chacune des molécules individuelles **peut prendre n'importe qu'elle valeur** et cette valeur change lors de chaque collision. Avant une collision, une molécule peut se déplacer rapidement mais, après une collision, sa vitesse peut être accélérée pour après être réduite lors d'une collision successive. \n",
    "\n",
    "Cependant, **l'ensemble des valeurs des vitesses pour toutes les molécules suit une distribution, la distribution de Maxwell-Boltzmann**. A partir de cette distribution, on peut alors connaitre la fraction de molécule qui a une certaine vitesse et ainsi connaitre la valeur de la vitesse moyenne quadratique $v_{\\text{rms}}$."
   ],
   "cell_type": "markdown",
   "metadata": {}
  },
  {
   "source": [
    "On appelle $f(v)$ la **distribution des vitesses**. Celle-ci est définie de telle façon que $f(v) \\text{d}v$ nous donne la fraction des molécules qui ont une vitesse comprise entre $v$ et $v+\\text{d}v$.\n",
    "\n",
    "On peut obtenir une expression mathématique de cette distribution en supposant que l'énergie des molécules est de nature exclusivement **cinétique** et que la **distribution des énergies** sur les différentes molécules suit la **distribution de Boltzmann**."
   ],
   "cell_type": "markdown",
   "metadata": {}
  },
  {
   "source": [
    "La distribution de Boltzmann nous indique la fraction des molécules qui ont une vitesse suivant $x$, $y$, et $z$ de $v_x$, $v_y$ et $v_z$ au travers de la fonction exponentielle de leur énergie cinétique $E_{\\text{k}}=\\frac{1}{2}m v^2_x + \\frac{1}{2}m v^2_y + \\frac{1}{2}m v^2_z$:\n",
    "\\begin{align*}\n",
    "f(v_x,v_y,v_z) &= K e^{-m(v_x^2+v_y^2+v_z^2)/(2k_{\\text{B}}T)}\n",
    "= K e^{-mv_x^2/(2k_{\\text{B}}T)} e^{-mv_y^2/(2k_{\\text{B}}T)} e^{-mv_z^2/(2k_{\\text{B}}T)}\n",
    "\\end{align*}\n",
    "où $K$ est une constante de proportionalité qui sert à normalisé la distribution de Boltzmann, $k_{\\text{B}}$ est la constante de Boltzmann et $T$ la température du système.\n"
   ],
   "cell_type": "markdown",
   "metadata": {}
  },
  {
   "source": [
    "Comme on peut le voir très facilement, cette distribution $f(v_x,v_y,v_z)$ peut être factorisée en trois termes $f(v_x,v_y,v_z)=f(v_x)f(v_y)f(v_z)$:\n",
    "\\begin{align*}\n",
    "f(v_x) &= K_x  e^{-mv_x^2/(2k_{\\text{B}}T)}\\\\\n",
    "f(v_y) &= K_y  e^{-mv_y^2/(2k_{\\text{B}}T)}\\\\\n",
    "f(v_z) &= K_z  e^{-mv_z^2/(2k_{\\text{B}}T)}\\\\\n",
    "\\end{align*}\n",
    "avec $K=K_x K_y K_z$"
   ],
   "cell_type": "markdown",
   "metadata": {}
  },
  {
   "source": [
    "$f(v_x) \\text{d}v_x$ nous donne la probabilité qu'une particule ait une vitesse comprise entre $v_x$ et $v_x+\\text{d}v_x$ (et de façon similaire pour $v_y$ et $v_z$). La composante de vitesse suivant $x$ peuvt varier entre $-\\infty$ et $\\infty$. La constante de proportionalité $K_x$ est dès lors définie de telle façon que l'intégrale $\\int_{-\\infty}^\\infty f(v_x) \\text{d} v_x=1$, la probabilité totale de trouvé une particule ayant n'importe quelle vitesse suivant $x$:\n",
    "\\begin{align*}\n",
    "1 &= \\int_{-\\infty}^\\infty f(v_x) \\text{d} v_x\n",
    " = \\int_{-\\infty}^\\infty K_x  e^{-mv_x^2/(2k_{\\text{B}}T)} \\text{d} v_x\n",
    " = K_x  \\int_{-\\infty}^\\infty e^{-mv_x^2/(2k_{\\text{B}}T)} \\text{d} v_x\\\\\n",
    " &= K_x \\sqrt{\\frac{2\\pi k_{\\text{B}}T}{m}}\\\\\n",
    " K_x &= \\sqrt{\\frac{m}{2\\pi k_{\\text{B}}T}}\n",
    "\\end{align*}\n",
    "où la valeur de l'intégrale peut être trouvée dans des tables mathématiques:  $\\int_{-\\infty}^\\infty e^{-\\alpha x^2} \\text{d}x = \\sqrt{\\frac{\\pi}{\\alpha}}$"
   ],
   "cell_type": "markdown",
   "metadata": {}
  },
  {
   "source": [
    "Dès lors, $f(v_x)$ vaut:\n",
    "factorisée en trois termes $f(v_x,v_y,v_z)=f(v_x)f(v_y)f(v_z)$:\n",
    "\\begin{align*}\n",
    "f(v_x) &= \\sqrt{\\frac{m}{2\\pi k_{\\text{B}}T}}  e^{-mv_x^2/(2k_{\\text{B}}T)}\n",
    "\\end{align*}\n",
    "Et  $f(v_x,v_y,v_z)=f(v_x)f(v_y)f(v_z)$:\n",
    "\\begin{align*}\n",
    "f(v_x, v_y, v_z) &= \\left(\\frac{m}{2\\pi k_{\\text{B}}T}\\right)^{3/2} e^{-mv_x^2/(2k_{\\text{B}}T)} e^{-mv_y^2/(2k_{\\text{B}}T)} e^{-mv_z^2/(2k_{\\text{B}}T)} \\\\\n",
    "&= \\left(\\frac{m}{2\\pi k_{\\text{B}}T}\\right)^{3/2} e^{-mv^2/(2k_{\\text{B}}T)}\n",
    "\\end{align*}\n",
    "avec $v^2 = v_x^2 + v_y^2 + v_z^2$."
   ],
   "cell_type": "markdown",
   "metadata": {}
  },
  {
   "source": [
    "Attention, cette dernière expression est à comprendre comme ceci: \n",
    "\\begin{align*}\n",
    "f(v_x, v_y, v_z) \\text{d} v_x \\text{d} v_y \\text{d} v_z &= \\left(\\frac{m}{2\\pi k_{\\text{B}}T}\\right)^{3/2} e^{-mv^2/(2k_{\\text{B}}T)} \\text{d} v_x \\text{d} v_y \\text{d} v_z\n",
    "\\end{align*}\n",
    "donne la probabilité qu'une particule ait une vitesse suivant $x$ comprise entre $v_x$ et $v_x+\\text{d}v_x$ et simultanément une vitesse suivant $y$ comprise entre $v_y$ et $v_y+\\text{d}v_y$ et simultanément une vitesse suivant $z$ comprise entre $v_z$ et $v_z+\\text{d}v_z$."
   ],
   "cell_type": "markdown",
   "metadata": {}
  },
  {
   "source": [
    "Nous souhaitons obtenir la probabilité $f(v) \\text{d}v$ qu'une particule ait une vitesse (longeur du vecteur $\\vec{v}$) comprise entre $v$ et $v+\\text{d}v$ qu'importe sa direction. Pour cela, nous devons reconnaitre que $f(v_x,v_y,v_z)$ est **isotrope**, il ne dépent pas des direction $x$, $y$ et $z$ de la vitesse mais seulement de sa norme au carré $v^2$. Au lieu d'intégrer dans les coordonnées cartésiennes de vitesse, on utilise alors les coordonnées sphériques de vitesse. La probabilité qu'une particule ait une vitesse comprise entre $v$ et $v+\\text{d}v$ est donné par le volume d'une écorce de rayon $v$ et d'épaisseur $\\text{d}v$, c'est à dire un volume $4\\pi v^2 \\text{d}v$.\n",
    "\n",
    "<img src=\"Pictures/ch01Bf03.jpg\" width=600 />"
   ],
   "cell_type": "markdown",
   "metadata": {}
  },
  {
   "source": [
    "La probabilité $f(v) \\text{d}v$ s'écrit enfin:\n",
    "\\begin{align*}\n",
    "f(v) \\text{d} v &= \\left(\\frac{m}{2\\pi k_{\\text{B}}T}\\right)^{3/2} e^{-mv^2/(2k_{\\text{B}}T)} \\times 4 \\pi v^2 \\text{d} v\n",
    "\\end{align*}\n",
    "et $f(v)$:\n",
    "\\begin{align*}\n",
    "f(v) &= 4 \\pi \\left(\\frac{m}{2\\pi k_{\\text{B}}T}\\right)^{3/2} v^2 e^{-mv^2/(2k_{\\text{B}}T)} \\\\\n",
    "&= 4 \\pi \\left(\\frac{M}{2\\pi RT}\\right)^{3/2} v^2 e^{-Mv^2/(2RT)} \n",
    "\\end{align*}\n",
    "avec $R=N_{\\text{A}} k_{\\text{B}}$ la constante des gaz parfait."
   ],
   "cell_type": "markdown",
   "metadata": {}
  },
  {
   "source": [
    "Cette fonction $f(v)$ est **la distribution des vitesses de Maxwell-Boltzmann**. Ses unités sont l'inverse d'une vitesse de tel façon que son intégration $\\int_{v_1}^{v_2} f(v) \\text{d}v$ donne une probabilité, un nombre sans dimension."
   ],
   "cell_type": "markdown",
   "metadata": {}
  },
  {
   "cell_type": "code",
   "execution_count": 12,
   "metadata": {
    "tags": []
   },
   "outputs": [
    {
     "output_type": "execute_result",
     "data": {
      "text/plain": "<matplotlib.legend.Legend at 0x11331cc10>"
     },
     "metadata": {},
     "execution_count": 12
    },
    {
     "output_type": "display_data",
     "data": {
      "text/plain": "<Figure size 432x288 with 1 Axes>",
      "image/svg+xml": "<?xml version=\"1.0\" encoding=\"utf-8\" standalone=\"no\"?>\n<!DOCTYPE svg PUBLIC \"-//W3C//DTD SVG 1.1//EN\"\n  \"http://www.w3.org/Graphics/SVG/1.1/DTD/svg11.dtd\">\n<!-- Created with matplotlib (https://matplotlib.org/) -->\n<svg height=\"262.19625pt\" version=\"1.1\" viewBox=\"0 0 417.59375 262.19625\" width=\"417.59375pt\" xmlns=\"http://www.w3.org/2000/svg\" xmlns:xlink=\"http://www.w3.org/1999/xlink\">\n <metadata>\n  <rdf:RDF xmlns:cc=\"http://creativecommons.org/ns#\" xmlns:dc=\"http://purl.org/dc/elements/1.1/\" xmlns:rdf=\"http://www.w3.org/1999/02/22-rdf-syntax-ns#\">\n   <cc:Work>\n    <dc:type rdf:resource=\"http://purl.org/dc/dcmitype/StillImage\"/>\n    <dc:date>2020-09-22T13:53:13.241217</dc:date>\n    <dc:format>image/svg+xml</dc:format>\n    <dc:creator>\n     <cc:Agent>\n      <dc:title>Matplotlib v3.3.0, https://matplotlib.org/</dc:title>\n     </cc:Agent>\n    </dc:creator>\n   </cc:Work>\n  </rdf:RDF>\n </metadata>\n <defs>\n  <style type=\"text/css\">*{stroke-linecap:butt;stroke-linejoin:round;}</style>\n </defs>\n <g id=\"figure_1\">\n  <g id=\"patch_1\">\n   <path d=\"M 0 262.19625 \nL 417.59375 262.19625 \nL 417.59375 0 \nL 0 0 \nz\n\" style=\"fill:none;\"/>\n  </g>\n  <g id=\"axes_1\">\n   <g id=\"patch_2\">\n    <path d=\"M 62.86875 224.64 \nL 397.66875 224.64 \nL 397.66875 7.2 \nL 62.86875 7.2 \nz\n\" style=\"fill:#ffffff;\"/>\n   </g>\n   <g id=\"matplotlib.axis_1\">\n    <g id=\"xtick_1\">\n     <g id=\"line2d_1\">\n      <defs>\n       <path d=\"M 0 0 \nL 0 3.5 \n\" id=\"m18045bd56a\" style=\"stroke:#000000;stroke-width:0.8;\"/>\n      </defs>\n      <g>\n       <use style=\"stroke:#000000;stroke-width:0.8;\" x=\"62.86875\" xlink:href=\"#m18045bd56a\" y=\"224.64\"/>\n      </g>\n     </g>\n     <g id=\"text_1\">\n      <!-- 0 -->\n      <g transform=\"translate(59.6875 239.238437)scale(0.1 -0.1)\">\n       <defs>\n        <path d=\"M 31.78125 66.40625 \nQ 24.171875 66.40625 20.328125 58.90625 \nQ 16.5 51.421875 16.5 36.375 \nQ 16.5 21.390625 20.328125 13.890625 \nQ 24.171875 6.390625 31.78125 6.390625 \nQ 39.453125 6.390625 43.28125 13.890625 \nQ 47.125 21.390625 47.125 36.375 \nQ 47.125 51.421875 43.28125 58.90625 \nQ 39.453125 66.40625 31.78125 66.40625 \nz\nM 31.78125 74.21875 \nQ 44.046875 74.21875 50.515625 64.515625 \nQ 56.984375 54.828125 56.984375 36.375 \nQ 56.984375 17.96875 50.515625 8.265625 \nQ 44.046875 -1.421875 31.78125 -1.421875 \nQ 19.53125 -1.421875 13.0625 8.265625 \nQ 6.59375 17.96875 6.59375 36.375 \nQ 6.59375 54.828125 13.0625 64.515625 \nQ 19.53125 74.21875 31.78125 74.21875 \nz\n\" id=\"DejaVuSans-48\"/>\n       </defs>\n       <use xlink:href=\"#DejaVuSans-48\"/>\n      </g>\n     </g>\n    </g>\n    <g id=\"xtick_2\">\n     <g id=\"line2d_2\">\n      <g>\n       <use style=\"stroke:#000000;stroke-width:0.8;\" x=\"129.82875\" xlink:href=\"#m18045bd56a\" y=\"224.64\"/>\n      </g>\n     </g>\n     <g id=\"text_2\">\n      <!-- 200 -->\n      <g transform=\"translate(120.285 239.238437)scale(0.1 -0.1)\">\n       <defs>\n        <path d=\"M 19.1875 8.296875 \nL 53.609375 8.296875 \nL 53.609375 0 \nL 7.328125 0 \nL 7.328125 8.296875 \nQ 12.9375 14.109375 22.625 23.890625 \nQ 32.328125 33.6875 34.8125 36.53125 \nQ 39.546875 41.84375 41.421875 45.53125 \nQ 43.3125 49.21875 43.3125 52.78125 \nQ 43.3125 58.59375 39.234375 62.25 \nQ 35.15625 65.921875 28.609375 65.921875 \nQ 23.96875 65.921875 18.8125 64.3125 \nQ 13.671875 62.703125 7.8125 59.421875 \nL 7.8125 69.390625 \nQ 13.765625 71.78125 18.9375 73 \nQ 24.125 74.21875 28.421875 74.21875 \nQ 39.75 74.21875 46.484375 68.546875 \nQ 53.21875 62.890625 53.21875 53.421875 \nQ 53.21875 48.921875 51.53125 44.890625 \nQ 49.859375 40.875 45.40625 35.40625 \nQ 44.1875 33.984375 37.640625 27.21875 \nQ 31.109375 20.453125 19.1875 8.296875 \nz\n\" id=\"DejaVuSans-50\"/>\n       </defs>\n       <use xlink:href=\"#DejaVuSans-50\"/>\n       <use x=\"63.623047\" xlink:href=\"#DejaVuSans-48\"/>\n       <use x=\"127.246094\" xlink:href=\"#DejaVuSans-48\"/>\n      </g>\n     </g>\n    </g>\n    <g id=\"xtick_3\">\n     <g id=\"line2d_3\">\n      <g>\n       <use style=\"stroke:#000000;stroke-width:0.8;\" x=\"196.78875\" xlink:href=\"#m18045bd56a\" y=\"224.64\"/>\n      </g>\n     </g>\n     <g id=\"text_3\">\n      <!-- 400 -->\n      <g transform=\"translate(187.245 239.238437)scale(0.1 -0.1)\">\n       <defs>\n        <path d=\"M 37.796875 64.3125 \nL 12.890625 25.390625 \nL 37.796875 25.390625 \nz\nM 35.203125 72.90625 \nL 47.609375 72.90625 \nL 47.609375 25.390625 \nL 58.015625 25.390625 \nL 58.015625 17.1875 \nL 47.609375 17.1875 \nL 47.609375 0 \nL 37.796875 0 \nL 37.796875 17.1875 \nL 4.890625 17.1875 \nL 4.890625 26.703125 \nz\n\" id=\"DejaVuSans-52\"/>\n       </defs>\n       <use xlink:href=\"#DejaVuSans-52\"/>\n       <use x=\"63.623047\" xlink:href=\"#DejaVuSans-48\"/>\n       <use x=\"127.246094\" xlink:href=\"#DejaVuSans-48\"/>\n      </g>\n     </g>\n    </g>\n    <g id=\"xtick_4\">\n     <g id=\"line2d_4\">\n      <g>\n       <use style=\"stroke:#000000;stroke-width:0.8;\" x=\"263.74875\" xlink:href=\"#m18045bd56a\" y=\"224.64\"/>\n      </g>\n     </g>\n     <g id=\"text_4\">\n      <!-- 600 -->\n      <g transform=\"translate(254.205 239.238437)scale(0.1 -0.1)\">\n       <defs>\n        <path d=\"M 33.015625 40.375 \nQ 26.375 40.375 22.484375 35.828125 \nQ 18.609375 31.296875 18.609375 23.390625 \nQ 18.609375 15.53125 22.484375 10.953125 \nQ 26.375 6.390625 33.015625 6.390625 \nQ 39.65625 6.390625 43.53125 10.953125 \nQ 47.40625 15.53125 47.40625 23.390625 \nQ 47.40625 31.296875 43.53125 35.828125 \nQ 39.65625 40.375 33.015625 40.375 \nz\nM 52.59375 71.296875 \nL 52.59375 62.3125 \nQ 48.875 64.0625 45.09375 64.984375 \nQ 41.3125 65.921875 37.59375 65.921875 \nQ 27.828125 65.921875 22.671875 59.328125 \nQ 17.53125 52.734375 16.796875 39.40625 \nQ 19.671875 43.65625 24.015625 45.921875 \nQ 28.375 48.1875 33.59375 48.1875 \nQ 44.578125 48.1875 50.953125 41.515625 \nQ 57.328125 34.859375 57.328125 23.390625 \nQ 57.328125 12.15625 50.6875 5.359375 \nQ 44.046875 -1.421875 33.015625 -1.421875 \nQ 20.359375 -1.421875 13.671875 8.265625 \nQ 6.984375 17.96875 6.984375 36.375 \nQ 6.984375 53.65625 15.1875 63.9375 \nQ 23.390625 74.21875 37.203125 74.21875 \nQ 40.921875 74.21875 44.703125 73.484375 \nQ 48.484375 72.75 52.59375 71.296875 \nz\n\" id=\"DejaVuSans-54\"/>\n       </defs>\n       <use xlink:href=\"#DejaVuSans-54\"/>\n       <use x=\"63.623047\" xlink:href=\"#DejaVuSans-48\"/>\n       <use x=\"127.246094\" xlink:href=\"#DejaVuSans-48\"/>\n      </g>\n     </g>\n    </g>\n    <g id=\"xtick_5\">\n     <g id=\"line2d_5\">\n      <g>\n       <use style=\"stroke:#000000;stroke-width:0.8;\" x=\"330.70875\" xlink:href=\"#m18045bd56a\" y=\"224.64\"/>\n      </g>\n     </g>\n     <g id=\"text_5\">\n      <!-- 800 -->\n      <g transform=\"translate(321.165 239.238437)scale(0.1 -0.1)\">\n       <defs>\n        <path d=\"M 31.78125 34.625 \nQ 24.75 34.625 20.71875 30.859375 \nQ 16.703125 27.09375 16.703125 20.515625 \nQ 16.703125 13.921875 20.71875 10.15625 \nQ 24.75 6.390625 31.78125 6.390625 \nQ 38.8125 6.390625 42.859375 10.171875 \nQ 46.921875 13.96875 46.921875 20.515625 \nQ 46.921875 27.09375 42.890625 30.859375 \nQ 38.875 34.625 31.78125 34.625 \nz\nM 21.921875 38.8125 \nQ 15.578125 40.375 12.03125 44.71875 \nQ 8.5 49.078125 8.5 55.328125 \nQ 8.5 64.0625 14.71875 69.140625 \nQ 20.953125 74.21875 31.78125 74.21875 \nQ 42.671875 74.21875 48.875 69.140625 \nQ 55.078125 64.0625 55.078125 55.328125 \nQ 55.078125 49.078125 51.53125 44.71875 \nQ 48 40.375 41.703125 38.8125 \nQ 48.828125 37.15625 52.796875 32.3125 \nQ 56.78125 27.484375 56.78125 20.515625 \nQ 56.78125 9.90625 50.3125 4.234375 \nQ 43.84375 -1.421875 31.78125 -1.421875 \nQ 19.734375 -1.421875 13.25 4.234375 \nQ 6.78125 9.90625 6.78125 20.515625 \nQ 6.78125 27.484375 10.78125 32.3125 \nQ 14.796875 37.15625 21.921875 38.8125 \nz\nM 18.3125 54.390625 \nQ 18.3125 48.734375 21.84375 45.5625 \nQ 25.390625 42.390625 31.78125 42.390625 \nQ 38.140625 42.390625 41.71875 45.5625 \nQ 45.3125 48.734375 45.3125 54.390625 \nQ 45.3125 60.0625 41.71875 63.234375 \nQ 38.140625 66.40625 31.78125 66.40625 \nQ 25.390625 66.40625 21.84375 63.234375 \nQ 18.3125 60.0625 18.3125 54.390625 \nz\n\" id=\"DejaVuSans-56\"/>\n       </defs>\n       <use xlink:href=\"#DejaVuSans-56\"/>\n       <use x=\"63.623047\" xlink:href=\"#DejaVuSans-48\"/>\n       <use x=\"127.246094\" xlink:href=\"#DejaVuSans-48\"/>\n      </g>\n     </g>\n    </g>\n    <g id=\"xtick_6\">\n     <g id=\"line2d_6\">\n      <g>\n       <use style=\"stroke:#000000;stroke-width:0.8;\" x=\"397.66875\" xlink:href=\"#m18045bd56a\" y=\"224.64\"/>\n      </g>\n     </g>\n     <g id=\"text_6\">\n      <!-- 1000 -->\n      <g transform=\"translate(384.94375 239.238437)scale(0.1 -0.1)\">\n       <defs>\n        <path d=\"M 12.40625 8.296875 \nL 28.515625 8.296875 \nL 28.515625 63.921875 \nL 10.984375 60.40625 \nL 10.984375 69.390625 \nL 28.421875 72.90625 \nL 38.28125 72.90625 \nL 38.28125 8.296875 \nL 54.390625 8.296875 \nL 54.390625 0 \nL 12.40625 0 \nz\n\" id=\"DejaVuSans-49\"/>\n       </defs>\n       <use xlink:href=\"#DejaVuSans-49\"/>\n       <use x=\"63.623047\" xlink:href=\"#DejaVuSans-48\"/>\n       <use x=\"127.246094\" xlink:href=\"#DejaVuSans-48\"/>\n       <use x=\"190.869141\" xlink:href=\"#DejaVuSans-48\"/>\n      </g>\n     </g>\n    </g>\n    <g id=\"text_7\">\n     <!-- $v$ [m/s] -->\n     <g transform=\"translate(212.61875 252.916562)scale(0.1 -0.1)\">\n      <defs>\n       <path d=\"M 7.171875 54.6875 \nL 16.703125 54.6875 \nL 24.703125 8.203125 \nL 50.875 54.6875 \nL 60.40625 54.6875 \nL 29.296875 0 \nL 17.1875 0 \nz\n\" id=\"DejaVuSans-Oblique-118\"/>\n       <path id=\"DejaVuSans-32\"/>\n       <path d=\"M 8.59375 75.984375 \nL 29.296875 75.984375 \nL 29.296875 69 \nL 17.578125 69 \nL 17.578125 -6.203125 \nL 29.296875 -6.203125 \nL 29.296875 -13.1875 \nL 8.59375 -13.1875 \nz\n\" id=\"DejaVuSans-91\"/>\n       <path d=\"M 52 44.1875 \nQ 55.375 50.25 60.0625 53.125 \nQ 64.75 56 71.09375 56 \nQ 79.640625 56 84.28125 50.015625 \nQ 88.921875 44.046875 88.921875 33.015625 \nL 88.921875 0 \nL 79.890625 0 \nL 79.890625 32.71875 \nQ 79.890625 40.578125 77.09375 44.375 \nQ 74.3125 48.1875 68.609375 48.1875 \nQ 61.625 48.1875 57.5625 43.546875 \nQ 53.515625 38.921875 53.515625 30.90625 \nL 53.515625 0 \nL 44.484375 0 \nL 44.484375 32.71875 \nQ 44.484375 40.625 41.703125 44.40625 \nQ 38.921875 48.1875 33.109375 48.1875 \nQ 26.21875 48.1875 22.15625 43.53125 \nQ 18.109375 38.875 18.109375 30.90625 \nL 18.109375 0 \nL 9.078125 0 \nL 9.078125 54.6875 \nL 18.109375 54.6875 \nL 18.109375 46.1875 \nQ 21.1875 51.21875 25.484375 53.609375 \nQ 29.78125 56 35.6875 56 \nQ 41.65625 56 45.828125 52.96875 \nQ 50 49.953125 52 44.1875 \nz\n\" id=\"DejaVuSans-109\"/>\n       <path d=\"M 25.390625 72.90625 \nL 33.6875 72.90625 \nL 8.296875 -9.28125 \nL 0 -9.28125 \nz\n\" id=\"DejaVuSans-47\"/>\n       <path d=\"M 44.28125 53.078125 \nL 44.28125 44.578125 \nQ 40.484375 46.53125 36.375 47.5 \nQ 32.28125 48.484375 27.875 48.484375 \nQ 21.1875 48.484375 17.84375 46.4375 \nQ 14.5 44.390625 14.5 40.28125 \nQ 14.5 37.15625 16.890625 35.375 \nQ 19.28125 33.59375 26.515625 31.984375 \nL 29.59375 31.296875 \nQ 39.15625 29.25 43.1875 25.515625 \nQ 47.21875 21.78125 47.21875 15.09375 \nQ 47.21875 7.46875 41.1875 3.015625 \nQ 35.15625 -1.421875 24.609375 -1.421875 \nQ 20.21875 -1.421875 15.453125 -0.5625 \nQ 10.6875 0.296875 5.421875 2 \nL 5.421875 11.28125 \nQ 10.40625 8.6875 15.234375 7.390625 \nQ 20.0625 6.109375 24.8125 6.109375 \nQ 31.15625 6.109375 34.5625 8.28125 \nQ 37.984375 10.453125 37.984375 14.40625 \nQ 37.984375 18.0625 35.515625 20.015625 \nQ 33.0625 21.96875 24.703125 23.78125 \nL 21.578125 24.515625 \nQ 13.234375 26.265625 9.515625 29.90625 \nQ 5.8125 33.546875 5.8125 39.890625 \nQ 5.8125 47.609375 11.28125 51.796875 \nQ 16.75 56 26.8125 56 \nQ 31.78125 56 36.171875 55.265625 \nQ 40.578125 54.546875 44.28125 53.078125 \nz\n\" id=\"DejaVuSans-115\"/>\n       <path d=\"M 30.421875 75.984375 \nL 30.421875 -13.1875 \nL 9.71875 -13.1875 \nL 9.71875 -6.203125 \nL 21.390625 -6.203125 \nL 21.390625 69 \nL 9.71875 69 \nL 9.71875 75.984375 \nz\n\" id=\"DejaVuSans-93\"/>\n      </defs>\n      <use transform=\"translate(0 0.015625)\" xlink:href=\"#DejaVuSans-Oblique-118\"/>\n      <use transform=\"translate(59.179688 0.015625)\" xlink:href=\"#DejaVuSans-32\"/>\n      <use transform=\"translate(90.966797 0.015625)\" xlink:href=\"#DejaVuSans-91\"/>\n      <use transform=\"translate(129.980469 0.015625)\" xlink:href=\"#DejaVuSans-109\"/>\n      <use transform=\"translate(227.392578 0.015625)\" xlink:href=\"#DejaVuSans-47\"/>\n      <use transform=\"translate(261.083984 0.015625)\" xlink:href=\"#DejaVuSans-115\"/>\n      <use transform=\"translate(313.183594 0.015625)\" xlink:href=\"#DejaVuSans-93\"/>\n     </g>\n    </g>\n   </g>\n   <g id=\"matplotlib.axis_2\">\n    <g id=\"ytick_1\">\n     <g id=\"line2d_7\">\n      <defs>\n       <path d=\"M 0 0 \nL -3.5 0 \n\" id=\"mf3f3679ca3\" style=\"stroke:#000000;stroke-width:0.8;\"/>\n      </defs>\n      <g>\n       <use style=\"stroke:#000000;stroke-width:0.8;\" x=\"62.86875\" xlink:href=\"#mf3f3679ca3\" y=\"214.756364\"/>\n      </g>\n     </g>\n     <g id=\"text_8\">\n      <!-- 0.0000 -->\n      <g transform=\"translate(20.878125 218.555582)scale(0.1 -0.1)\">\n       <defs>\n        <path d=\"M 10.6875 12.40625 \nL 21 12.40625 \nL 21 0 \nL 10.6875 0 \nz\n\" id=\"DejaVuSans-46\"/>\n       </defs>\n       <use xlink:href=\"#DejaVuSans-48\"/>\n       <use x=\"63.623047\" xlink:href=\"#DejaVuSans-46\"/>\n       <use x=\"95.410156\" xlink:href=\"#DejaVuSans-48\"/>\n       <use x=\"159.033203\" xlink:href=\"#DejaVuSans-48\"/>\n       <use x=\"222.65625\" xlink:href=\"#DejaVuSans-48\"/>\n       <use x=\"286.279297\" xlink:href=\"#DejaVuSans-48\"/>\n      </g>\n     </g>\n    </g>\n    <g id=\"ytick_2\">\n     <g id=\"line2d_8\">\n      <g>\n       <use style=\"stroke:#000000;stroke-width:0.8;\" x=\"62.86875\" xlink:href=\"#mf3f3679ca3\" y=\"185.7546\"/>\n      </g>\n     </g>\n     <g id=\"text_9\">\n      <!-- 0.0005 -->\n      <g transform=\"translate(20.878125 189.553819)scale(0.1 -0.1)\">\n       <defs>\n        <path d=\"M 10.796875 72.90625 \nL 49.515625 72.90625 \nL 49.515625 64.59375 \nL 19.828125 64.59375 \nL 19.828125 46.734375 \nQ 21.96875 47.46875 24.109375 47.828125 \nQ 26.265625 48.1875 28.421875 48.1875 \nQ 40.625 48.1875 47.75 41.5 \nQ 54.890625 34.8125 54.890625 23.390625 \nQ 54.890625 11.625 47.5625 5.09375 \nQ 40.234375 -1.421875 26.90625 -1.421875 \nQ 22.3125 -1.421875 17.546875 -0.640625 \nQ 12.796875 0.140625 7.71875 1.703125 \nL 7.71875 11.625 \nQ 12.109375 9.234375 16.796875 8.0625 \nQ 21.484375 6.890625 26.703125 6.890625 \nQ 35.15625 6.890625 40.078125 11.328125 \nQ 45.015625 15.765625 45.015625 23.390625 \nQ 45.015625 31 40.078125 35.4375 \nQ 35.15625 39.890625 26.703125 39.890625 \nQ 22.75 39.890625 18.8125 39.015625 \nQ 14.890625 38.140625 10.796875 36.28125 \nz\n\" id=\"DejaVuSans-53\"/>\n       </defs>\n       <use xlink:href=\"#DejaVuSans-48\"/>\n       <use x=\"63.623047\" xlink:href=\"#DejaVuSans-46\"/>\n       <use x=\"95.410156\" xlink:href=\"#DejaVuSans-48\"/>\n       <use x=\"159.033203\" xlink:href=\"#DejaVuSans-48\"/>\n       <use x=\"222.65625\" xlink:href=\"#DejaVuSans-48\"/>\n       <use x=\"286.279297\" xlink:href=\"#DejaVuSans-53\"/>\n      </g>\n     </g>\n    </g>\n    <g id=\"ytick_3\">\n     <g id=\"line2d_9\">\n      <g>\n       <use style=\"stroke:#000000;stroke-width:0.8;\" x=\"62.86875\" xlink:href=\"#mf3f3679ca3\" y=\"156.752837\"/>\n      </g>\n     </g>\n     <g id=\"text_10\">\n      <!-- 0.0010 -->\n      <g transform=\"translate(20.878125 160.552056)scale(0.1 -0.1)\">\n       <use xlink:href=\"#DejaVuSans-48\"/>\n       <use x=\"63.623047\" xlink:href=\"#DejaVuSans-46\"/>\n       <use x=\"95.410156\" xlink:href=\"#DejaVuSans-48\"/>\n       <use x=\"159.033203\" xlink:href=\"#DejaVuSans-48\"/>\n       <use x=\"222.65625\" xlink:href=\"#DejaVuSans-49\"/>\n       <use x=\"286.279297\" xlink:href=\"#DejaVuSans-48\"/>\n      </g>\n     </g>\n    </g>\n    <g id=\"ytick_4\">\n     <g id=\"line2d_10\">\n      <g>\n       <use style=\"stroke:#000000;stroke-width:0.8;\" x=\"62.86875\" xlink:href=\"#mf3f3679ca3\" y=\"127.751074\"/>\n      </g>\n     </g>\n     <g id=\"text_11\">\n      <!-- 0.0015 -->\n      <g transform=\"translate(20.878125 131.550293)scale(0.1 -0.1)\">\n       <use xlink:href=\"#DejaVuSans-48\"/>\n       <use x=\"63.623047\" xlink:href=\"#DejaVuSans-46\"/>\n       <use x=\"95.410156\" xlink:href=\"#DejaVuSans-48\"/>\n       <use x=\"159.033203\" xlink:href=\"#DejaVuSans-48\"/>\n       <use x=\"222.65625\" xlink:href=\"#DejaVuSans-49\"/>\n       <use x=\"286.279297\" xlink:href=\"#DejaVuSans-53\"/>\n      </g>\n     </g>\n    </g>\n    <g id=\"ytick_5\">\n     <g id=\"line2d_11\">\n      <g>\n       <use style=\"stroke:#000000;stroke-width:0.8;\" x=\"62.86875\" xlink:href=\"#mf3f3679ca3\" y=\"98.749311\"/>\n      </g>\n     </g>\n     <g id=\"text_12\">\n      <!-- 0.0020 -->\n      <g transform=\"translate(20.878125 102.548529)scale(0.1 -0.1)\">\n       <use xlink:href=\"#DejaVuSans-48\"/>\n       <use x=\"63.623047\" xlink:href=\"#DejaVuSans-46\"/>\n       <use x=\"95.410156\" xlink:href=\"#DejaVuSans-48\"/>\n       <use x=\"159.033203\" xlink:href=\"#DejaVuSans-48\"/>\n       <use x=\"222.65625\" xlink:href=\"#DejaVuSans-50\"/>\n       <use x=\"286.279297\" xlink:href=\"#DejaVuSans-48\"/>\n      </g>\n     </g>\n    </g>\n    <g id=\"ytick_6\">\n     <g id=\"line2d_12\">\n      <g>\n       <use style=\"stroke:#000000;stroke-width:0.8;\" x=\"62.86875\" xlink:href=\"#mf3f3679ca3\" y=\"69.747547\"/>\n      </g>\n     </g>\n     <g id=\"text_13\">\n      <!-- 0.0025 -->\n      <g transform=\"translate(20.878125 73.546766)scale(0.1 -0.1)\">\n       <use xlink:href=\"#DejaVuSans-48\"/>\n       <use x=\"63.623047\" xlink:href=\"#DejaVuSans-46\"/>\n       <use x=\"95.410156\" xlink:href=\"#DejaVuSans-48\"/>\n       <use x=\"159.033203\" xlink:href=\"#DejaVuSans-48\"/>\n       <use x=\"222.65625\" xlink:href=\"#DejaVuSans-50\"/>\n       <use x=\"286.279297\" xlink:href=\"#DejaVuSans-53\"/>\n      </g>\n     </g>\n    </g>\n    <g id=\"ytick_7\">\n     <g id=\"line2d_13\">\n      <g>\n       <use style=\"stroke:#000000;stroke-width:0.8;\" x=\"62.86875\" xlink:href=\"#mf3f3679ca3\" y=\"40.745784\"/>\n      </g>\n     </g>\n     <g id=\"text_14\">\n      <!-- 0.0030 -->\n      <g transform=\"translate(20.878125 44.545003)scale(0.1 -0.1)\">\n       <defs>\n        <path d=\"M 40.578125 39.3125 \nQ 47.65625 37.796875 51.625 33 \nQ 55.609375 28.21875 55.609375 21.1875 \nQ 55.609375 10.40625 48.1875 4.484375 \nQ 40.765625 -1.421875 27.09375 -1.421875 \nQ 22.515625 -1.421875 17.65625 -0.515625 \nQ 12.796875 0.390625 7.625 2.203125 \nL 7.625 11.71875 \nQ 11.71875 9.328125 16.59375 8.109375 \nQ 21.484375 6.890625 26.8125 6.890625 \nQ 36.078125 6.890625 40.9375 10.546875 \nQ 45.796875 14.203125 45.796875 21.1875 \nQ 45.796875 27.640625 41.28125 31.265625 \nQ 36.765625 34.90625 28.71875 34.90625 \nL 20.21875 34.90625 \nL 20.21875 43.015625 \nL 29.109375 43.015625 \nQ 36.375 43.015625 40.234375 45.921875 \nQ 44.09375 48.828125 44.09375 54.296875 \nQ 44.09375 59.90625 40.109375 62.90625 \nQ 36.140625 65.921875 28.71875 65.921875 \nQ 24.65625 65.921875 20.015625 65.03125 \nQ 15.375 64.15625 9.8125 62.3125 \nL 9.8125 71.09375 \nQ 15.4375 72.65625 20.34375 73.4375 \nQ 25.25 74.21875 29.59375 74.21875 \nQ 40.828125 74.21875 47.359375 69.109375 \nQ 53.90625 64.015625 53.90625 55.328125 \nQ 53.90625 49.265625 50.4375 45.09375 \nQ 46.96875 40.921875 40.578125 39.3125 \nz\n\" id=\"DejaVuSans-51\"/>\n       </defs>\n       <use xlink:href=\"#DejaVuSans-48\"/>\n       <use x=\"63.623047\" xlink:href=\"#DejaVuSans-46\"/>\n       <use x=\"95.410156\" xlink:href=\"#DejaVuSans-48\"/>\n       <use x=\"159.033203\" xlink:href=\"#DejaVuSans-48\"/>\n       <use x=\"222.65625\" xlink:href=\"#DejaVuSans-51\"/>\n       <use x=\"286.279297\" xlink:href=\"#DejaVuSans-48\"/>\n      </g>\n     </g>\n    </g>\n    <g id=\"ytick_8\">\n     <g id=\"line2d_14\">\n      <g>\n       <use style=\"stroke:#000000;stroke-width:0.8;\" x=\"62.86875\" xlink:href=\"#mf3f3679ca3\" y=\"11.744021\"/>\n      </g>\n     </g>\n     <g id=\"text_15\">\n      <!-- 0.0035 -->\n      <g transform=\"translate(20.878125 15.54324)scale(0.1 -0.1)\">\n       <use xlink:href=\"#DejaVuSans-48\"/>\n       <use x=\"63.623047\" xlink:href=\"#DejaVuSans-46\"/>\n       <use x=\"95.410156\" xlink:href=\"#DejaVuSans-48\"/>\n       <use x=\"159.033203\" xlink:href=\"#DejaVuSans-48\"/>\n       <use x=\"222.65625\" xlink:href=\"#DejaVuSans-51\"/>\n       <use x=\"286.279297\" xlink:href=\"#DejaVuSans-53\"/>\n      </g>\n     </g>\n    </g>\n    <g id=\"text_16\">\n     <!-- Distribution des vitesses -->\n     <g transform=\"translate(14.798438 177.398125)rotate(-90)scale(0.1 -0.1)\">\n      <defs>\n       <path d=\"M 19.671875 64.796875 \nL 19.671875 8.109375 \nL 31.59375 8.109375 \nQ 46.6875 8.109375 53.6875 14.9375 \nQ 60.6875 21.78125 60.6875 36.53125 \nQ 60.6875 51.171875 53.6875 57.984375 \nQ 46.6875 64.796875 31.59375 64.796875 \nz\nM 9.8125 72.90625 \nL 30.078125 72.90625 \nQ 51.265625 72.90625 61.171875 64.09375 \nQ 71.09375 55.28125 71.09375 36.53125 \nQ 71.09375 17.671875 61.125 8.828125 \nQ 51.171875 0 30.078125 0 \nL 9.8125 0 \nz\n\" id=\"DejaVuSans-68\"/>\n       <path d=\"M 9.421875 54.6875 \nL 18.40625 54.6875 \nL 18.40625 0 \nL 9.421875 0 \nz\nM 9.421875 75.984375 \nL 18.40625 75.984375 \nL 18.40625 64.59375 \nL 9.421875 64.59375 \nz\n\" id=\"DejaVuSans-105\"/>\n       <path d=\"M 18.3125 70.21875 \nL 18.3125 54.6875 \nL 36.8125 54.6875 \nL 36.8125 47.703125 \nL 18.3125 47.703125 \nL 18.3125 18.015625 \nQ 18.3125 11.328125 20.140625 9.421875 \nQ 21.96875 7.515625 27.59375 7.515625 \nL 36.8125 7.515625 \nL 36.8125 0 \nL 27.59375 0 \nQ 17.1875 0 13.234375 3.875 \nQ 9.28125 7.765625 9.28125 18.015625 \nL 9.28125 47.703125 \nL 2.6875 47.703125 \nL 2.6875 54.6875 \nL 9.28125 54.6875 \nL 9.28125 70.21875 \nz\n\" id=\"DejaVuSans-116\"/>\n       <path d=\"M 41.109375 46.296875 \nQ 39.59375 47.171875 37.8125 47.578125 \nQ 36.03125 48 33.890625 48 \nQ 26.265625 48 22.1875 43.046875 \nQ 18.109375 38.09375 18.109375 28.8125 \nL 18.109375 0 \nL 9.078125 0 \nL 9.078125 54.6875 \nL 18.109375 54.6875 \nL 18.109375 46.1875 \nQ 20.953125 51.171875 25.484375 53.578125 \nQ 30.03125 56 36.53125 56 \nQ 37.453125 56 38.578125 55.875 \nQ 39.703125 55.765625 41.0625 55.515625 \nz\n\" id=\"DejaVuSans-114\"/>\n       <path d=\"M 48.6875 27.296875 \nQ 48.6875 37.203125 44.609375 42.84375 \nQ 40.53125 48.484375 33.40625 48.484375 \nQ 26.265625 48.484375 22.1875 42.84375 \nQ 18.109375 37.203125 18.109375 27.296875 \nQ 18.109375 17.390625 22.1875 11.75 \nQ 26.265625 6.109375 33.40625 6.109375 \nQ 40.53125 6.109375 44.609375 11.75 \nQ 48.6875 17.390625 48.6875 27.296875 \nz\nM 18.109375 46.390625 \nQ 20.953125 51.265625 25.265625 53.625 \nQ 29.59375 56 35.59375 56 \nQ 45.5625 56 51.78125 48.09375 \nQ 58.015625 40.1875 58.015625 27.296875 \nQ 58.015625 14.40625 51.78125 6.484375 \nQ 45.5625 -1.421875 35.59375 -1.421875 \nQ 29.59375 -1.421875 25.265625 0.953125 \nQ 20.953125 3.328125 18.109375 8.203125 \nL 18.109375 0 \nL 9.078125 0 \nL 9.078125 75.984375 \nL 18.109375 75.984375 \nz\n\" id=\"DejaVuSans-98\"/>\n       <path d=\"M 8.5 21.578125 \nL 8.5 54.6875 \nL 17.484375 54.6875 \nL 17.484375 21.921875 \nQ 17.484375 14.15625 20.5 10.265625 \nQ 23.53125 6.390625 29.59375 6.390625 \nQ 36.859375 6.390625 41.078125 11.03125 \nQ 45.3125 15.671875 45.3125 23.6875 \nL 45.3125 54.6875 \nL 54.296875 54.6875 \nL 54.296875 0 \nL 45.3125 0 \nL 45.3125 8.40625 \nQ 42.046875 3.421875 37.71875 1 \nQ 33.40625 -1.421875 27.6875 -1.421875 \nQ 18.265625 -1.421875 13.375 4.4375 \nQ 8.5 10.296875 8.5 21.578125 \nz\nM 31.109375 56 \nz\n\" id=\"DejaVuSans-117\"/>\n       <path d=\"M 30.609375 48.390625 \nQ 23.390625 48.390625 19.1875 42.75 \nQ 14.984375 37.109375 14.984375 27.296875 \nQ 14.984375 17.484375 19.15625 11.84375 \nQ 23.34375 6.203125 30.609375 6.203125 \nQ 37.796875 6.203125 41.984375 11.859375 \nQ 46.1875 17.53125 46.1875 27.296875 \nQ 46.1875 37.015625 41.984375 42.703125 \nQ 37.796875 48.390625 30.609375 48.390625 \nz\nM 30.609375 56 \nQ 42.328125 56 49.015625 48.375 \nQ 55.71875 40.765625 55.71875 27.296875 \nQ 55.71875 13.875 49.015625 6.21875 \nQ 42.328125 -1.421875 30.609375 -1.421875 \nQ 18.84375 -1.421875 12.171875 6.21875 \nQ 5.515625 13.875 5.515625 27.296875 \nQ 5.515625 40.765625 12.171875 48.375 \nQ 18.84375 56 30.609375 56 \nz\n\" id=\"DejaVuSans-111\"/>\n       <path d=\"M 54.890625 33.015625 \nL 54.890625 0 \nL 45.90625 0 \nL 45.90625 32.71875 \nQ 45.90625 40.484375 42.875 44.328125 \nQ 39.84375 48.1875 33.796875 48.1875 \nQ 26.515625 48.1875 22.3125 43.546875 \nQ 18.109375 38.921875 18.109375 30.90625 \nL 18.109375 0 \nL 9.078125 0 \nL 9.078125 54.6875 \nL 18.109375 54.6875 \nL 18.109375 46.1875 \nQ 21.34375 51.125 25.703125 53.5625 \nQ 30.078125 56 35.796875 56 \nQ 45.21875 56 50.046875 50.171875 \nQ 54.890625 44.34375 54.890625 33.015625 \nz\n\" id=\"DejaVuSans-110\"/>\n       <path d=\"M 45.40625 46.390625 \nL 45.40625 75.984375 \nL 54.390625 75.984375 \nL 54.390625 0 \nL 45.40625 0 \nL 45.40625 8.203125 \nQ 42.578125 3.328125 38.25 0.953125 \nQ 33.9375 -1.421875 27.875 -1.421875 \nQ 17.96875 -1.421875 11.734375 6.484375 \nQ 5.515625 14.40625 5.515625 27.296875 \nQ 5.515625 40.1875 11.734375 48.09375 \nQ 17.96875 56 27.875 56 \nQ 33.9375 56 38.25 53.625 \nQ 42.578125 51.265625 45.40625 46.390625 \nz\nM 14.796875 27.296875 \nQ 14.796875 17.390625 18.875 11.75 \nQ 22.953125 6.109375 30.078125 6.109375 \nQ 37.203125 6.109375 41.296875 11.75 \nQ 45.40625 17.390625 45.40625 27.296875 \nQ 45.40625 37.203125 41.296875 42.84375 \nQ 37.203125 48.484375 30.078125 48.484375 \nQ 22.953125 48.484375 18.875 42.84375 \nQ 14.796875 37.203125 14.796875 27.296875 \nz\n\" id=\"DejaVuSans-100\"/>\n       <path d=\"M 56.203125 29.59375 \nL 56.203125 25.203125 \nL 14.890625 25.203125 \nQ 15.484375 15.921875 20.484375 11.0625 \nQ 25.484375 6.203125 34.421875 6.203125 \nQ 39.59375 6.203125 44.453125 7.46875 \nQ 49.3125 8.734375 54.109375 11.28125 \nL 54.109375 2.78125 \nQ 49.265625 0.734375 44.1875 -0.34375 \nQ 39.109375 -1.421875 33.890625 -1.421875 \nQ 20.796875 -1.421875 13.15625 6.1875 \nQ 5.515625 13.8125 5.515625 26.8125 \nQ 5.515625 40.234375 12.765625 48.109375 \nQ 20.015625 56 32.328125 56 \nQ 43.359375 56 49.78125 48.890625 \nQ 56.203125 41.796875 56.203125 29.59375 \nz\nM 47.21875 32.234375 \nQ 47.125 39.59375 43.09375 43.984375 \nQ 39.0625 48.390625 32.421875 48.390625 \nQ 24.90625 48.390625 20.390625 44.140625 \nQ 15.875 39.890625 15.1875 32.171875 \nz\n\" id=\"DejaVuSans-101\"/>\n       <path d=\"M 2.984375 54.6875 \nL 12.5 54.6875 \nL 29.59375 8.796875 \nL 46.6875 54.6875 \nL 56.203125 54.6875 \nL 35.6875 0 \nL 23.484375 0 \nz\n\" id=\"DejaVuSans-118\"/>\n      </defs>\n      <use xlink:href=\"#DejaVuSans-68\"/>\n      <use x=\"77.001953\" xlink:href=\"#DejaVuSans-105\"/>\n      <use x=\"104.785156\" xlink:href=\"#DejaVuSans-115\"/>\n      <use x=\"156.884766\" xlink:href=\"#DejaVuSans-116\"/>\n      <use x=\"196.09375\" xlink:href=\"#DejaVuSans-114\"/>\n      <use x=\"237.207031\" xlink:href=\"#DejaVuSans-105\"/>\n      <use x=\"264.990234\" xlink:href=\"#DejaVuSans-98\"/>\n      <use x=\"328.466797\" xlink:href=\"#DejaVuSans-117\"/>\n      <use x=\"391.845703\" xlink:href=\"#DejaVuSans-116\"/>\n      <use x=\"431.054688\" xlink:href=\"#DejaVuSans-105\"/>\n      <use x=\"458.837891\" xlink:href=\"#DejaVuSans-111\"/>\n      <use x=\"520.019531\" xlink:href=\"#DejaVuSans-110\"/>\n      <use x=\"583.398438\" xlink:href=\"#DejaVuSans-32\"/>\n      <use x=\"615.185547\" xlink:href=\"#DejaVuSans-100\"/>\n      <use x=\"678.662109\" xlink:href=\"#DejaVuSans-101\"/>\n      <use x=\"740.185547\" xlink:href=\"#DejaVuSans-115\"/>\n      <use x=\"792.285156\" xlink:href=\"#DejaVuSans-32\"/>\n      <use x=\"824.072266\" xlink:href=\"#DejaVuSans-118\"/>\n      <use x=\"883.251953\" xlink:href=\"#DejaVuSans-105\"/>\n      <use x=\"911.035156\" xlink:href=\"#DejaVuSans-116\"/>\n      <use x=\"950.244141\" xlink:href=\"#DejaVuSans-101\"/>\n      <use x=\"1011.767578\" xlink:href=\"#DejaVuSans-115\"/>\n      <use x=\"1063.867188\" xlink:href=\"#DejaVuSans-115\"/>\n      <use x=\"1115.966797\" xlink:href=\"#DejaVuSans-101\"/>\n      <use x=\"1177.490234\" xlink:href=\"#DejaVuSans-115\"/>\n     </g>\n    </g>\n   </g>\n   <g id=\"line2d_15\">\n    <path clip-path=\"url(#p5dc2386bae)\" d=\"M 62.86875 214.756364 \nL 65.530437 214.645163 \nL 68.198819 214.31092 \nL 70.893986 213.748378 \nL 73.62933 212.948839 \nL 76.418241 211.900263 \nL 79.277462 210.585751 \nL 82.22708 208.982382 \nL 85.283834 207.064653 \nL 88.471162 204.798848 \nL 91.812499 202.146629 \nL 95.341327 199.057008 \nL 99.09782 195.467405 \nL 103.145593 191.285946 \nL 107.578389 186.379852 \nL 112.566959 180.517416 \nL 118.479586 173.211556 \nL 126.699008 162.667688 \nL 140.931499 144.394879 \nL 147.115316 136.851787 \nL 152.331553 130.831121 \nL 156.998711 125.776561 \nL 161.297586 121.442682 \nL 165.321923 117.696264 \nL 169.131985 114.448652 \nL 172.767949 111.637385 \nL 176.266644 109.20982 \nL 179.648158 107.131004 \nL 182.935927 105.368016 \nL 186.150039 103.894659 \nL 189.303886 102.691664 \nL 192.414209 101.741652 \nL 195.497748 101.031173 \nL 198.567895 100.551121 \nL 201.64139 100.295166 \nL 204.734973 100.260814 \nL 207.862036 100.448953 \nL 211.03932 100.863616 \nL 214.286912 101.51294 \nL 217.621554 102.407991 \nL 221.06668 103.564957 \nL 224.645728 105.003965 \nL 228.385481 106.750044 \nL 232.322769 108.837013 \nL 236.501114 111.307145 \nL 240.980783 114.217925 \nL 245.852172 117.653438 \nL 251.259246 121.745274 \nL 257.4665 126.730434 \nL 265.103364 133.163367 \nL 277.568093 144.002742 \nL 290.739257 155.36014 \nL 299.015595 162.201541 \nL 306.183735 167.843511 \nL 312.782709 172.758304 \nL 319.033488 177.139398 \nL 325.059948 181.094027 \nL 330.942443 184.690093 \nL 336.741237 187.975815 \nL 342.503202 190.986132 \nL 348.268516 193.748005 \nL 354.074006 196.282949 \nL 359.956501 198.608945 \nL 365.952829 200.740588 \nL 372.103166 202.690396 \nL 378.451038 204.468637 \nL 385.046664 206.084115 \nL 391.950309 207.544493 \nL 397.66875 208.592666 \nL 397.66875 208.592666 \n\" style=\"fill:none;stroke:#1f77b4;stroke-linecap:square;stroke-width:1.5;\"/>\n   </g>\n   <g id=\"line2d_16\">\n    <path clip-path=\"url(#p5dc2386bae)\" d=\"M 62.86875 214.756364 \nL 64.040562 214.645472 \nL 65.225766 214.307994 \nL 66.44445 213.725595 \nL 67.713354 212.867249 \nL 69.04922 211.688592 \nL 70.468786 210.131124 \nL 71.982097 208.131033 \nL 73.602545 205.609785 \nL 75.340175 202.483335 \nL 77.211725 198.645389 \nL 79.233938 193.977052 \nL 81.430248 188.331841 \nL 83.834136 181.522294 \nL 86.49917 173.283735 \nL 89.509052 163.231282 \nL 93.041228 150.626353 \nL 97.621338 133.398397 \nL 110.6251 84.006437 \nL 114.307936 71.168672 \nL 117.475176 60.909388 \nL 120.31096 52.455982 \nL 122.89899 45.420415 \nL 125.292834 39.539548 \nL 127.519277 34.643516 \nL 129.601753 30.586073 \nL 131.557005 27.249694 \nL 133.398423 24.535127 \nL 135.136053 22.358714 \nL 136.779937 20.646199 \nL 138.343469 19.330422 \nL 139.836692 18.357963 \nL 141.272998 17.682906 \nL 142.669128 17.269163 \nL 144.041822 17.092604 \nL 145.411167 17.140618 \nL 146.797253 17.41326 \nL 148.220168 17.922828 \nL 149.69665 18.691695 \nL 151.24679 19.754692 \nL 152.887326 21.155622 \nL 154.635 22.948037 \nL 156.50655 25.194807 \nL 158.518718 27.967214 \nL 160.69494 31.3544 \nL 163.065348 35.466819 \nL 165.66677 40.438107 \nL 168.559471 46.460409 \nL 171.837196 53.815258 \nL 175.684086 63.015842 \nL 180.575563 75.327423 \nL 199.933893 124.678485 \nL 204.393473 135.082042 \nL 208.43455 143.956712 \nL 212.207783 151.716836 \nL 215.793527 158.591737 \nL 219.242002 164.730093 \nL 222.583339 170.230674 \nL 225.847672 175.182 \nL 229.05174 179.643169 \nL 232.215631 183.671728 \nL 235.356087 187.314045 \nL 238.486498 190.607276 \nL 241.623606 193.587314 \nL 244.784149 196.284756 \nL 247.984869 198.72542 \nL 251.242506 200.930927 \nL 254.583843 202.924921 \nL 258.02897 204.721929 \nL 261.611365 206.339179 \nL 265.364511 207.788449 \nL 269.331931 209.08053 \nL 273.570541 210.224853 \nL 278.150651 211.228221 \nL 283.169353 212.096592 \nL 288.767265 212.835172 \nL 295.151965 213.447796 \nL 302.658256 213.937747 \nL 311.89548 214.308518 \nL 324.125847 214.563465 \nL 342.817917 214.707957 \nL 385.237502 214.754985 \nL 397.66875 214.755928 \nL 397.66875 214.755928 \n\" style=\"fill:none;stroke:#ff7f0e;stroke-linecap:square;stroke-width:1.5;\"/>\n   </g>\n   <g id=\"line2d_17\">\n    <path clip-path=\"url(#p5dc2386bae)\" d=\"M 62.86875 214.756364 \nL 64.840742 214.645341 \nL 66.822778 214.310402 \nL 68.82825 213.744809 \nL 70.873898 212.935087 \nL 72.976463 211.861022 \nL 75.149337 210.497986 \nL 77.409259 208.813625 \nL 79.769623 206.772316 \nL 82.247168 204.330611 \nL 84.86533 201.432044 \nL 87.644198 198.01715 \nL 90.617251 194.003706 \nL 93.824668 189.29183 \nL 97.330059 183.737457 \nL 101.240562 177.112825 \nL 105.767103 168.990814 \nL 111.468804 158.2755 \nL 130.495678 122.141701 \nL 135.109268 114.07756 \nL 139.153693 107.445058 \nL 142.823138 101.844922 \nL 146.218043 97.060818 \nL 149.398675 92.955269 \nL 152.401861 89.434738 \nL 155.257734 86.422988 \nL 157.989729 83.859348 \nL 160.614587 81.696117 \nL 163.149049 79.891147 \nL 165.606505 78.410137 \nL 168.003697 77.222091 \nL 170.350669 76.304557 \nL 172.66416 75.636975 \nL 174.957563 75.205378 \nL 177.247618 75.000303 \nL 179.547717 75.017881 \nL 181.871252 75.258546 \nL 184.238312 75.728491 \nL 186.662288 76.438059 \nL 189.163269 77.40411 \nL 191.757995 78.647527 \nL 194.466554 80.195328 \nL 197.312382 82.081576 \nL 200.318917 84.345319 \nL 203.522985 87.041156 \nL 206.964763 90.233395 \nL 210.704516 94.012037 \nL 214.829294 98.503527 \nL 219.496452 103.924169 \nL 225.017359 110.691025 \nL 232.342857 120.04824 \nL 251.855196 145.137787 \nL 258.273376 152.92614 \nL 263.951641 159.473476 \nL 269.208053 165.20024 \nL 274.193275 170.306936 \nL 278.991007 174.906909 \nL 283.661514 179.079903 \nL 288.24832 182.882291 \nL 292.781557 186.353521 \nL 297.294706 189.530868 \nL 301.811203 192.439879 \nL 306.357833 195.104748 \nL 310.961379 197.545772 \nL 315.648626 199.779626 \nL 320.449706 201.821088 \nL 325.394751 203.681531 \nL 330.520591 205.371611 \nL 335.874096 206.90142 \nL 341.508836 208.278648 \nL 347.488424 209.509236 \nL 353.903256 210.599746 \nL 360.863818 211.554266 \nL 368.527467 212.376904 \nL 377.121869 213.071166 \nL 387.001915 213.640397 \nL 397.66875 214.054362 \nL 397.66875 214.054362 \n\" style=\"fill:none;stroke:#2ca02c;stroke-linecap:square;stroke-width:1.5;\"/>\n   </g>\n   <g id=\"line2d_18\">\n    <path clip-path=\"url(#p5dc2386bae)\" d=\"M 62.86875 214.756364 \nL 66.792645 214.645177 \nL 70.726585 214.311099 \nL 74.690656 213.750894 \nL 78.7016 212.958884 \nL 82.782853 211.925217 \nL 86.951155 210.638746 \nL 91.23329 209.082677 \nL 95.656042 207.236785 \nL 100.252892 205.074801 \nL 105.067364 202.561859 \nL 110.156375 199.651506 \nL 115.606973 196.274154 \nL 121.553081 192.322892 \nL 128.235756 187.607911 \nL 136.214119 181.694828 \nL 147.965717 172.674584 \nL 163.43698 160.844874 \nL 171.592789 154.898243 \nL 178.46965 150.153498 \nL 184.65012 146.154717 \nL 190.375257 142.711616 \nL 195.772287 139.722084 \nL 200.924911 137.119408 \nL 205.890044 134.858349 \nL 210.707864 132.906833 \nL 215.411851 131.239723 \nL 220.02879 129.837919 \nL 224.585463 128.685654 \nL 229.10196 127.772005 \nL 233.601717 127.088119 \nL 238.101474 126.628923 \nL 242.62132 126.391198 \nL 247.181341 126.374287 \nL 251.801627 126.579982 \nL 256.505614 127.012719 \nL 261.316738 127.679562 \nL 266.265132 128.591211 \nL 271.380927 129.761319 \nL 276.707648 131.209722 \nL 282.292168 132.960932 \nL 288.204795 135.05088 \nL 294.539275 137.529317 \nL 301.436224 140.470972 \nL 309.136701 144.00277 \nL 318.132867 148.382005 \nL 329.850984 154.350462 \nL 363.291142 171.521671 \nL 373.723615 176.542918 \nL 383.09476 180.809865 \nL 391.89674 184.575633 \nL 397.66875 186.907655 \nL 397.66875 186.907655 \n\" style=\"fill:none;stroke:#d62728;stroke-linecap:square;stroke-width:1.5;\"/>\n   </g>\n   <g id=\"patch_3\">\n    <path d=\"M 62.86875 224.64 \nL 62.86875 7.2 \n\" style=\"fill:none;stroke:#000000;stroke-linecap:square;stroke-linejoin:miter;stroke-width:0.8;\"/>\n   </g>\n   <g id=\"patch_4\">\n    <path d=\"M 397.66875 224.64 \nL 397.66875 7.2 \n\" style=\"fill:none;stroke:#000000;stroke-linecap:square;stroke-linejoin:miter;stroke-width:0.8;\"/>\n   </g>\n   <g id=\"patch_5\">\n    <path d=\"M 62.86875 224.64 \nL 397.66875 224.64 \n\" style=\"fill:none;stroke:#000000;stroke-linecap:square;stroke-linejoin:miter;stroke-width:0.8;\"/>\n   </g>\n   <g id=\"patch_6\">\n    <path d=\"M 62.86875 7.2 \nL 397.66875 7.2 \n\" style=\"fill:none;stroke:#000000;stroke-linecap:square;stroke-linejoin:miter;stroke-width:0.8;\"/>\n   </g>\n   <g id=\"legend_1\">\n    <g id=\"patch_7\">\n     <path d=\"M 318.535938 73.9125 \nL 390.66875 73.9125 \nQ 392.66875 73.9125 392.66875 71.9125 \nL 392.66875 14.2 \nQ 392.66875 12.2 390.66875 12.2 \nL 318.535938 12.2 \nQ 316.535938 12.2 316.535938 14.2 \nL 316.535938 71.9125 \nQ 316.535938 73.9125 318.535938 73.9125 \nz\n\" style=\"fill:#ffffff;opacity:0.8;stroke:#cccccc;stroke-linejoin:miter;\"/>\n    </g>\n    <g id=\"line2d_19\">\n     <path d=\"M 320.535938 20.298437 \nL 340.535938 20.298437 \n\" style=\"fill:none;stroke:#1f77b4;stroke-linecap:square;stroke-width:1.5;\"/>\n    </g>\n    <g id=\"line2d_20\"/>\n    <g id=\"text_17\">\n     <!-- T=298 -->\n     <g transform=\"translate(348.535938 23.798437)scale(0.1 -0.1)\">\n      <defs>\n       <path d=\"M -0.296875 72.90625 \nL 61.375 72.90625 \nL 61.375 64.59375 \nL 35.5 64.59375 \nL 35.5 0 \nL 25.59375 0 \nL 25.59375 64.59375 \nL -0.296875 64.59375 \nz\n\" id=\"DejaVuSans-84\"/>\n       <path d=\"M 10.59375 45.40625 \nL 73.1875 45.40625 \nL 73.1875 37.203125 \nL 10.59375 37.203125 \nz\nM 10.59375 25.484375 \nL 73.1875 25.484375 \nL 73.1875 17.1875 \nL 10.59375 17.1875 \nz\n\" id=\"DejaVuSans-61\"/>\n       <path d=\"M 10.984375 1.515625 \nL 10.984375 10.5 \nQ 14.703125 8.734375 18.5 7.8125 \nQ 22.3125 6.890625 25.984375 6.890625 \nQ 35.75 6.890625 40.890625 13.453125 \nQ 46.046875 20.015625 46.78125 33.40625 \nQ 43.953125 29.203125 39.59375 26.953125 \nQ 35.25 24.703125 29.984375 24.703125 \nQ 19.046875 24.703125 12.671875 31.3125 \nQ 6.296875 37.9375 6.296875 49.421875 \nQ 6.296875 60.640625 12.9375 67.421875 \nQ 19.578125 74.21875 30.609375 74.21875 \nQ 43.265625 74.21875 49.921875 64.515625 \nQ 56.59375 54.828125 56.59375 36.375 \nQ 56.59375 19.140625 48.40625 8.859375 \nQ 40.234375 -1.421875 26.421875 -1.421875 \nQ 22.703125 -1.421875 18.890625 -0.6875 \nQ 15.09375 0.046875 10.984375 1.515625 \nz\nM 30.609375 32.421875 \nQ 37.25 32.421875 41.125 36.953125 \nQ 45.015625 41.5 45.015625 49.421875 \nQ 45.015625 57.28125 41.125 61.84375 \nQ 37.25 66.40625 30.609375 66.40625 \nQ 23.96875 66.40625 20.09375 61.84375 \nQ 16.21875 57.28125 16.21875 49.421875 \nQ 16.21875 41.5 20.09375 36.953125 \nQ 23.96875 32.421875 30.609375 32.421875 \nz\n\" id=\"DejaVuSans-57\"/>\n      </defs>\n      <use xlink:href=\"#DejaVuSans-84\"/>\n      <use x=\"61.083984\" xlink:href=\"#DejaVuSans-61\"/>\n      <use x=\"144.873047\" xlink:href=\"#DejaVuSans-50\"/>\n      <use x=\"208.496094\" xlink:href=\"#DejaVuSans-57\"/>\n      <use x=\"272.119141\" xlink:href=\"#DejaVuSans-56\"/>\n     </g>\n    </g>\n    <g id=\"line2d_21\">\n     <path d=\"M 320.535938 34.976562 \nL 340.535938 34.976562 \n\" style=\"fill:none;stroke:#ff7f0e;stroke-linecap:square;stroke-width:1.5;\"/>\n    </g>\n    <g id=\"line2d_22\"/>\n    <g id=\"text_18\">\n     <!-- T=100K -->\n     <g transform=\"translate(348.535938 38.476562)scale(0.1 -0.1)\">\n      <defs>\n       <path d=\"M 9.8125 72.90625 \nL 19.671875 72.90625 \nL 19.671875 42.09375 \nL 52.390625 72.90625 \nL 65.09375 72.90625 \nL 28.90625 38.921875 \nL 67.671875 0 \nL 54.6875 0 \nL 19.671875 35.109375 \nL 19.671875 0 \nL 9.8125 0 \nz\n\" id=\"DejaVuSans-75\"/>\n      </defs>\n      <use xlink:href=\"#DejaVuSans-84\"/>\n      <use x=\"61.083984\" xlink:href=\"#DejaVuSans-61\"/>\n      <use x=\"144.873047\" xlink:href=\"#DejaVuSans-49\"/>\n      <use x=\"208.496094\" xlink:href=\"#DejaVuSans-48\"/>\n      <use x=\"272.119141\" xlink:href=\"#DejaVuSans-48\"/>\n      <use x=\"335.742188\" xlink:href=\"#DejaVuSans-75\"/>\n     </g>\n    </g>\n    <g id=\"line2d_23\">\n     <path d=\"M 320.535938 49.654687 \nL 340.535938 49.654687 \n\" style=\"fill:none;stroke:#2ca02c;stroke-linecap:square;stroke-width:1.5;\"/>\n    </g>\n    <g id=\"line2d_24\"/>\n    <g id=\"text_19\">\n     <!-- T=200K -->\n     <g transform=\"translate(348.535938 53.154687)scale(0.1 -0.1)\">\n      <use xlink:href=\"#DejaVuSans-84\"/>\n      <use x=\"61.083984\" xlink:href=\"#DejaVuSans-61\"/>\n      <use x=\"144.873047\" xlink:href=\"#DejaVuSans-50\"/>\n      <use x=\"208.496094\" xlink:href=\"#DejaVuSans-48\"/>\n      <use x=\"272.119141\" xlink:href=\"#DejaVuSans-48\"/>\n      <use x=\"335.742188\" xlink:href=\"#DejaVuSans-75\"/>\n     </g>\n    </g>\n    <g id=\"line2d_25\">\n     <path d=\"M 320.535938 64.332812 \nL 340.535938 64.332812 \n\" style=\"fill:none;stroke:#d62728;stroke-linecap:square;stroke-width:1.5;\"/>\n    </g>\n    <g id=\"line2d_26\"/>\n    <g id=\"text_20\">\n     <!-- T=500K -->\n     <g transform=\"translate(348.535938 67.832812)scale(0.1 -0.1)\">\n      <use xlink:href=\"#DejaVuSans-84\"/>\n      <use x=\"61.083984\" xlink:href=\"#DejaVuSans-61\"/>\n      <use x=\"144.873047\" xlink:href=\"#DejaVuSans-53\"/>\n      <use x=\"208.496094\" xlink:href=\"#DejaVuSans-48\"/>\n      <use x=\"272.119141\" xlink:href=\"#DejaVuSans-48\"/>\n      <use x=\"335.742188\" xlink:href=\"#DejaVuSans-75\"/>\n     </g>\n    </g>\n   </g>\n  </g>\n </g>\n <defs>\n  <clipPath id=\"p5dc2386bae\">\n   <rect height=\"217.44\" width=\"334.8\" x=\"62.86875\" y=\"7.2\"/>\n  </clipPath>\n </defs>\n</svg>\n",
      "image/png": "[encoded data removed]"
     },
     "metadata": {
      "needs_background": "light"
     }
    }
   ],
   "source": [
    "%matplotlib inline\n",
    "import numpy\n",
    "import math\n",
    "from matplotlib import pylab as plt\n",
    "def MB(v, M, T):\n",
    "    R = 8.31447 # J/mol/K\n",
    "    alpha = M / (2*R*T) \n",
    "    return 4*math.pi * pow(alpha/math.pi, 1.5) * v*v * numpy.exp(-alpha*v*v)\n",
    "M = 28.02e-3 # molar mass of N2 in kg/mol\n",
    "v = numpy.linspace(0, 1000, 100000) # m/s\n",
    "plt.xlabel(r\"$v$ [m/s]\")\n",
    "plt.xlim(0, 1000)\n",
    "plt.ylabel(r\"Distribution des vitesses\")\n",
    "#plt.ylim(0, 0.5)\n",
    "plt.plot(v, MB(v, M, 298), label=\"T=298\")\n",
    "plt.plot(v, MB(v, M, 100), label=\"T=100K\")\n",
    "plt.plot(v, MB(v, M, 200), label=\"T=200K\")\n",
    "plt.plot(v, MB(v, M, 500), label=\"T=500K\")\n",
    "plt.legend()"
   ]
  },
  {
   "source": [
    "Les observations principales sur cette distribution sont:\n",
    "\n",
    "1. Elle décroit exponentiellement. Dès lors, la faction de molécule ayant une vitesse très élevée est faible.\n",
    "2. L'exposant $M/(2RT)$ qui multiplie $v^2$ dans l'exponentiellement décroissante fait en sorte qu'à masse molaire élevée ou à température faible, celle-ci décroit beaucoup plus rapidement. Il est donc peu probable de trouver des molécules se déplaçant à grande vitesse quand la masse molaire est élevée ou quand la température est basse.\n",
    "3. Inversément, à grande température, une plus grande fraction de molécule peut se trouver avec une vitesse élevée par rapport à une plus faible température.\n",
    "4. Le facteur $v^2$ qui se trouve avant l'exponentiellement tend vers zéro quand $v \\rightarrow 0$. La fraction de molécule ayant une faible vitesse sera aussi très petit qu'importe leur masse."
   ],
   "cell_type": "markdown",
   "metadata": {}
  },
  {
   "source": [
    "## Valeurs moyennes"
   ],
   "cell_type": "markdown",
   "metadata": {}
  },
  {
   "source": [
    "A partir de cette distribution, il est possible d'en extraire certaines valeurs moyennes de vitesse."
   ],
   "cell_type": "markdown",
   "metadata": {}
  },
  {
   "source": [
    "### 1) Vitesse la plus probable"
   ],
   "cell_type": "markdown",
   "metadata": {}
  },
  {
   "source": [
    "Cette vitesse est définie comme étant le maximum de la distribution:\n",
    "\\begin{align*}\n",
    "\\frac{\\text{d}f(v)}{\\text{d}v} &= 0 \\\\\n",
    "&= \\frac{\\text{d}}{\\text{d}v} \\left( 4 \\pi \\left(\\frac{M}{2\\pi RT}\\right)^{3/2} v^2 e^{-Mv^2/(2RT)} \\right)\\\\\n",
    "&=4 \\pi \\left(\\frac{M}{2\\pi RT}\\right)^{3/2} \\left( 2 v e^{-Mv^2/(2RT)} - v^3 \\frac{M}{RT} e^{-Mv^2/(2RT)}\\right)\\\\\n",
    "&=4 \\pi v e^{-Mv^2/(2RT)} \\left(\\frac{M}{2\\pi RT}\\right)^{3/2} \\left( 2  - v^2 \\frac{M}{RT} \\right)\n",
    "\\end{align*}"
   ],
   "cell_type": "markdown",
   "metadata": {}
  },
  {
   "source": [
    "Si on retire les solutions $v=0$ et $v=\\infty$, la solution restate nous donne $v_{mp}$:\n",
    "\\begin{align*}\n",
    "v_{\\text{rp}} &= \\sqrt{\\frac{2RT}{M}}\n",
    "\\end{align*}"
   ],
   "cell_type": "markdown",
   "metadata": {}
  },
  {
   "source": [
    "### 2) Vitesse moyenne"
   ],
   "cell_type": "markdown",
   "metadata": {}
  },
  {
   "source": [
    "La moyenne d'une liste de chose ($x_i$) est simplement la somme de cette chose multiplié par un poids ($w_i$). Ce poids est normalié de telle façon que la somme des poids vaut 1:\n",
    "\\begin{align*}\n",
    "\\bar{x} &= \\sum_i^N x_i w_i\\\\\n",
    "1 &= \\sum_i^N w_i\n",
    "\\end{align*}\n",
    "Ainsi, dans une moyenne arithmétique, tous les poids valent la même chose $w_i = w = 1/N$.\n",
    "\n",
    "Pour une distribution, la somme est remplacée par une intégrale et le poids est donné par la distribution elle-même multiplié par $\\text{d}v$. Dès lors la vitesse moyenne est donnée par:\n",
    "\\begin{align*}\n",
    "\\bar{v} &= \\int_{0}^{\\infty} v f(v) \\text(d)v\n",
    "\\end{align*}\n",
    "Cela correspond à sommer toutes les vitesses possibles multiplié par la probabilité $f(v) \\text{d}v$ d'avoir cette vitesse."
   ],
   "cell_type": "markdown",
   "metadata": {}
  },
  {
   "source": [
    "\\begin{align*}\n",
    "\\bar{v} &= \\int_{0}^{\\infty} v f(v) \\text{d}v\\\\\n",
    "&= \\int_{0}^{\\infty} 4 \\pi \\left(\\frac{M}{2\\pi RT}\\right)^{3/2} v^3 e^{-Mv^2/(2RT)} \\text{d} v\\\\\n",
    "&=  4 \\pi \\left(\\frac{M}{2\\pi RT}\\right)^{3/2} \\int_{0}^{\\infty}v^3 e^{-Mv^2/(2RT)} \\text{d} v\\\\\n",
    "&=  4 \\pi \\left(\\frac{M}{2\\pi RT}\\right)^{3/2} \\times \\frac{1}{2} \\left(\\frac{2RT}{M}\\right)^{2}\\\\\n",
    "&= \\sqrt{\\frac{8RT}{\\pi M}}\n",
    "\\end{align*}\n",
    "où à nouveau l'intégrale peut être trouvée dans les tables mathématiques:  $\\int_{0}^\\infty x^3 e^{-\\alpha x^2} \\text{d}x = \\frac{1}{2\\alpha^2}$"
   ],
   "cell_type": "markdown",
   "metadata": {}
  },
  {
   "source": [
    "### 3) Vitesse quadratique moyenne"
   ],
   "cell_type": "markdown",
   "metadata": {}
  },
  {
   "source": [
    "De manière similaire, le carré de vitesse quadratique moyenne $v_{\\text{rms}}^2$ est la moyenne de $v^2$:\n",
    "\\begin{align*}\n",
    "v_{\\text{rms}}^2 &= \\langle v^2 \\rangle = \\int_{0}^{\\infty} v^2 f(v) \\text{d}v\\\\\n",
    "&= \\int_{0}^{\\infty} 4 \\pi \\left(\\frac{M}{2\\pi RT}\\right)^{3/2} v^4 e^{-Mv^2/(2RT)} \\text{d} v\\\\\n",
    "&=  4 \\pi \\left(\\frac{M}{2\\pi RT}\\right)^{3/2} \\int_{0}^{\\infty}v^4 e^{-Mv^2/(2RT)} \\text{d} v\\\\\n",
    "&=  4 \\pi \\left(\\frac{M}{2\\pi RT}\\right)^{3/2} \\times \\frac{3}{8} \\left(\\frac{2^5\\pi R^5T^5}{M^5}\\right)^{1/2}\\\\\n",
    "&= \\frac{3RT}{ M}\\\\\n",
    "v_{\\text{rms}} &= \\sqrt{\\frac{3RT}{ M}}\n",
    "\\end{align*}\n",
    "où à nouveau l'intégrale peut être trouvée dans les tables mathématiques:  $\\int_{0}^\\infty x^4 e^{-\\alpha x^2} \\text{d}x = \\frac{3}{8}\\sqrt{\\frac{\\pi}{\\alpha^5}}$"
   ],
   "cell_type": "markdown",
   "metadata": {}
  },
  {
   "source": [
    "Ces trois manières d'évaluer la vitesse des particules dans un gaz parfait donne des résultats différents comme l'illustre la figure ci-dessous. Ce sont trois manière différente de quantifié cette vitesse.\n",
    "\n",
    "<img src=\"Pictures/ch01Bf06.jpg\" width=600 />"
   ],
   "cell_type": "markdown",
   "metadata": {}
  },
  {
   "source": [
    "Pour la molécule de N$_2$ de masse molaire $28.02$ g/mol, on obtient les valeurs suivantes pour ces différentes vitesses"
   ],
   "cell_type": "markdown",
   "metadata": {}
  },
  {
   "cell_type": "code",
   "execution_count": 34,
   "metadata": {
    "tags": []
   },
   "outputs": [
    {
     "output_type": "stream",
     "name": "stdout",
     "text": "Vitesse la plus probable: 420.64 m/s\nVitesse moyenne:          474.65 m/s\nVitesse rms:              515.18 m/s\n"
    }
   ],
   "source": [
    "import math\n",
    "R = 8.31447 # J/mol/K\n",
    "M = 28.02e-3 # molar mass of N2 in kg/mol\n",
    "T = 298.15 # K\n",
    "vmp = math.sqrt(2*R*T/M)\n",
    "vmean = math.sqrt(8*R*T/(math.pi*M))\n",
    "vrms = math.sqrt(3*R*T/M)\n",
    "print(f\"Vitesse la plus probable: {vmp:.2f} m/s\")\n",
    "print(f\"Vitesse moyenne:          {vmean:.2f} m/s\")\n",
    "print(f\"Vitesse rms:              {vrms:.2f} m/s\")"
   ]
  },
  {
   "source": [
    "C'est vitesse sont comparable à la vitesse de propagation du son dans l'air de 346 m/s."
   ],
   "cell_type": "markdown",
   "metadata": {}
  },
  {
   "source": [
    "## Equation des gaz parfaits"
   ],
   "cell_type": "markdown",
   "metadata": {}
  },
  {
   "source": [
    "En repartant de l'expression de la pression en fonction de $v_{\\text{rms}}^2$ et en substituant la valeur que nous venons d'obtenir pour cette quantité, on obtient l'équation des gaz parfaits:\n",
    "\\begin{align*}\n",
    "\\bar{p} V &= \\frac{1}{3} v_{\\text{rms}}^2 n M\\\\\n",
    "\\bar{p} V &= \\frac{1}{3} \\frac{3RT}{M} n M\\\\\n",
    "pV &= nRT\n",
    "\\end{align*}"
   ],
   "cell_type": "markdown",
   "metadata": {}
  },
  {
   "cell_type": "code",
   "execution_count": null,
   "metadata": {},
   "outputs": [],
   "source": []
  }
 ]
}