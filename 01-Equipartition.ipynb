{
 "cells": [
  {
   "cell_type": "markdown",
   "metadata": {},
   "source": [
    "# Principe d'équipartition et chaleur spécifique"
   ]
  },
  {
   "cell_type": "markdown",
   "metadata": {},
   "source": [
    "L'énergie totale d'un système est la somme de l'énergie cinétique $E_k$ (ou $T$) et de l'énergie potentielle $V$:\n",
    "\\begin{align*}\n",
    "E &= E_k + V\\\\\n",
    "E_k &= \\frac{1}{2} m |\\vec{v}|^2\n",
    "\\end{align*}\n",
    "\n",
    "La chaleur spécifique à volume constant est définie formellement comme étant la dérivée de l'énergie interne $U$ (qui correspond à l'énergie totale) par rapport à la température $T$ quand le volume est maintenu constant:\n",
    "\\begin{align*}\n",
    "C_{\\text{v}} &= \\left( \\frac{\\partial U}{\\partial T} \\right)_V\n",
    "\\end{align*}"
   ]
  },
  {
   "cell_type": "markdown",
   "metadata": {},
   "source": [
    "Une molécule possédant N atomes possèdent 3N degrés de liberté dont 3 de translation, 3 de rotation (ou 2 si la molécule est linéaire) et dès lors 3N-6 (3N-5) de vibration. L'énergie totale peut donc être réécrite comme étant la somme des énergies associées à chacun de ces degrés de liberté:\n",
    "\\begin{align*}\n",
    "E = E_{\\text{trans}} + E_{\\text{rot}} + E_{\\text{vib}} + [E_{\\text{électronique}} + \\ldots]\n",
    "\\end{align*}"
   ]
  },
  {
   "cell_type": "markdown",
   "metadata": {},
   "source": [
    "Le principe d'équipartition nous indique comment est réparti l'énergie moyenne dans chacun des degrés de liberté quand un  échantillon possède une température $T$. **Chaque degré de liberté qui est associé à un terme quadratique en fonction de la position ou de la vitesse possède en moyenne une énergie de $\\frac{1}{2}k_{\\text{B}}T$** ou $k_{\\text{B}}$ est la constante de Boltzmann et $T$ la température d'équilibre de l'échantillon. Note: pour avoir une quantité d'énergie molaire, il suffit de remplacer $k_{\\text{B}}$ par $R=N_{\\text{A}}k_{\\text{B}}$, la constante des gaz parfaits."
   ]
  },
  {
   "cell_type": "markdown",
   "metadata": {},
   "source": [
    "Ce principe est dérivé de la physique classique. Il s'applique très bien pour la **translation** et **rotation**. Par contre, pour les **vibrations**, il est nécessaire de tenir compte de la quantification des niveaux vibrationnels. En effet, la différence d'énergie entre deux niveaux vibrationnels est, la plus plupart du temps, plus grande que l'énergie thermique $k_{\\text{B}}T$ à température ambiante (25°C) qui vaut 4.116e-21 J ou 207.2 cm$^{-1}$."
   ]
  },
  {
   "cell_type": "markdown",
   "metadata": {},
   "source": [
    "Dès lors, l'énergie moyenne totale vaut:\n",
    "\\begin{align*}\n",
    "E = E_{\\text{trans}} + E_{\\text{rot}} + E_{\\text{vib}} + [E_{\\text{électronique}} + \\ldots]\n",
    "\\end{align*}\n",
    "- Chacun des 3 degrés de liberté de **translation** contient uniquement une contribution **d'énergie cinétique**. L'énergie moyenne de translation vaut donc:\n",
    "\\begin{align*}\n",
    "\\bar{E}_{k,\\text{trans}} &= \\frac{3}{2}k_{\\text{B}} T\n",
    "\\end{align*}\n",
    "- Chacun des $n_{\\text{rot}}=3$ (ou 2) degrés de liberté de **rotation** contient uniquement une contribution **d'énergie cinétique**. L'énergie moyenne de rotation vaut donc:\n",
    "\\begin{align*}\n",
    "\\bar{E}_{k,\\text{rot}} &= \\frac{n_{\\text{rot}}}{2}k_{\\text{B}} T\n",
    "\\end{align*}"
   ]
  },
  {
   "cell_type": "markdown",
   "metadata": {},
   "source": [
    "Ainsi, l'énergie moyenne pour un gaz diatomique vaut $\\frac{5}{2}k_{\\text{B}}T$ et la chaleur spécifique à volume constant, qui n'est rien d'autre que la dérivée de cette énergie par rapport à la température vaut $C_{\\text{v}}=\\frac{5}{2}k_{\\text{B}}$."
   ]
  },
  {
   "cell_type": "markdown",
   "metadata": {},
   "source": [
    "## Contribution des degrés de liberté de vibration"
   ]
  },
  {
   "cell_type": "markdown",
   "metadata": {},
   "source": [
    "Les vibrations sont le plus souvent traité dans ce qu'on appelle **l'approximation harmonique**. Cette approximation consiste simplement à dire que les atomes sont reliés entre-eux par des ressorts avec une énergie potentielle qui suit la loi de Hooke. Pour un problème à une dimension, cela s'écrit:\n",
    "\\begin{align*}\n",
    "V &= \\frac{1}{2} k (x-x_0)^2\\\\\n",
    "F_x &= -\\frac{\\text{d}V}{\\text{d}x} = - k (x-x_0)\\\\\n",
    "\\end{align*}\n",
    "où $x$ est la position de l'atome et $x_0$ sa position à l'équilibre. $k$ est la constante de force du ressort.\n",
    "\n",
    "Via la loi de Newton, on peut enfin montrer que la solution générale de cette équation est:\n",
    "\\begin{align*}\n",
    "x &= A \\cos(\\omega t)\n",
    "\\end{align*}\n",
    "où A est l'amplitude et dépend des conditions initiales du problème et $\\omega$ est la fréquence angulaire et vaut $\\sqrt{k/m}$ avec $m$ la masse de la particule. Pour un **système moléculaire en trois dimensions**, la solution est plus compliquée mais on a pour chaque degré de liberté une fréquence angulaire $\\omega$ charactéristique."
   ]
  },
  {
   "cell_type": "markdown",
   "metadata": {},
   "source": [
    "Dans cette approximation, les différents degrés de liberté de vibration (appelé mode de vibration ou oscillateur harmonique) peuvent être traité de façon indépendante, chaque mode étant associé à une fréquence angulaire $\\omega$. Par la mécanique quantique, les niveaux d'énergies possibles pour chaque oscillateur harmonique associé à une fréquence angulaire $\\omega$ sont les suivant:\n",
    "\\begin{align*}\n",
    "E_\\nu &= \\hbar \\omega \\left( \\frac{1}{2} + \\nu \\right)\n",
    "\\end{align*}\n",
    "où $\\nu=0, 1, 2, \\ldots$ est le nombre quantique associé à ce degré de liberté et $\\hbar=h/(2\\pi)$ est la constante de Planck réduite."
   ]
  },
  {
   "cell_type": "code",
   "execution_count": null,
   "metadata": {
    "tags": []
   },
   "outputs": [],
   "source": [
    "%matplotlib inline\n",
    "import numpy\n",
    "from matplotlib import pylab as plt\n",
    "k = 0.2\n",
    "m = 50\n",
    "w = numpy.sqrt(k/m) # omega = sqrt(k/m)# omega = sqrt(k/m)\n",
    "x = numpy.linspace(-2, 2, 1000) # correspond do x-x_0\n",
    "V = 0.5 * k * x*x\n",
    "plt.xlabel(r\"$x-x_0$\")\n",
    "plt.xlim(-2, 2)\n",
    "plt.ylabel(r\"$V$\")\n",
    "plt.ylim(0, 0.5)\n",
    "plt.axhline(w/2, color=\"b\", label=\"$E_0$\")\n",
    "plt.axhline(3*w/2, color=\"c\", label=\"$E_1$\")\n",
    "plt.axhline(5*w/2, color=\"r\", label=\"$E_2$\")\n",
    "plt.axhline(7*w/2, color=\"black\", label=\"$E_3$\")\n",
    "plt.axhline(9*w/2, color=\"g\", label=\"$E_4$\")\n",
    "plt.plot(x, V)\n",
    "plt.legend()"
   ]
  },
  {
   "cell_type": "markdown",
   "metadata": {},
   "source": [
    "Pour plus de facilité pour la suite, on va retirer la contribution fixe à l'énergie ($\\hbar \\omega /2$). Cela correspond simplement à redéfinir le zéro d'énergie. Cela n'aura aucune incidence sur la chaleur spécifique qui est une dérivée de l'énergie. Les niveaux d'énergies sont donc donné par:\n",
    "\\begin{align*}\n",
    "E_\\nu &= \\hbar \\omega  \\nu\n",
    "\\end{align*}"
   ]
  },
  {
   "cell_type": "markdown",
   "metadata": {},
   "source": [
    "La population la plus probable des différents niveaux d'énergie à une température $T$ est donné par la distribution de Boltzmann:\n",
    "\\begin{align*}\n",
    "\\frac{N_i}{N} &= \\frac{1}{\\Omega} e^{-\\beta E_i}\n",
    "\\end{align*}\n",
    "où on utilise la notation standard $\\beta = 1/(k_{\\text{B}}T)$.\n",
    "$\\Omega$ est une constante de proportionalité qui fait en sorte que la probabilité totale soit égale à $1$. Cela correspond aussi à la fonction de partition (voir bloc 3):\n",
    "\\begin{align*}\n",
    "\\Omega &= \\sum_{\\nu=0}^{\\infty} e^{- \\beta\\hbar \\omega \\nu }\n",
    "\\end{align*}"
   ]
  },
  {
   "cell_type": "markdown",
   "metadata": {},
   "source": [
    "La fonction de partition correspond à la somme d'une progression géométrique:\n",
    "\\begin{align}\n",
    "\\Omega &= \\sum_{\\nu=0}^{\\infty} e^{- \\beta\\hbar \\omega \\nu } \\nonumber \\\\\n",
    "&= 1 + e^{- \\beta\\hbar \\omega} + e^{- \\beta\\hbar 2\\omega} + e^{- \\beta\\hbar 3\\omega} + \\ldots \\nonumber \\\\\n",
    "&= 1 + \\underbrace{\\left( e^{- \\beta\\hbar \\omega} + e^{- \\beta\\hbar 2\\omega} +  e^{- \\beta\\hbar 3\\omega} + \\ldots \\right)}_{ e^{- \\beta\\hbar \\omega }\\Omega_{1D}} \\nonumber \\\\\n",
    "\\Omega &= \\frac{1}{1-e^{- \\beta\\hbar \\omega }}\n",
    "\\end{align}"
   ]
  },
  {
   "cell_type": "markdown",
   "metadata": {},
   "source": [
    "L'énergie moyenne d'un oscillateur harmonique est la somme des énergies de chacun des niveaux multiplié par leur population:\n",
    "\\begin{align}\n",
    "\\bar{E} &= \\frac{1}{N} \\sum_i N_i E_i\n",
    "= \\frac{1}{\\Omega} \\sum_i E_i e^{-\\beta E_i}\n",
    "\\end{align}\n",
    "\n",
    "Ensuite, on utilise la relation suivante:\n",
    "\\begin{align*}\n",
    "-E_i e^{-\\beta E_i} &= \\frac{\\text{d} (e^{-\\beta E_i})}{\\text{d}\\beta}\n",
    "\\end{align*}\n",
    "\n",
    "On obtient dès lors pour l'énergie moyenne:\n",
    "\\begin{align*}\n",
    "\\bar{E} &= -\\frac{1}{\\Omega} \\sum_i \\frac{\\text{d} e^{-\\beta E_i}}{\\text{d} \\beta}\n",
    "= -\\frac{1}{\\Omega} \\frac{\\text{d}  (\\sum_i e^{-\\beta E_i})}{\\text{d} \\beta}\n",
    "=  -\\frac{1}{\\Omega}  \\frac{\\text{d} \\Omega}{\\text{d} \\beta} \\\\\n",
    "&= - \\left(1-e^{- \\beta\\hbar \\omega}\\right) \\frac{\\text{d}}{\\text{d} \\beta} \\left( \\frac{1}{1-e^{- \\beta\\hbar \\omega }}\\right) \\\\\n",
    "& = \\left(1-e^{- \\beta\\hbar \\omega }\\right)   \\frac{\\hbar \\omega  e^{-\\beta \\hbar \\omega} }{(1-e^{- \\beta\\hbar \\omega })^2} \\\\\n",
    "&= \\hbar \\omega  \\frac{e^{-\\beta \\hbar \\omega}}{1-e^{- \\beta\\hbar \\omega }}\n",
    "=   \\frac{\\hbar \\omega}{e^{\\beta\\hbar \\omega }-1}  %+  \\frac{\\color{red} \\hbar \\color{red}\\omega}{\\color{red}2}\n",
    "\\end{align*}"
   ]
  },
  {
   "cell_type": "markdown",
   "metadata": {},
   "source": [
    "Cette expression est identique à l'expression de l'énergie des différents niveaux de l'oscillateur harmonique à la différence que le nombre quantique $\\nu$ et remplacé par un nombre quantique moyen $\\bar{\\nu}$ donné par la distribution de Planck (aussi appelé facteur d'occupation de Bose):\n",
    "  \\begin{align*}\n",
    "    \\langle \\nu \\rangle\n",
    "    &\n",
    "    = \\frac{1}{e^{\\hbar\\omega/(k_{\\text{B}}T) }-1}\n",
    "  \\end{align*}"
   ]
  },
  {
   "cell_type": "markdown",
   "metadata": {},
   "source": [
    "Quand $T \\rightarrow \\infty$, l'exponentielle peut être approximée $e^x = 1 + x + \\ldots$. On retrouve alors le théorème d'équipartition:\n",
    "\\begin{align*}\n",
    "\\bar{E}\n",
    "&\n",
    "= \\hbar \\omega  \\frac{1}{\\left(1 + \\hbar \\omega /(k_{\\text{B}}T) + \\ldots \\right)-1} \n",
    "\\approx  k_{\\text{B}} T\n",
    "\\end{align*}\n",
    "\n",
    "En effet, l'énergie moyenne d'un oscillateur harmonique contient un terme **d'énergie cinétique** qui, selon le théorème d'équipartition, donne une contribution de $\\frac{1}{2}k_{\\text{B}}T$ et un terme **d'énergie potentielle** ($V=\\frac{1}{2} k (x-x_0)^2$) qui, selon le théorème d'équipartition, donne une contribution de $\\frac{1}{2}k_{\\text{B}}T$. "
   ]
  },
  {
   "cell_type": "markdown",
   "metadata": {},
   "source": [
    "La contribution à la chaleur spécifique à volume constant d'un oscillateur harmonique est donné par la dérivée de sa contribution à l'énergie par rapport à la température:\n",
    "\\begin{align}\n",
    " C_{\\text{v}} &= \\left( \\frac{\\partial U}{\\partial T} \\right)_V = \\left( \\frac{\\partial \\bar{E}}{\\partial T} \\right)_V \n",
    "  = \\left( \\frac{\\partial \\bar{E}}{\\partial \\beta} \\right)_V  \\frac{\\text{d} \\beta}{\\text{d} T}\\nonumber \\\\\n",
    "  &= \\frac{-1}{k_{\\text{B}}T^2} \\left( \\frac{\\partial \\bar{E}}{\\partial \\beta} \\right)_V\n",
    "  = -k_{\\text{B}} \\beta^2 \\left( \\frac{\\partial \\bar{E}}{\\partial \\beta} \\right)_V \\\\\n",
    "  &= -k_{\\text{B}} \\beta^2 \\left( \\frac{\\partial  \\frac{\\hbar \\omega}{e^{\\beta\\hbar \\omega }-1} } {\\partial \\beta} \\right)_V \\\\\n",
    " &= k_{\\text{B}} \\beta^2 \\hbar^2 \\omega^2 \\frac{e^{\\beta\\hbar \\omega }}{\\left( e^{\\beta\\hbar \\omega }-1\\right)^2}   \\\\\n",
    "  &= k_{\\text{B}} \\left(\\frac{\\theta}{T}\\right)^2 \\left(\\frac{ e^{ \\theta / (2T)}}{e^{ \\theta / T} -1} \\right)^2\n",
    "\\end{align}\n",
    "où on introduit la température d'Einstein $\\theta = \\hbar \\omega/k_{\\text{B}} = h c \\bar{\\nu}/k_{\\text{B}} $ qui est charactéristique de l'oscillateur harmonique tout comme $\\omega$.\n",
    "Pour un nombre d'onde $\\bar{\\nu}$ en cm$^{-1}$, $\\theta = 1.43878 \\bar{\\nu}$"
   ]
  },
  {
   "cell_type": "code",
   "execution_count": null,
   "metadata": {},
   "outputs": [],
   "source": [
    "%matplotlib inline\n",
    "import numpy\n",
    "from matplotlib import pylab as plt\n",
    "x = numpy.linspace(0.01, 10, 10000) # correspond à T/theta\n",
    "y = numpy.power(x, -2) * numpy.exp(1/x) / numpy.power((numpy.exp(1/x) - 1), 2) # correspond à Cv / k_B\n",
    "plt.xlabel(r\"$\\dfrac{T}{\\theta}$\")\n",
    "plt.xlim(0, 2)\n",
    "plt.ylim(0, 1)\n",
    "plt.ylabel(r\"$\\dfrac{C_{\\mathrm{v}}}{k_{\\mathrm{B}}}$\")\n",
    "plt.plot(x, y)"
   ]
  },
  {
   "cell_type": "code",
   "execution_count": null,
   "metadata": {},
   "outputs": [],
   "source": [
    "%matplotlib inline\n",
    "import numpy\n",
    "from matplotlib import pylab as plt\n",
    "T=298.15\n",
    "x = numpy.linspace(0.01, 4000, 10000) # correspond à \\bar{\\nu}\n",
    "f = 1/0.6950348004 # cm K =  (hc) / k_B\n",
    "y = numpy.power(x*f/T, 2) * numpy.exp(x*f/T) / numpy.power((numpy.exp(x*f/T) - 1), 2) # correspond à Cv / k_B\n",
    "plt.xlabel(r\"$\\bar{\\nu}$ [cm$^{-1}$]\")\n",
    "plt.xlim(0, 4000)\n",
    "plt.ylim(0, 1)\n",
    "plt.ylabel(r\"$\\dfrac{C_{\\mathrm{v}}}{k_{\\mathrm{B}}}$\")\n",
    "plt.plot(x, y)\n",
    "plt.title(f\"Contribution à la chaleur spécifique en fonction de la fréquence angulaire\\n de l'oscillateur harmonique à une température de {T:.2f}\")"
   ]
  },
  {
   "cell_type": "markdown",
   "metadata": {},
   "source": [
    "On observe sur ce graphique qu'à une température de 298.15 K (25°C), tous les modes ayant une fréquence angulaire supérieure à 1000 cm$^{-1}$ donne une contribution à la chaleur spécifique inférieure à $0.2 k_{\\text{B}}$"
   ]
  },
  {
   "cell_type": "markdown",
   "metadata": {},
   "source": [
    "## Valeurs Expérimentales de chaleur spécifique molaire de gaz diatomiques"
   ]
  },
  {
   "cell_type": "markdown",
   "metadata": {},
   "source": [
    "Voici les valeurs expérimentales de chaleur spécifiques molaire à volume constant $C_{\\text{V,m}}$ en J K$^{-1}$ mol$^{-1}$ de différent gaz diatomiques à deux températures:\n",
    "\n",
    "| Gaz | 25°C | 500 °C | \n",
    "|-----------|-----------|------------|\n",
    "| H$_2$ | 20.6 (5.0) | 21.3 (5.1)|\n",
    "| CO | 20.8 (5.0) | 23.4 (5.6)|\n",
    "| N$_2$ | 20.8 (5.0) | 23.0 (5.5) |\n",
    "| Cl$_2$| 25.7 (6.2) | 28.7 (6.9) |\n",
    "| Br$_2$| 28.1 (6.8) | 29.2 (7.0) |\n",
    "Les valeurs entre parenthèse correspondent à $C_{\\text{V,m}} * 2/R$\n",
    "\n",
    "Note: Les valeurs expérimentales mesurées sont en réalité les chaleurs spécifiques molaire à pression constante ($C_{\\text{p,m}}$). Les valeurs de $C_{\\text{V,m}}$ ci-dessus sont obtenues à partir de la relation $C_{\\text{V,m}} = C_{\\text{p,m}} - R$ qui est exacte si le gaz se comporte comme un gaz parfait."
   ]
  },
  {
   "cell_type": "markdown",
   "metadata": {},
   "source": [
    "Ces valeurs sont comprises entre $C_{\\text{V,m}} = \\frac{5}{2}\n",
    "R=20.8$ J K$^{-1}$ mol$^{-1}$ qui correspond aux contributions des 3 degrés de translation et des 2 degrés de rotation pour chacun $\\frac{1}{2}R$ et $C_{\\text{V,m}} = \\frac{7}{2}R=29.1$ J K$^{-1}$ mol$^{-1}$ où l'on ajoute la contribution du degré de liberté de vibration pour une valeur de $R$ ($\\frac{1}{2}R$ d'énergie cinétique et $\\frac{1}{2}R$ d'énergie potentielle)."
   ]
  },
  {
   "cell_type": "code",
   "execution_count": null,
   "metadata": {},
   "outputs": [],
   "source": []
  }
 ],
 "metadata": {
  "kernelspec": {
   "display_name": "Python 3.8.5 64-bit",
   "name": "python_defaultSpec_1600841287198"
  },
  "language_info": {
   "codemirror_mode": {
    "name": "ipython",
    "version": 3
   },
   "file_extension": ".py",
   "mimetype": "text/x-python",
   "name": "python",
   "nbconvert_exporter": "python",
   "pygments_lexer": "ipython3",
   "version": "3.8.5-final"
  },
  "orig_nbformat": 2
 },
 "nbformat": 4,
 "nbformat_minor": 2
}
